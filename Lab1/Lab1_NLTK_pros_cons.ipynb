{
  "nbformat": 4,
  "nbformat_minor": 0,
  "metadata": {
    "colab": {
      "name": "Lab1_NLTK_pros_cons.ipynb",
      "provenance": []
    },
    "kernelspec": {
      "name": "python3",
      "display_name": "Python 3"
    },
    "language_info": {
      "name": "python"
    }
  },
  "cells": [
    {
      "cell_type": "code",
      "execution_count": 1,
      "metadata": {
        "id": "rs2kAQuuPZIy"
      },
      "outputs": [],
      "source": [
        "import nltk\n",
        "from nltk.corpus import pros_cons\n",
        "import matplotlib.pyplot as plt\n",
        "import random"
      ]
    },
    {
      "cell_type": "code",
      "source": [
        "nltk.download('pros_cons')"
      ],
      "metadata": {
        "colab": {
          "base_uri": "https://localhost:8080/"
        },
        "id": "rqOHwhnkPbP0",
        "outputId": "55adb533-0c51-4b7e-be42-fc8fd4ec3358"
      },
      "execution_count": 2,
      "outputs": [
        {
          "output_type": "stream",
          "name": "stdout",
          "text": [
            "[nltk_data] Downloading package pros_cons to /root/nltk_data...\n",
            "[nltk_data]   Unzipping corpora/pros_cons.zip.\n"
          ]
        },
        {
          "output_type": "execute_result",
          "data": {
            "text/plain": [
              "True"
            ]
          },
          "metadata": {},
          "execution_count": 2
        }
      ]
    },
    {
      "cell_type": "code",
      "source": [
        "pros=pros_cons.words('IntegratedPros.txt')\n",
        "print(pros)\n",
        "print(len(pros))\n",
        "all_pros = pros_cons.sents('IntegratedPros.txt')\n",
        "print(all_pros[100])\n",
        "print(len(all_pros))"
      ],
      "metadata": {
        "colab": {
          "base_uri": "https://localhost:8080/"
        },
        "id": "V2vC2t4mPfJz",
        "outputId": "4657d300-8a2c-45e5-fb29-c83831df6262"
      },
      "execution_count": 3,
      "outputs": [
        {
          "output_type": "stream",
          "name": "stdout",
          "text": [
            "['Easy', 'to', 'use', ',', 'economical', '!', ...]\n",
            "220420\n",
            "['cost', ',', 'easy', 'to', 'use']\n",
            "22940\n"
          ]
        }
      ]
    },
    {
      "cell_type": "code",
      "source": [
        "cons=pros_cons.words('IntegratedCons.txt')\n",
        "print(cons)\n",
        "print(len(cons))\n",
        "all_cons = pros_cons.sents('IntegratedCons.txt')\n",
        "print(all_cons[100])\n",
        "print(len(all_cons))"
      ],
      "metadata": {
        "colab": {
          "base_uri": "https://localhost:8080/"
        },
        "id": "AJkMDqsUPmq7",
        "outputId": "b432d058-9f21-4e14-e89e-3b5f90fef44c"
      },
      "execution_count": 4,
      "outputs": [
        {
          "output_type": "stream",
          "name": "stdout",
          "text": [
            "['East', 'batteries', '!', 'On', '-', 'off', 'switch', ...]\n",
            "199762\n",
            "['printing', 'photos', 'is', 'hard', 'for', 'me']\n",
            "22935\n"
          ]
        }
      ]
    },
    {
      "cell_type": "code",
      "source": [
        "print(\"total Pros: \", len(all_pros))\n",
        "print(\"total Cons: \", len(all_cons))"
      ],
      "metadata": {
        "colab": {
          "base_uri": "https://localhost:8080/"
        },
        "id": "76RgRTTTP0wq",
        "outputId": "1dde8209-fb09-4eed-c633-e67ee6e0a243"
      },
      "execution_count": 5,
      "outputs": [
        {
          "output_type": "stream",
          "name": "stdout",
          "text": [
            "total Pros:  22940\n",
            "total Cons:  22935\n"
          ]
        }
      ]
    },
    {
      "cell_type": "code",
      "source": [
        "print(type(all_pros))\n",
        "print(type(all_pros[10]))"
      ],
      "metadata": {
        "colab": {
          "base_uri": "https://localhost:8080/"
        },
        "id": "PgytydCnP3kj",
        "outputId": "938a7bbc-d32b-4799-e8c4-15605c616f9c"
      },
      "execution_count": 6,
      "outputs": [
        {
          "output_type": "stream",
          "name": "stdout",
          "text": [
            "<class 'nltk.corpus.reader.util.StreamBackedCorpusView'>\n",
            "<class 'list'>\n"
          ]
        }
      ]
    },
    {
      "cell_type": "code",
      "source": [
        "print(all_pros)"
      ],
      "metadata": {
        "colab": {
          "base_uri": "https://localhost:8080/"
        },
        "id": "TbtXj2V5P9Mb",
        "outputId": "aae9ab8d-5faa-40f1-f9ef-9007e309bad7"
      },
      "execution_count": 7,
      "outputs": [
        {
          "output_type": "stream",
          "name": "stdout",
          "text": [
            "[['Easy', 'to', 'use', ',', 'economical', '!'], ['Digital', 'is', 'where', 'it', \"'\", 's', 'at', '...', 'down', 'with', 'developing', 'film', '!'], ...]\n"
          ]
        }
      ]
    },
    {
      "cell_type": "code",
      "source": [
        "fig = plt.figure(figsize=(5,5))\n",
        "\n",
        "labels = 'Pros', 'Cons'\n",
        "sizes= [len(all_pros), len(all_cons)]\n",
        "\n",
        "plt.pie(sizes, labels=labels, autopct='%1.1f%%', shadow=True, startangle=90)\n",
        "\n",
        "plt.axis('equal')\n",
        "plt.show()"
      ],
      "metadata": {
        "colab": {
          "base_uri": "https://localhost:8080/",
          "height": 303
        },
        "id": "tKi0rY0fP-f7",
        "outputId": "663bdba1-ccc5-4da4-c7d4-ed01a46a6dec"
      },
      "execution_count": 8,
      "outputs": [
        {
          "output_type": "display_data",
          "data": {
            "image/png": "[encoded data removed]",
            "text/plain": [
              "<Figure size 360x360 with 1 Axes>"
            ]
          },
          "metadata": {}
        }
      ]
    },
    {
      "cell_type": "code",
      "source": [
        "sentence= all_pros[2543]\n",
        "print(sentence)"
      ],
      "metadata": {
        "colab": {
          "base_uri": "https://localhost:8080/"
        },
        "id": "lpWOCzrLQBCj",
        "outputId": "6fc3687c-95a0-4f14-a781-f7c5bd80d793"
      },
      "execution_count": 9,
      "outputs": [
        {
          "output_type": "stream",
          "name": "stdout",
          "text": [
            "['great', 'zoom', 'feature', ',', 'megapixels', 'improved', ',', 'compact']\n"
          ]
        }
      ]
    },
    {
      "cell_type": "code",
      "source": [
        "nltk.download('stopwords')"
      ],
      "metadata": {
        "colab": {
          "base_uri": "https://localhost:8080/"
        },
        "id": "mVwbDDMVQIq7",
        "outputId": "81b489a1-6dc5-455f-ae0f-4d855e9648fe"
      },
      "execution_count": 10,
      "outputs": [
        {
          "output_type": "stream",
          "name": "stdout",
          "text": [
            "[nltk_data] Downloading package stopwords to /root/nltk_data...\n",
            "[nltk_data]   Unzipping corpora/stopwords.zip.\n"
          ]
        },
        {
          "output_type": "execute_result",
          "data": {
            "text/plain": [
              "True"
            ]
          },
          "metadata": {},
          "execution_count": 10
        }
      ]
    },
    {
      "cell_type": "code",
      "source": [
        "nltk.download('punkt')"
      ],
      "metadata": {
        "colab": {
          "base_uri": "https://localhost:8080/"
        },
        "id": "RS7sTeplQKbj",
        "outputId": "bf00f2a3-cb2c-4a46-9583-99e6208e65cd"
      },
      "execution_count": 11,
      "outputs": [
        {
          "output_type": "stream",
          "name": "stdout",
          "text": [
            "[nltk_data] Downloading package punkt to /root/nltk_data...\n",
            "[nltk_data]   Unzipping tokenizers/punkt.zip.\n"
          ]
        },
        {
          "output_type": "execute_result",
          "data": {
            "text/plain": [
              "True"
            ]
          },
          "metadata": {},
          "execution_count": 11
        }
      ]
    },
    {
      "cell_type": "code",
      "source": [
        "import re  # for regex operations\n",
        "import string\n",
        "\n",
        "from nltk.corpus import stopwords\n",
        "from nltk.stem import PorterStemmer\n",
        "from nltk.tokenize import word_tokenize"
      ],
      "metadata": {
        "id": "18q2TW1jQMQ7"
      },
      "execution_count": 12,
      "outputs": []
    },
    {
      "cell_type": "code",
      "source": [
        "type(sentence)"
      ],
      "metadata": {
        "colab": {
          "base_uri": "https://localhost:8080/"
        },
        "id": "L9AAmJYOQOk0",
        "outputId": "27fcd4f9-f8ba-49e4-80ad-7c6da3cee657"
      },
      "execution_count": 13,
      "outputs": [
        {
          "output_type": "execute_result",
          "data": {
            "text/plain": [
              "list"
            ]
          },
          "metadata": {},
          "execution_count": 13
        }
      ]
    },
    {
      "cell_type": "code",
      "source": [
        "sentence=' '.join(sentence) #converting to string\n",
        "tokens=word_tokenize(sentence)"
      ],
      "metadata": {
        "id": "Uuqx8ZoDQSyj"
      },
      "execution_count": 14,
      "outputs": []
    },
    {
      "cell_type": "code",
      "source": [
        "print('Tokenized string: ')\n",
        "print(tokens)"
      ],
      "metadata": {
        "colab": {
          "base_uri": "https://localhost:8080/"
        },
        "id": "iXwExjLYQVgz",
        "outputId": "14445307-69c1-4751-8950-9c80d0059ee3"
      },
      "execution_count": 15,
      "outputs": [
        {
          "output_type": "stream",
          "name": "stdout",
          "text": [
            "Tokenized string: \n",
            "['great', 'zoom', 'feature', ',', 'megapixels', 'improved', ',', 'compact']\n"
          ]
        }
      ]
    },
    {
      "cell_type": "code",
      "source": [
        "stopwords_english= stopwords.words('english')\n",
        "\n",
        "print('Stop words\\n')\n",
        "print(stopwords_english)\n",
        "print('Punctuation: \\n')\n",
        "print(string.punctuation)"
      ],
      "metadata": {
        "colab": {
          "base_uri": "https://localhost:8080/"
        },
        "id": "gsVaKdLBQaVU",
        "outputId": "146a4243-0401-426d-a5ea-84654f65a526"
      },
      "execution_count": 16,
      "outputs": [
        {
          "output_type": "stream",
          "name": "stdout",
          "text": [
            "Stop words\n",
            "\n",
            "['i', 'me', 'my', 'myself', 'we', 'our', 'ours', 'ourselves', 'you', \"you're\", \"you've\", \"you'll\", \"you'd\", 'your', 'yours', 'yourself', 'yourselves', 'he', 'him', 'his', 'himself', 'she', \"she's\", 'her', 'hers', 'herself', 'it', \"it's\", 'its', 'itself', 'they', 'them', 'their', 'theirs', 'themselves', 'what', 'which', 'who', 'whom', 'this', 'that', \"that'll\", 'these', 'those', 'am', 'is', 'are', 'was', 'were', 'be', 'been', 'being', 'have', 'has', 'had', 'having', 'do', 'does', 'did', 'doing', 'a', 'an', 'the', 'and', 'but', 'if', 'or', 'because', 'as', 'until', 'while', 'of', 'at', 'by', 'for', 'with', 'about', 'against', 'between', 'into', 'through', 'during', 'before', 'after', 'above', 'below', 'to', 'from', 'up', 'down', 'in', 'out', 'on', 'off', 'over', 'under', 'again', 'further', 'then', 'once', 'here', 'there', 'when', 'where', 'why', 'how', 'all', 'any', 'both', 'each', 'few', 'more', 'most', 'other', 'some', 'such', 'no', 'nor', 'not', 'only', 'own', 'same', 'so', 'than', 'too', 'very', 's', 't', 'can', 'will', 'just', 'don', \"don't\", 'should', \"should've\", 'now', 'd', 'll', 'm', 'o', 're', 've', 'y', 'ain', 'aren', \"aren't\", 'couldn', \"couldn't\", 'didn', \"didn't\", 'doesn', \"doesn't\", 'hadn', \"hadn't\", 'hasn', \"hasn't\", 'haven', \"haven't\", 'isn', \"isn't\", 'ma', 'mightn', \"mightn't\", 'mustn', \"mustn't\", 'needn', \"needn't\", 'shan', \"shan't\", 'shouldn', \"shouldn't\", 'wasn', \"wasn't\", 'weren', \"weren't\", 'won', \"won't\", 'wouldn', \"wouldn't\"]\n",
            "Punctuation: \n",
            "\n",
            "!\"#$%&'()*+,-./:;<=>?@[\\]^_`{|}~\n"
          ]
        }
      ]
    },
    {
      "cell_type": "code",
      "source": [
        "print(tokens)\n",
        "\n",
        "sentence_clean= []\n",
        "\n",
        "for word in tokens:\n",
        "  if(word not in stopwords_english and\n",
        "     word not in string.punctuation):\n",
        "    sentence_clean.append(word)\n",
        "\n",
        "print('\\nRemoved stopwords and punctuations: ')\n",
        "print(sentence_clean)"
      ],
      "metadata": {
        "colab": {
          "base_uri": "https://localhost:8080/"
        },
        "id": "Fp-XAIGOQc78",
        "outputId": "83744767-cd08-4591-95c2-7e2d21bdf1e7"
      },
      "execution_count": 17,
      "outputs": [
        {
          "output_type": "stream",
          "name": "stdout",
          "text": [
            "['great', 'zoom', 'feature', ',', 'megapixels', 'improved', ',', 'compact']\n",
            "\n",
            "Removed stopwords and punctuations: \n",
            "['great', 'zoom', 'feature', 'megapixels', 'improved', 'compact']\n"
          ]
        }
      ]
    },
    {
      "cell_type": "code",
      "source": [
        "print(sentence_clean)\n",
        "print()\n",
        "\n",
        "stemmer= PorterStemmer()\n",
        "\n",
        "sentence_stem=[]\n",
        "\n",
        "for word in sentence_clean:\n",
        "  stem_word= stemmer.stem(word)\n",
        "  sentence_stem.append(stem_word)\n",
        "\n",
        "print(\"Stemmed word: \")\n",
        "print(sentence_stem)"
      ],
      "metadata": {
        "colab": {
          "base_uri": "https://localhost:8080/"
        },
        "id": "4yflsAOuQeoU",
        "outputId": "886e0fbf-3904-4ce4-fcae-1aab85aa16f4"
      },
      "execution_count": 18,
      "outputs": [
        {
          "output_type": "stream",
          "name": "stdout",
          "text": [
            "['great', 'zoom', 'feature', 'megapixels', 'improved', 'compact']\n",
            "\n",
            "Stemmed word: \n",
            "['great', 'zoom', 'featur', 'megapixel', 'improv', 'compact']\n"
          ]
        }
      ]
    }
  ]
}