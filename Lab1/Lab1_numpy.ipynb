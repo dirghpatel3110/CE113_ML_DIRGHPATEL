{
  "nbformat": 4,
  "nbformat_minor": 0,
  "metadata": {
    "colab": {
      "name": "Lab1_numpy.ipynb",
      "provenance": [],
      "collapsed_sections": []
    },
    "kernelspec": {
      "name": "python3",
      "display_name": "Python 3"
    },
    "language_info": {
      "name": "python"
    }
  },
  "cells": [
    {
      "cell_type": "markdown",
      "source": [
        "**Lab 1**"
      ],
      "metadata": {
        "id": "-wg8_WPF7xZw"
      }
    },
    {
      "cell_type": "code",
      "execution_count": 1,
      "metadata": {
        "id": "qfzIZxj9sHcZ"
      },
      "outputs": [],
      "source": [
        "import numpy as np\n",
        "\n",
        "nparray = np.array([1,2,3,4,5])\n"
      ]
    },
    {
      "cell_type": "code",
      "source": [
        "print(nparray)"
      ],
      "metadata": {
        "colab": {
          "base_uri": "https://localhost:8080/"
        },
        "id": "oFqYlPWFtGss",
        "outputId": "a363642a-cf0d-44b5-d5cd-e4678219ff7d"
      },
      "execution_count": 2,
      "outputs": [
        {
          "output_type": "stream",
          "name": "stdout",
          "text": [
            "[1 2 3 4 5]\n"
          ]
        }
      ]
    },
    {
      "cell_type": "markdown",
      "source": [
        "**Create a Numpy array of size 4 x 5.**"
      ],
      "metadata": {
        "id": "iuFGvSEG5E43"
      }
    },
    {
      "cell_type": "code",
      "source": [
        "npmatrix = np.array([nparray,nparray,nparray,nparray,nparray])"
      ],
      "metadata": {
        "id": "rtlY_YbStJrb"
      },
      "execution_count": 3,
      "outputs": []
    },
    {
      "cell_type": "code",
      "source": [
        "print(npmatrix)"
      ],
      "metadata": {
        "colab": {
          "base_uri": "https://localhost:8080/"
        },
        "id": "nLkpLZ24tR9D",
        "outputId": "f45c05fc-0891-4ad3-c713-cc11720a6aaa"
      },
      "execution_count": 4,
      "outputs": [
        {
          "output_type": "stream",
          "name": "stdout",
          "text": [
            "[[1 2 3 4 5]\n",
            " [1 2 3 4 5]\n",
            " [1 2 3 4 5]\n",
            " [1 2 3 4 5]\n",
            " [1 2 3 4 5]]\n"
          ]
        }
      ]
    },
    {
      "cell_type": "markdown",
      "source": [
        "**Get the Transpose of the Matrix that you created.**"
      ],
      "metadata": {
        "id": "jJXE7a3e5gI2"
      }
    },
    {
      "cell_type": "code",
      "source": [
        "print(\"Original Matrix 4x5:\")\n",
        "print(npmatrix)\n",
        "print(\"Transpose of Matrix 5x4:\")\n",
        "print(npmatrix.T)"
      ],
      "metadata": {
        "colab": {
          "base_uri": "https://localhost:8080/"
        },
        "id": "svDEn-i_tnRi",
        "outputId": "6f356ba4-2952-4a3d-fab8-abf9bcaebb40"
      },
      "execution_count": 5,
      "outputs": [
        {
          "output_type": "stream",
          "name": "stdout",
          "text": [
            "Original Matrix 4x5:\n",
            "[[1 2 3 4 5]\n",
            " [1 2 3 4 5]\n",
            " [1 2 3 4 5]\n",
            " [1 2 3 4 5]\n",
            " [1 2 3 4 5]]\n",
            "Transpose of Matrix 5x4:\n",
            "[[1 1 1 1 1]\n",
            " [2 2 2 2 2]\n",
            " [3 3 3 3 3]\n",
            " [4 4 4 4 4]\n",
            " [5 5 5 5 5]]\n"
          ]
        }
      ]
    },
    {
      "cell_type": "markdown",
      "source": [
        "**Create a square matrix and find its determinant.**"
      ],
      "metadata": {
        "id": "lVFBoa3b5nyn"
      }
    },
    {
      "cell_type": "code",
      "source": [
        "npmatrix1 = np.array([[1,2,4],\n",
        "                      [4,7,6],\n",
        "                      [2,8,10]])"
      ],
      "metadata": {
        "id": "u_Eu9SfGuIXj"
      },
      "execution_count": 6,
      "outputs": []
    },
    {
      "cell_type": "code",
      "source": [
        "np.linalg.det(npmatrix1)"
      ],
      "metadata": {
        "colab": {
          "base_uri": "https://localhost:8080/"
        },
        "id": "wuou2UV0vSGL",
        "outputId": "105db2c5-eab8-4855-abae-66c8eca0c1d0"
      },
      "execution_count": 7,
      "outputs": [
        {
          "output_type": "execute_result",
          "data": {
            "text/plain": [
              "37.99999999999999"
            ]
          },
          "metadata": {},
          "execution_count": 7
        }
      ]
    },
    {
      "cell_type": "markdown",
      "source": [
        "**Create another matrix of size 5 x *4* and randomly initialize it.**"
      ],
      "metadata": {
        "id": "YZ7De0Jv5tk2"
      }
    },
    {
      "cell_type": "code",
      "source": [
        "npmatrix2 = np.array([[3,6,7,2],\n",
        "                      [10,5,25,18],\n",
        "                      [2,6,9,4],\n",
        "                      [6,9,12,21],\n",
        "                      [1,35,13,15]])\n",
        "npmatrix3 = np.array([[1,3,6,7,2],\n",
        "                      [35,10,5,25,18],\n",
        "                      [13,2,6,9,4],\n",
        "                      [15,6,9,12,21]])"
      ],
      "metadata": {
        "id": "FCZADAdgv-GN"
      },
      "execution_count": 8,
      "outputs": []
    },
    {
      "cell_type": "code",
      "source": [
        "result = np.array([[0,0,0,0],\n",
        "                   [0,0,0,0],\n",
        "                   [0,0,0,0],\n",
        "                   [0,0,0,0],\n",
        "                   ])\n"
      ],
      "metadata": {
        "id": "1OdWB856wVG8"
      },
      "execution_count": 9,
      "outputs": []
    },
    {
      "cell_type": "markdown",
      "source": [
        "**Perform Matrix multiplication.**"
      ],
      "metadata": {
        "id": "GWEyn97P5122"
      }
    },
    {
      "cell_type": "code",
      "source": [
        "result = np.dot(npmatrix2,npmatrix3)\n",
        " \n",
        "for r in result:\n",
        "    print(r)"
      ],
      "metadata": {
        "colab": {
          "base_uri": "https://localhost:8080/"
        },
        "id": "AIYXQ89dxske",
        "outputId": "601409e5-b0a8-4fc7-aa4f-ea3bfd31f2da"
      },
      "execution_count": 10,
      "outputs": [
        {
          "output_type": "stream",
          "name": "stdout",
          "text": [
            "[334  95 108 258 184]\n",
            "[780 238 397 636 588]\n",
            "[389 108 132 293 232]\n",
            "[792 258 342 627 663]\n",
            "[1620  469  394 1179  999]\n"
          ]
        }
      ]
    },
    {
      "cell_type": "markdown",
      "source": [
        "**Perform element wise matrix multiplication.**"
      ],
      "metadata": {
        "id": "0XZb_-iD58sA"
      }
    },
    {
      "cell_type": "code",
      "source": [
        "a = np.array([[1,2,3],\n",
        "              [4,5,6],\n",
        "              [7,8,9]\n",
        "              ])\n",
        "\n",
        "b = np.array([[12,11,3],\n",
        "              [4,9,6],\n",
        "              [5,10,6]\n",
        "              ])"
      ],
      "metadata": {
        "id": "1pnO424s1DaG"
      },
      "execution_count": 11,
      "outputs": []
    },
    {
      "cell_type": "code",
      "source": [
        "print(a*b)"
      ],
      "metadata": {
        "colab": {
          "base_uri": "https://localhost:8080/"
        },
        "id": "o-iTuTgG2nH2",
        "outputId": "94e832e0-4277-4a59-fd9b-532864b02888"
      },
      "execution_count": 12,
      "outputs": [
        {
          "output_type": "stream",
          "name": "stdout",
          "text": [
            "[[12 22  9]\n",
            " [16 45 36]\n",
            " [35 80 54]]\n"
          ]
        }
      ]
    },
    {
      "cell_type": "markdown",
      "source": [
        "**Find mean, median of the numpy array created.**"
      ],
      "metadata": {
        "id": "-8uSMlcz6RYf"
      }
    },
    {
      "cell_type": "code",
      "source": [
        "mean = np.mean(b)\n",
        "median = np.median(b)\n",
        "\n",
        "print(mean)\n",
        "print(median)"
      ],
      "metadata": {
        "colab": {
          "base_uri": "https://localhost:8080/"
        },
        "id": "Imvc8YC_2sq1",
        "outputId": "fb9bf2f0-d6d4-41ec-c906-13dc9b43e019"
      },
      "execution_count": 13,
      "outputs": [
        {
          "output_type": "stream",
          "name": "stdout",
          "text": [
            "7.333333333333333\n",
            "6.0\n"
          ]
        }
      ]
    },
    {
      "cell_type": "markdown",
      "source": [
        " **Obtain each row in the second column of the array.**"
      ],
      "metadata": {
        "id": "WjKa3dPv7o-A"
      }
    },
    {
      "cell_type": "code",
      "source": [
        "for i in range(3):\n",
        "  print(npmatrix1[i][1])\n"
      ],
      "metadata": {
        "colab": {
          "base_uri": "https://localhost:8080/"
        },
        "id": "bMP2H3xs3PpO",
        "outputId": "220d1204-485a-447b-99e6-3e2f5ce73853"
      },
      "execution_count": 14,
      "outputs": [
        {
          "output_type": "stream",
          "name": "stdout",
          "text": [
            "2\n",
            "7\n",
            "8\n"
          ]
        }
      ]
    },
    {
      "cell_type": "markdown",
      "source": [
        "**Convert Numeric entries(columns) of Iris.csv to Mean Centered Version**"
      ],
      "metadata": {
        "id": "10L_7ph2cRdy"
      }
    },
    {
      "cell_type": "code",
      "source": [
        "import numpy as np\n",
        "import pandas as pd\n",
        "import matplotlib.pyplot as plt\n",
        "from google.colab import drive\n",
        "drive.mount('/content/drive')\n",
        "data=pd.read_csv('/content/drive/My Drive/Iris.csv')"
      ],
      "metadata": {
        "colab": {
          "base_uri": "https://localhost:8080/"
        },
        "id": "GqUaTShPbjJC",
        "outputId": "4357e56c-bd8e-40d4-e1ab-e81b42a6a706"
      },
      "execution_count": 15,
      "outputs": [
        {
          "output_type": "stream",
          "name": "stdout",
          "text": [
            "Drive already mounted at /content/drive; to attempt to forcibly remount, call drive.mount(\"/content/drive\", force_remount=True).\n"
          ]
        }
      ]
    },
    {
      "cell_type": "code",
      "source": [
        "print(data - np.mean(data,axis=0))"
      ],
      "metadata": {
        "colab": {
          "base_uri": "https://localhost:8080/"
        },
        "id": "8GKlRkuzbltR",
        "outputId": "cd6cfa2b-2351-45fe-819a-fa64c44dc36e"
      },
      "execution_count": 16,
      "outputs": [
        {
          "output_type": "stream",
          "name": "stdout",
          "text": [
            "       Id  PetalLengthCm  PetalWidthCm  SepalLengthCm  SepalWidthCm Species\n",
            "0   -74.5      -2.358667     -0.998667      -0.743333         0.446     NaN\n",
            "1   -73.5      -2.358667     -0.998667      -0.943333        -0.054     NaN\n",
            "2   -72.5      -2.458667     -0.998667      -1.143333         0.146     NaN\n",
            "3   -71.5      -2.258667     -0.998667      -1.243333         0.046     NaN\n",
            "4   -70.5      -2.358667     -0.998667      -0.843333         0.546     NaN\n",
            "..    ...            ...           ...            ...           ...     ...\n",
            "145  70.5       1.441333      1.101333       0.856667        -0.054     NaN\n",
            "146  71.5       1.241333      0.701333       0.456667        -0.554     NaN\n",
            "147  72.5       1.441333      0.801333       0.656667        -0.054     NaN\n",
            "148  73.5       1.641333      1.101333       0.356667         0.346     NaN\n",
            "149  74.5       1.341333      0.601333       0.056667        -0.054     NaN\n",
            "\n",
            "[150 rows x 6 columns]\n"
          ]
        }
      ]
    },
    {
      "cell_type": "markdown",
      "source": [
        "**Study about numpy array attributes and implement it on the first matrix.**"
      ],
      "metadata": {
        "id": "2VYAhLkxv1Yc"
      }
    },
    {
      "cell_type": "code",
      "source": [
        "print(\"Original Matrix:\")\n",
        "print(npmatrix2)\n",
        "print(\"Reshape Matrix:\")\n",
        "print(npmatrix2.reshape(4,5))\n",
        "print(\"Shape : \", npmatrix2.shape)\n",
        "print(\"Array with elements in range: \")\n",
        "a1 = np.arange(10)\n",
        "print(a1)\n",
        "a1.ndim\n",
        "print(\"ItemSize: \",a1.itemsize)\n",
        "print(\"Data type of a1: \",a1.dtype)"
      ],
      "metadata": {
        "colab": {
          "base_uri": "https://localhost:8080/"
        },
        "id": "0GrTShP7uFBV",
        "outputId": "47f2277c-9ccc-43cd-b6f6-21d00ede49ad"
      },
      "execution_count": 17,
      "outputs": [
        {
          "output_type": "stream",
          "name": "stdout",
          "text": [
            "Original Matrix:\n",
            "[[ 3  6  7  2]\n",
            " [10  5 25 18]\n",
            " [ 2  6  9  4]\n",
            " [ 6  9 12 21]\n",
            " [ 1 35 13 15]]\n",
            "Reshape Matrix:\n",
            "[[ 3  6  7  2 10]\n",
            " [ 5 25 18  2  6]\n",
            " [ 9  4  6  9 12]\n",
            " [21  1 35 13 15]]\n",
            "Shape :  (5, 4)\n",
            "Array with elements in range: \n",
            "[0 1 2 3 4 5 6 7 8 9]\n",
            "ItemSize:  8\n",
            "Data type of a1:  int64\n"
          ]
        }
      ]
    }
  ]
}