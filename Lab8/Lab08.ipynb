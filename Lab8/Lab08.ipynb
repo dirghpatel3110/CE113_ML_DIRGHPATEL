{
  "cells": [
    {
      "cell_type": "code",
      "execution_count": 20,
      "metadata": {
        "id": "Mm-xt5XRCy_6"
      },
      "outputs": [],
      "source": [
        "from sklearn.feature_extraction.text import CountVectorizer\n",
        "import pandas as pd\n",
        "from sklearn.model_selection import train_test_split\n",
        "from sklearn.naive_bayes import MultinomialNB"
      ]
    },
    {
      "cell_type": "code",
      "execution_count": 21,
      "metadata": {
        "colab": {
          "base_uri": "https://localhost:8080/"
        },
        "id": "O6Urg0yYIM6X",
        "outputId": "ff36cd6f-fb58-48c7-dda8-110f85f4d84e"
      },
      "outputs": [
        {
          "name": "stdout",
          "output_type": "stream",
          "text": [
            "Drive already mounted at /content/MyDrive; to attempt to forcibly remount, call drive.mount(\"/content/MyDrive\", force_remount=True).\n"
          ]
        }
      ],
      "source": [
        "from google.colab import drive\n",
        "drive.mount('/content/MyDrive')"
      ]
    },
    {
      "cell_type": "code",
      "execution_count": 22,
      "metadata": {
        "colab": {
          "base_uri": "https://localhost:8080/",
          "height": 423
        },
        "id": "CfxT68YOIuCX",
        "outputId": "e91e3807-8173-4652-f1f5-6e55b298250f"
      },
      "outputs": [
        {
          "data": {
            "text/html": [
              "\n",
              "  <div id=\"df-460e4598-47e8-4316-b940-5040c5a40ab4\">\n",
              "    <div class=\"colab-df-container\">\n",
              "      <div>\n",
              "<style scoped>\n",
              "    .dataframe tbody tr th:only-of-type {\n",
              "        vertical-align: middle;\n",
              "    }\n",
              "\n",
              "    .dataframe tbody tr th {\n",
              "        vertical-align: top;\n",
              "    }\n",
              "\n",
              "    .dataframe thead th {\n",
              "        text-align: right;\n",
              "    }\n",
              "</style>\n",
              "<table border=\"1\" class=\"dataframe\">\n",
              "  <thead>\n",
              "    <tr style=\"text-align: right;\">\n",
              "      <th></th>\n",
              "      <th>v1</th>\n",
              "      <th>v2</th>\n",
              "    </tr>\n",
              "  </thead>\n",
              "  <tbody>\n",
              "    <tr>\n",
              "      <th>0</th>\n",
              "      <td>spam</td>\n",
              "      <td>Free entry in 2 a wkly comp to win FA Cup fina...</td>\n",
              "    </tr>\n",
              "    <tr>\n",
              "      <th>1</th>\n",
              "      <td>spam</td>\n",
              "      <td>FreeMsg Hey there darling it's been 3 week's n...</td>\n",
              "    </tr>\n",
              "    <tr>\n",
              "      <th>2</th>\n",
              "      <td>spam</td>\n",
              "      <td>WINNER!! As a valued network customer you have...</td>\n",
              "    </tr>\n",
              "    <tr>\n",
              "      <th>3</th>\n",
              "      <td>spam</td>\n",
              "      <td>Had your mobile 11 months or more? U R entitle...</td>\n",
              "    </tr>\n",
              "    <tr>\n",
              "      <th>4</th>\n",
              "      <td>spam</td>\n",
              "      <td>SIX chances to win CASH! From 100 to 20,000 po...</td>\n",
              "    </tr>\n",
              "    <tr>\n",
              "      <th>...</th>\n",
              "      <td>...</td>\n",
              "      <td>...</td>\n",
              "    </tr>\n",
              "    <tr>\n",
              "      <th>508</th>\n",
              "      <td>spam</td>\n",
              "      <td>This is the 2nd time we have tried 2 contact u...</td>\n",
              "    </tr>\n",
              "    <tr>\n",
              "      <th>509</th>\n",
              "      <td>ham</td>\n",
              "      <td>Will �_ b going to esplanade fr home?</td>\n",
              "    </tr>\n",
              "    <tr>\n",
              "      <th>510</th>\n",
              "      <td>ham</td>\n",
              "      <td>Pity, * was in mood for that. So...any other s...</td>\n",
              "    </tr>\n",
              "    <tr>\n",
              "      <th>511</th>\n",
              "      <td>ham</td>\n",
              "      <td>The guy did some bitching but I acted like i'd...</td>\n",
              "    </tr>\n",
              "    <tr>\n",
              "      <th>512</th>\n",
              "      <td>ham</td>\n",
              "      <td>Rofl. Its true to its name</td>\n",
              "    </tr>\n",
              "  </tbody>\n",
              "</table>\n",
              "<p>513 rows × 2 columns</p>\n",
              "</div>\n",
              "      <button class=\"colab-df-convert\" onclick=\"convertToInteractive('df-460e4598-47e8-4316-b940-5040c5a40ab4')\"\n",
              "              title=\"Convert this dataframe to an interactive table.\"\n",
              "              style=\"display:none;\">\n",
              "        \n",
              "  <svg xmlns=\"http://www.w3.org/2000/svg\" height=\"24px\"viewBox=\"0 0 24 24\"\n",
              "       width=\"24px\">\n",
              "    <path d=\"M0 0h24v24H0V0z\" fill=\"none\"/>\n",
              "    <path d=\"M18.56 5.44l.94 2.06.94-2.06 2.06-.94-2.06-.94-.94-2.06-.94 2.06-2.06.94zm-11 1L8.5 8.5l.94-2.06 2.06-.94-2.06-.94L8.5 2.5l-.94 2.06-2.06.94zm10 10l.94 2.06.94-2.06 2.06-.94-2.06-.94-.94-2.06-.94 2.06-2.06.94z\"/><path d=\"M17.41 7.96l-1.37-1.37c-.4-.4-.92-.59-1.43-.59-.52 0-1.04.2-1.43.59L10.3 9.45l-7.72 7.72c-.78.78-.78 2.05 0 2.83L4 21.41c.39.39.9.59 1.41.59.51 0 1.02-.2 1.41-.59l7.78-7.78 2.81-2.81c.8-.78.8-2.07 0-2.86zM5.41 20L4 18.59l7.72-7.72 1.47 1.35L5.41 20z\"/>\n",
              "  </svg>\n",
              "      </button>\n",
              "      \n",
              "  <style>\n",
              "    .colab-df-container {\n",
              "      display:flex;\n",
              "      flex-wrap:wrap;\n",
              "      gap: 12px;\n",
              "    }\n",
              "\n",
              "    .colab-df-convert {\n",
              "      background-color: #E8F0FE;\n",
              "      border: none;\n",
              "      border-radius: 50%;\n",
              "      cursor: pointer;\n",
              "      display: none;\n",
              "      fill: #1967D2;\n",
              "      height: 32px;\n",
              "      padding: 0 0 0 0;\n",
              "      width: 32px;\n",
              "    }\n",
              "\n",
              "    .colab-df-convert:hover {\n",
              "      background-color: #E2EBFA;\n",
              "      box-shadow: 0px 1px 2px rgba(60, 64, 67, 0.3), 0px 1px 3px 1px rgba(60, 64, 67, 0.15);\n",
              "      fill: #174EA6;\n",
              "    }\n",
              "\n",
              "    [theme=dark] .colab-df-convert {\n",
              "      background-color: #3B4455;\n",
              "      fill: #D2E3FC;\n",
              "    }\n",
              "\n",
              "    [theme=dark] .colab-df-convert:hover {\n",
              "      background-color: #434B5C;\n",
              "      box-shadow: 0px 1px 3px 1px rgba(0, 0, 0, 0.15);\n",
              "      filter: drop-shadow(0px 1px 2px rgba(0, 0, 0, 0.3));\n",
              "      fill: #FFFFFF;\n",
              "    }\n",
              "  </style>\n",
              "\n",
              "      <script>\n",
              "        const buttonEl =\n",
              "          document.querySelector('#df-460e4598-47e8-4316-b940-5040c5a40ab4 button.colab-df-convert');\n",
              "        buttonEl.style.display =\n",
              "          google.colab.kernel.accessAllowed ? 'block' : 'none';\n",
              "\n",
              "        async function convertToInteractive(key) {\n",
              "          const element = document.querySelector('#df-460e4598-47e8-4316-b940-5040c5a40ab4');\n",
              "          const dataTable =\n",
              "            await google.colab.kernel.invokeFunction('convertToInteractive',\n",
              "                                                     [key], {});\n",
              "          if (!dataTable) return;\n",
              "\n",
              "          const docLinkHtml = 'Like what you see? Visit the ' +\n",
              "            '<a target=\"_blank\" href=https://colab.research.google.com/notebooks/data_table.ipynb>data table notebook</a>'\n",
              "            + ' to learn more about interactive tables.';\n",
              "          element.innerHTML = '';\n",
              "          dataTable['output_type'] = 'display_data';\n",
              "          await google.colab.output.renderOutput(dataTable, element);\n",
              "          const docLink = document.createElement('div');\n",
              "          docLink.innerHTML = docLinkHtml;\n",
              "          element.appendChild(docLink);\n",
              "        }\n",
              "      </script>\n",
              "    </div>\n",
              "  </div>\n",
              "  "
            ],
            "text/plain": [
              "       v1                                                 v2\n",
              "0    spam  Free entry in 2 a wkly comp to win FA Cup fina...\n",
              "1    spam  FreeMsg Hey there darling it's been 3 week's n...\n",
              "2    spam  WINNER!! As a valued network customer you have...\n",
              "3    spam  Had your mobile 11 months or more? U R entitle...\n",
              "4    spam  SIX chances to win CASH! From 100 to 20,000 po...\n",
              "..    ...                                                ...\n",
              "508  spam  This is the 2nd time we have tried 2 contact u...\n",
              "509   ham              Will �_ b going to esplanade fr home?\n",
              "510   ham  Pity, * was in mood for that. So...any other s...\n",
              "511   ham  The guy did some bitching but I acted like i'd...\n",
              "512   ham                         Rofl. Its true to its name\n",
              "\n",
              "[513 rows x 2 columns]"
            ]
          },
          "execution_count": 22,
          "metadata": {},
          "output_type": "execute_result"
        }
      ],
      "source": [
        "dataset=pd.read_csv('/content/MyDrive/MyDrive/spam1.csv')\n",
        "dataset"
      ]
    },
    {
      "cell_type": "code",
      "execution_count": 23,
      "metadata": {
        "id": "6kJj75BGJchu"
      },
      "outputs": [],
      "source": [
        "stopwords = [ \"a\", \"about\", \"above\", \"after\", \"again\", \"against\", \"all\", \"am\",\n",
        "\"an\", \"and\", \"any\", \"are\", \"as\", \"at\", \"be\", \"because\", \"been\", \"before\",\n",
        "\"being\", \"below\", \"between\", \"both\", \"but\", \"by\", \"could\", \"did\", \"do\",\n",
        "\"does\", \"doing\", \"down\", \"during\", \"each\", \"few\", \"for\", \"from\", \"further\",\n",
        "\"had\", \"has\", \"have\", \"having\", \"he\", \"he'd\", \"he'll\", \"he's\", \"her\", \"here\",\n",
        "\"here's\", \"hers\", \"herself\", \"him\", \"himself\", \"his\", \"how\", \"how's\", \"i\",\n",
        "\"i'd\", \"i'll\", \"i'm\", \"i've\", \"if\", \"in\", \"into\", \"is\", \"it\", \"it's\", \"its\",\n",
        "\"itself\", \"let's\", \"me\", \"more\", \"most\", \"my\", \"myself\", \"nor\", \"of\", \"on\",\n",
        "\"once\", \"only\", \"or\", \"other\", \"ought\", \"our\", \"ours\", \"ourselves\", \"out\",\n",
        "\"over\", \"own\", \"same\", \"she\", \"she'd\", \"she'll\", \"she's\", \"should\", \"so\",\n",
        "\"some\", \"such\", \"than\", \"that\", \"that's\", \"the\", \"their\", \"theirs\", \"them\",\n",
        "\"themselves\", \"then\", \"there\", \"there's\", \"these\", \"they\", \"they'd\",\n",
        "\"they'll\", \"they're\", \"they've\", \"this\", \"those\", \"through\", \"to\", \"too\",\n",
        "\"under\", \"until\", \"up\", \"very\", \"was\", \"we\", \"we'd\", \"we'll\", \"we're\",\n",
        "\"we've\", \"were\", \"what\", \"what's\", \"when\", \"when's\", \"where\", \"where's\",\n",
        "\"which\", \"while\", \"who\", \"who's\", \"whom\", \"why\", \"why's\", \"with\", \"would\",\n",
        "\"you\", \"you'd\", \"you'll\", \"you're\", \"you've\", \"your\", \"yours\", \"yourself\",\n",
        "\"yourselves\" ]"
      ]
    },
    {
      "cell_type": "code",
      "execution_count": 24,
      "metadata": {
        "colab": {
          "base_uri": "https://localhost:8080/"
        },
        "id": "3EmRV8SWKgOt",
        "outputId": "9988ec1c-8a7a-4818-d072-4a94313c6f49"
      },
      "outputs": [
        {
          "name": "stdout",
          "output_type": "stream",
          "text": [
            "CountVectorizer(stop_words=['a', 'about', 'above', 'after', 'again', 'against',\n",
            "                            'all', 'am', 'an', 'and', 'any', 'are', 'as', 'at',\n",
            "                            'be', 'because', 'been', 'before', 'being', 'below',\n",
            "                            'between', 'both', 'but', 'by', 'could', 'did',\n",
            "                            'do', 'does', 'doing', 'down', ...])\n"
          ]
        }
      ],
      "source": [
        "cv=CountVectorizer(stop_words=stopwords)\n",
        "print(cv)"
      ]
    },
    {
      "cell_type": "code",
      "execution_count": 25,
      "metadata": {
        "colab": {
          "base_uri": "https://localhost:8080/"
        },
        "id": "o4n47edQMuCM",
        "outputId": "e31f49c1-f370-4fcb-b2a5-ac1ad05555b7"
      },
      "outputs": [
        {
          "name": "stdout",
          "output_type": "stream",
          "text": [
            "['00', '000', '0121', '02', '0207', '02073162414', '021', '03', '04', '050703', '0578', '06', '07', '07046744435', '07123456789', '0721072', '07732584351', '07742676969', '07753741225', '07781482378', '07808', '07808247860', '07815296484', '07821230901', '07880867867', '07946746291', '08', '0800', '08000407165', '08000839402', '08000930705', '08000938767', '08002888812', '08002986030', '08002986906', '08002988890', '0808', '0825', '0844', '08448350055', '0845', '08452810071', '08452810075over18', '0870', '08700621170150p', '08701417012', '087018728737', '08702840625', '08704439680ts', '08706091795', '08708800282', '08709222922', '0871', '08712300220', '08712402050', '08712404000', '08712460324', '0871277810810', '0871277810910p', '08714712388', '08714712394', '08715203677', '08715203694', '08715705022', '08717205546', '08717898035', '08718711108', '08718720201', '087187262701', '087187272008', '08718727868', '08718727870', '08718738001', '08719180248', '08719899217', '08719899229', '09', '09050000332', '09050001808', '09050002311', '09050005321', '09057039994', '09058094455', '09058094565', '09058094583', '09058094597', '09061104283', '09061209465', '09061221061', '09061701461', '09061701939', '09061743806', '09061749602', '09063440451', '09064011000', '09064012160', '09064017295', '09064019014', '09064019788', '09065171142', '09065174042', '09066350750', '09066364589', '09066368327', '09066382422', '09071512433', '09111032124', '10', '100', '1000', '100p', '100percent', '10am', '10k', '10p', '10ppm', '11', '114', '11mths', '11pm', '12', '123', '1250', '125gift', '12hrs', '14', '145', '1450', '14thmarch', '15', '150', '1500', '150p', '150pm', '150ppm', '150ppmsg', '150pw', '153', '16', '169', '18', '1956669', '1da', '1million', '1st', '1x150p', '1yf', '20', '200', '2000', '2003', '2004', '2005', '2025050', '20p', '21', '21st', '22', '220', '24', '24hrs', '25', '250', '25p', '26', '2667', '26th', '28', '2814032', '28days', '28thfeb', '2kbsubject', '2lands', '2morow', '2morrowxxxx', '2mrw', '2nd', '2nite', '2optout', '2p', '2stop', '2u2', '2wt', '2yr', '2yrs', '30', '300603', '3030', '30th', '31', '31p', '32', '32000', '33', '350', '3650', '36504', '3680', '3aj', '3hrs', '3mins', '3mobile', '3qxj9', '3ss', '3uz', '3x', '3xx', '40', '4041', '40411', '40533', '40gb', '41685', '41782', '42478', '434', '4403ldnw1a7rw18', '447801259231', '448712404000', '449071512431', '45', '45239', '4742', '4882', '49557', '4eva', '4get', '4jx', '4mths', '4t', '4txt', '4u', '50', '500', '5000', '50gbp', '50p', '50perwksub', '50pm', '50pmmorefrommobile2bremoved', '528', '542', '5k', '5mls', '5p', '5we', '6031', '62468', '69698', '69876', '69888', '69888nyt', '69988', '6days', '6months', '75', '750', '7548', '786', '79', '7pm', '800', '80062', '8007', '80086', '8077', '80878', '81010', '81151', '81618', '820554ad0a1705572711', '82277', '82324', '82468', '83110', '83222', '83338', '83355', '83600', '84', '85', '85023', '85069', '85222', '861', '86688', '86888', '87066', '87070', '87077', '87121', '87131', '872', '87575', '88039', '88222', '88600', '88800', '89034', '89545', '89555', '89693', '8ball', '8p', '8wp', '900', '9153', '9755', '99', '9996', '9ae', '9am', '9pm', 'aah', 'aberdeen', 'absolutely', 'absolutly', 'ac', 'access', 'accidentally', 'account', 'aco', 'acted', 'activate', 'ad', 'adam', 'address', 'admirer', 'adress', 'ads', 'adventuring', 'advise', 'afternoon', 'ag', 'age', 'age16', 'ah', 'aha', 'aight', 'aiyah', 'aiyo', 'ajith', 'alaikkum', 'album', 'alertfrom', 'alerts', 'alex', 'alfie', 'algarve', 'almost', 'alone', 'already', 'alright', 'also', 'always', 'amount', 'amp', 'amt', 'amused', 'angry', 'annoncement', 'announcement', 'another', 'ansr', 'answer', 'answering', 'anyone', 'anyones', 'anything', 'anytime', 'anyway', 'apo', 'app', 'apparently', 'applausestore', 'apply', 'approx', 'aquarius', 'ard', 'area', 'aren', 'areyouunique', 'aries', 'arm', 'armand', 'around', 'arrange', 'arun', 'asap', 'asda', 'ask', 'askd', 'asked', 'askin', 'asleep', 'ass', 'assessment', 'attached', 'attempt', 'attention', 'audition', 'august', 'availa', 'available', 'ave', 'await', 'awake', 'award', 'awarded', 'away', 'awkward', 'ayn', 'b4', 'b4280703', 'babe', 'babes', 'baby', 'back', 'bad', 'bags', 'bailiff', 'balance', 'bangb', 'bangbabes', 'barbie', 'barely', 'barring', 'basically', 'bb', 'bcm4284', 'beautiful', 'becoz', 'bed', 'bedroom', 'beendropping', 'believe', 'bell', 'belt', 'best', 'better', 'bffs', 'bid', 'big', 'bill', 'biola', 'birds', 'birthday', 'bit', 'bitching', 'biz', 'bless', 'blessings', 'blind', 'bluetooth', 'boatin', 'bold', 'boltblue', 'bong', 'bonus', 'boobs', 'book', 'booked', 'bookmark', 'books', 'booty', 'bootydelious', 'bored', 'boring', 'bother', 'bottle', 'bought', 'boundaries', 'box', 'box1146', 'box177', 'box326', 'box334', 'box403', 'box42wr29c', 'box95qu', 'boy', 'boytoy', 'brain', 'bread', 'break', 'breaks', 'bright', 'bring', 'britney', 'brolly', 'broth', 'brothas', 'brother', 'brought', 'bruce', 'bt', 'bubbletext', 'bucks', 'bud', 'budget', 'bulbs', 'burns', 'bus', 'business', 'busy', 'buy', 'buying', 'bx420', 'cafe', 'cal', 'calculation', 'california', 'call', 'call09050000327', 'call2optout', 'callback', 'callcost', 'called', 'caller', 'calling', 'calls', 'camcorder', 'camera', 'can', 'cant', 'car', 'card', 'care', 'career', 'carly', 'caroline', 'carry', 'cars', 'cash', 'cashto', 'cbe', 'cc', 'cd', 'cds', 'celebration', 'cell', 'centre', 'cha', 'champneys', 'chance', 'chances', 'change', 'changed', 'channel', 'chaps', 'character', 'charge', 'charged', 'charity', 'chart', 'chat', 'chatlines', 'cheap', 'cheaper', 'chechi', 'check', 'checking', 'cheers', 'chennai', 'chex', 'chgs', 'chic', 'chick', 'chicken', 'chief', 'chikku', 'childish', 'childporn', 'children', 'choose', 'choosing', 'chuck', 'cinema', 'citizen', 'city', 'claim', 'claimcode', 'claims', 'class', 'clearly', 'click', 'close', 'closingdate04', 'club', 'club4', 'club4mobiles', 'clubsaisai', 'cm2', 'cnupdates', 'co', 'coast', 'code', 'colany', 'colleagues', 'collect', 'collected', 'collection', 'college', 'colour', 'com', 'com1win150ppmx3age16', 'come', 'comes', 'coming', 'command', 'common', 'community', 'comp', 'company', 'competition', 'complete', 'completely', 'complimentary', 'compliments', 'comuk', 'conditions', 'confirm', 'confirmed', 'congrats', 'congratulations', 'considering', 'constantly', 'contact', 'contacted', 'content', 'contract', 'cooked', 'cool', 'cops', 'correct', 'correctly', 'cos', 'cost', 'costs', 'costume', 'country', 'counts', 'couple', 'course', 'cover', 'cr01327bt', 'craigslist', 'craziest', 'crazy', 'cream', 'credit', 'credits', 'cribbs', 'cs', 'csbcm4235wc1n3xx', 'csc', 'csh11', 'ctxt', 'cup', 'currently', 'cust', 'custcare', 'custom', 'customer', 'cut', 'cw25wx', 'da', 'dad', 'daddy', 'dai', 'daily', 'darlin', 'darling', 'darren', 'dat', 'date', 'dates', 'dating', 'dave', 'day', 'days', 'dbuk', 'deal', 'dealing', 'dear', 'december', 'decided', 'deck', 'declare', 'deep', 'delivery', 'den', 'derek', 'desk', 'details', 'detroit', 'devils', 'devouring', 'dhoni', 'didn', 'didnt', 'die', 'diet', 'diff', 'difference', 'different', 'difficult', 'difficulties', 'digital', 'dinner', 'direct', 'dis', 'disappointment', 'discount', 'discreet', 'divorce', 'dizzee', 'dob', 'docks', 'doesnt', 'dog', 'dogging', 'doin', 'doit', 'don', 'done', 'donno', 'dont', 'double', 'doubt', 'download', 'downloaded', 'draw', 'dreading', 'dream', 'dreams', 'dress', 'drink', 'drive', 'driving', 'drms', 'drop', 'drugs', 'drvgsto', 'dude', 'due', 'dull', 'dump', 'dun', 'dunno', 'durban', 'dvd', 'earlier', 'earn', 'east', 'easy', 'eat', 'eaten', 'ec2a', 'effect', 'efreefone', 'eg', 'egg', 'eggs', 'eight', 'either', 'elaine', 'else', 'em', 'email', 'end', 'ending', 'endless', 'ends', 'england', 'english', 'enjoy', 'enough', 'entered', 'entitled', 'entry', 'entry41', 'epsilon', 'er', 'ericsson', 'ese', 'especially', 'esplanade', 'etc', 'euro2004', 'eurodisinc', 'eve', 'even', 'evening', 'ever', 'every', 'everybody', 'everything', 'evrey', 'ex', 'exactly', 'exam', 'exams', 'excellent', 'except', 'exe', 'exmpel', 'expires', 'explicit', 'expressoffer', 'extra', 'f4q', 'fa', 'fab', 'face', 'facebook', 'fall', 'family', 'fancy', 'fantastic', 'far', 'fault', 'favorite', 'feb', 'feel', 'feeling', 'feels', 'fell', 'female', 'fighting', 'fights', 'figure', 'file', 'filling', 'film', 'filthy', 'final', 'find', 'fine', 'finish', 'finishd', 'finished', 'first', 'fit', 'five', 'fix', 'fixed', 'fixedline', 'flat', 'flew', 'flights', 'flirt', 'flyng', 'fml', 'fne', 'folks', 'followed', 'following', 'foned', 'food', 'foregate', 'forget', 'forgot', 'forgt', 'forms', 'forwarded', 'found', 'foward', 'fr', 'franxx', 'free', 'freemsg', 'freephone', 'friend', 'friends', 'friendship', 'frm', 'frnd', 'front', 'fuck', 'full', 'fun', 'funeral', 'funky', 'fyi', 'g2', 'gage', 'gal', 'gamb', 'game', 'games', 'garbage', 'garden', 'gas', 'gastroenteritis', 'gave', 'gay', 'gaytextbuddy', 'gbp', 'gbp1', 'gd', 'ge', 'generally', 'genes', 'gent', 'gentle', 'genuine', 'germany', 'get', 'get4an18th', 'getstop', 'getting', 'getzed', 'gift', 'girl', 'girlfrnd', 'girls', 'gist', 'giv', 'give', 'giving', 'gn', 'go', 'go2', 'goals', 'god', 'goes', 'goin', 'going', 'gone', 'gonna', 'good', 'goodnight', 'gossip', 'got', 'goto', 'gr8', 'grace', 'grahmbell', 'gravel', 'great', 'grins', 'group', 'gsex', 'gt', 'guai', 'guaranteed', 'gud', 'guess', 'guidance', 'guy', 'guys', 'gving', 'gym', 'haf', 'hahaha', 'hai', 'half', 'hand', 'handed', 'handle', 'handset', 'hannaford', 'happened', 'happiness', 'happy', 'hard', 'hardcore', 'hat', 'hate', 'hav', 'haven', 'havent', 'head', 'heap', 'hear', 'heart', 'heaven', 'hee', 'hello', 'helloooo', 'help', 'helping', 'helpline', 'helps', 'hey', 'hg', 'hi', 'hide', 'hill', 'hl', 'hmm', 'hmmmm', 'hmv', 'hockey', 'holby', 'hold', 'holder', 'holiday', 'hols', 'home', 'homeowners', 'hope', 'hopefully', 'horny', 'horo', 'horrible', 'hot', 'hour', 'hours', 'house', 'hows', 'hp20', 'hr', 'http', 'hu', 'huge', 'huh', 'hurts', 'iam', 'ibhltd', 'ibiza', 'ic', 'ice', 'icmb3cktz8r7', 'id', 'identification', 'identifier', 'ignore', 'ill', 'illness', 'im', 'img', 'immediately', 'important', 'improve', 'inc', 'inclu', 'inclusive', 'incorrect', 'index', 'india', 'indian', 'indians', 'influx', 'info', 'inside', 'installing', 'interested', 'internet', 'inviting', 'invnted', 'iouri', 'ip4', 'ipod', 'iq', 'irritation', 'island', 'isn', 'ive', 'jacket', 'jackpot', 'jada', 'jam', 'jamz', 'jane', 'january', 'jay', 'jeri', 'jerk', 'jersey', 'jesus', 'jiu', 'job', 'jogging', 'join', 'joined', 'joking', 'jolly', 'journey', 'joy', 'jst', 'jsut', 'juicy', 'july', 'jumpers', 'june', 'jus', 'just', 'juswoke', 'juz', 'k52', 'kane', 'kate', 'keep', 'keeps', 'ken', 'kept', 'keys', 'kick', 'kidz', 'kind', 'kingdom', 'kiss', 'kisses', 'kl341', 'knackered', 'knew', 'know', 'knw', 'konw', 'kothi', 'kusruthi', 'l8er', 'l8r', 'la', 'lab', 'ladies', 'laid', 'lamp', 'land', 'landline', 'lands', 'lapdancer', 'lar', 'largest', 'last', 'lastest', 'late', 'lately', 'later', 'latest', 'laugh', 'laughing', 'law', 'lccltd', 'ldew', 'ldn', 'ldnw15h', 'least', 'leave', 'leaving', 'lecturer', 'left', 'leg', 'legitimat', 'leh', 'lei', 'lessons', 'let', 'lets', 'letter', 'letters', 'li', 'liao', 'libertines', 'life', 'lifetime', 'lift', 'light', 'lik', 'like', 'limit', 'limiting', 'line', 'lines', 'link', 'listen', 'little', 'live', 'liverpool', 'living', 'll', 'loan', 'local', 'locations', 'login', 'logo', 'lol', 'london', 'long', 'longer', 'look', 'looked', 'looking', 'lor', 'loss', 'lot', 'lotta', 'loud', 'lovable', 'love', 'lover', 'loves', 'loving', 'low', 'lowes', 'loyalty', 'ls1', 'lst', 'lt', 'ltd', 'luck', 'lucky', 'lunch', 'luv', 'lux', 'm221bp', 'm26', 'm263uz', 'm39m51', 'm8s', 'm95', 'macedonia', 'machan', 'macho', 'mad', 'made', 'mah', 'maintaining', 'make', 'makes', 'making', 'malaria', 'male', 'man', 'many', 'marandratha', 'march', 'margaret', 'market', 'marley', 'marvel', 'masters', 'match', 'matches', 'mate', 'mates', 'matrix3', 'matter', 'matthew', 'matured', 'max', 'max6', 'maximize', 'may', 'mayb', 'maybe', 'meaning', 'means', 'meant', 'measure', 'meds', 'meet', 'meeting', 'mega', 'mei', 'member', 'membership', 'men', 'mentor', 'menu', 'message', 'messages', 'messenger', 'met', 'mid', 'middle', 'midnight', 'might', 'miles', 'min', 'mind', 'mine', 'minimum', 'mins', 'minute', 'miracle', 'miss', 'missed', 'missing', 'misundrstud', 'mite', 'mitsake', 'mix', 'mk45', 'mmm', 'mnth', 'mnths', 'moan', 'mob', 'mobile', 'mobiles', 'mobilesdirect', 'mobilesvary', 'mobileupd8', 'mobno', 'mobypobox734ls27yf', 'mode', 'model', 'mokka', 'mom', 'moment', 'moments', 'mon', 'money', 'mono', 'month', 'monthlysubscription', 'months', 'mood', 'moon', 'moral', 'morefrmmob', 'morning', 'motor', 'motorola', 'mouse', 'moving', 'mp3', 'mr', 'mrng', 'mrt', 'msg', 'msgs', 'mtmsg', 'mtmsg18', 'mtmsgrcvd18', 'muah', 'much', 'mum', 'mumhas', 'mummy', 'music', 'must', 'musta', 'muz', 'mymoby', 'mystery', 'n9dx', 'na', 'naked', 'name', 'name1', 'name2', 'names', 'national', 'naughty', 'navigate', 'nd', 'necessarily', 'need', 'needs', 'negative', 'neither', 'net', 'netcollex', 'network', 'networks', 'neva', 'new', 'newest', 'news', 'newsletter', 'next', 'ni8', 'nice', 'nichols', 'nigeria', 'night', 'nights', 'nite', 'no', 'no1', 'nokia', 'nokia6650', 'nokias', 'nookii', 'nope', 'norm150p', 'normal', 'not', 'nothing', 'notice', 'notifications', 'notxt', 'now', 'now1', 'nt', 'ntt', 'number', 'numbers', 'nyt', 'o2', 'obviously', 'ofcourse', 'off', 'offer', 'offers', 'office', 'officer', 'official', 'oh', 'ok', 'okay', 'okie', 'okmail', 'old', 'one', 'ones', 'oni', 'online', 'onwards', 'ooooooh', 'open', 'openings', 'operator', 'opinion', 'opportunity', 'opt', 'or2stoptxt', 'orange', 'order', 'org', 'oso', 'otherwise', 'outbid', 'outside', 'outta', 'overdid', 'oyster', 'pa', 'paid', 'pain', 'painful', 'paragon', 'parents', 'paris', 'park', 'part', 'partner', 'pass', 'password', 'pay', 'paying', 'pc', 'peak', 'pence', 'pendent', 'people', 'per', 'percent', 'perfect', 'perhaps', 'period', 'person', 'pete', 'pg', 'phne', 'phone', 'phones', 'photo', 'php', 'pick', 'picking', 'pictures', 'pin', 'pisces', 'pity', 'pizza', 'place', 'plan', 'planettalkinstant', 'planning', 'play', 'played', 'player', 'players', 'please', 'pleased', 'pleasure', 'pls', 'plus', 'plyr', 'pm', 'po', 'pobox', 'pobox12n146tf150p', 'pobox36504w45wq', 'pobox84', 'poboxox36504w45wq', 'pocay', 'point', 'points', 'pole', 'police', 'poly', 'poly3', 'polyphonic', 'polys', 'port', 'posh', 'positive', 'possession', 'post', 'postcode', 'posted', 'posts', 'pound', 'pounds', 'pours', 'power', 'ppm', 'ppm150', 'ppt150x3', 'prabha', 'pray', 'preferably', 'premier', 'premium', 'prepayment', 'prescripiton', 'pretty', 'previous', 'previously', 'prey', 'price', 'pride', 'prince', 'princess', 'print', 'priscilla', 'private', 'prize', 'probably', 'problem', 'problems', 'prods', 'profit', 'program', 'project', 'prometazine', 'promise', 'promo', 'property', 'pshew', 'pub', 'pull', 'purpose', 'purse', 'put', 'qatar', 'qbank', 'qjkgighjjgcbl', 'quality', 'question', 'questions', 'quick', 'quite', 'quiz', 'quoting', 'racal', 'raed', 'rael', 'rain', 'rakhesh', 'ramen', 'randy', 'rate', 'rates', 'rather', 'rcv', 'rcvd', 're', 'reach', 'reaching', 'ready', 'real', 'realise', 'realize', 'really', 'realy', 'reapply', 'reason', 'reassuring', 'reboot', 'recd', 'receipts', 'receive', 'receivea', 'recent', 'recently', 'recieve', 'records', 'red', 'redeemed', 'reduce', 'reference', 'referin', 'refused', 'regalportfolio', 'regards', 'relax', 'rem', 'remember', 'reminder', 'remove', 'removed', 'renewal', 'rental', 'repair', 'repeating', 'replace', 'replied', 'reply', 'replying', 'representative', 'request', 'require', 'resolved', 'respectful', 'results', 'resuming', 'reveal', 'revealing', 'review', 'reward', 'rg21', 'rhode', 'rich', 'ride', 'right', 'ring', 'ringtone', 'rite', 'rodds1', 'rodger', 'rofl', 'role', 'romantic', 'room', 'roses', 'round', 'row', 'royal', 'rp176781', 'rs', 'rstm', 'ruin', 'ruining', 'rule', 'rumbling', 'run', 'running', 'ryan', 's89', 'sac', 'sae', 'safe', 'saibaba', 'said', 'salam', 'sale', 'salesman', 'salmon', 'sam', 'sane', 'santa', 'sar', 'sarasota', 'sashimi', 'sat', 'saturday', 'savamob', 'save', 'saw', 'say', 'saying', 'says', 'sch', 'school', 'scotland', 'scotsman', 'scream', 'screaming', 'search', 'secret', 'secs', 'sed', 'see', 'seeds', 'seeing', 'seem', 'seen', 'selected', 'selection', 'self', 'selling', 'send', 'sending', 'sent', 'seriously', 'service', 'services', 'servs', 'set', 'sex', 'sextextuk', 'sexy', 'shag', 'shall', 'share', 'shd', 'shelf', 'shinco', 'shirts', 'shit', 'shld', 'shop', 'shopping', 'shortbreaks', 'show', 'shows', 'shracomorsglsuplt', 'shrub', 'shu', 'shud', 'shuhui', 'side', 'sign', 'silent', 'sim', 'simonwatson5120', 'simple', 'simply', 'since', 'sing', 'singapore', 'singles', 'sipix', 'sir', 'sister', 'sit', 'site', 'sitll', 'sitting', 'siva', 'six', 'sk3', 'sk38xh', 'skilgme', 'skip', 'slacking', 'slave', 'sleep', 'sleeping', 'slept', 'slide', 'slow', 'slowly', 'slp', 'smart', 'smile', 'smiles', 'smiling', 'sms', 'smsco', 'smsrewards', 'smsservices', 'smth', 'snow', 'sofa', 'soiree', 'somebody', 'someone', 'somethin', 'something', 'sometime', 'somewhere', 'song', 'songs', 'sony', 'sonyericsson', 'soon', 'sorry', 'sory', 'soryda', 'sound', 'sounds', 'south', 'sp', 'spacebucks', 'spanish', 'sparkling', 'speak', 'special', 'speciale', 'specially', 'specific', 'spend', 'spider', 'spinout', 'spiritual', 'spl', 'splash', 'splleing', 'spoken', 'sport', 'spree', 'sptv', 'squeezed', 'sry', 'standard', 'star', 'staring', 'start', 'started', 'starwars3', 'statement', 'station', 'stay', 'staying', 'std', 'step', 'stereophonics', 'sterm', 'stewartsize', 'steyn', 'still', 'stink', 'stolen', 'stomach', 'stop', 'stopsms', 'store', 'stories', 'storming', 'street', 'stressful', 'strokes', 'student', 'studies', 'study', 'studying', 'stuff', 'stuffs', 'stupid', 'stylish', 'sub', 'subpoly', 'subscribe6gbp', 'subscribed', 'subscription', 'sudden', 'sue', 'suggestion', 'suggestions', 'suite342', 'sum1', 'summer', 'sun', 'sun0819', 'sunday', 'sunny', 'sunshine', 'supply', 'suppose', 'suprman', 'sure', 'surely', 'surfing', 'surprise', 'suzy', 'svc', 'sw7', 'swan', 'sweet', 'swoop', 'swt', 'syrup', 'system', 't91', 'ta', 'table', 'take', 'takes', 'taking', 'talk', 'talks', 'tamilnadu', 'tampa', 'tantrum', 'tariffs', 'tat', 'tats', 'tattoos', 'taylor', 'tb', 'tc', 'tcr', 'tcs', 'tea', 'teach', 'team', 'tease', 'teeth', 'teletext', 'tell', 'telphone', 'temales', 'temp', 'ten', 'tenants', 'tenerife', 'terms', 'test', 'text', 'textand', 'textbuddy', 'texted', 'textoperator', 'texts', 'tgxxrz', 'thank', 'thanks', 'thanksgiving', 'thanx', 'thats', 'themob', 'theplace', 'theres', 'thing', 'things', 'think', 'thinkin', 'thinking', 'thinks', 'thirtyeight', 'thk', 'tho', 'thou', 'though', 'thought', 'thousands', 'thursday', 'tickets', 'tihs', 'til', 'till', 'time', 'times', 'tip', 'tirunelvali', 'title', 'tix', 'tke', 'tkts', 'tlp', 'tmr', 'tms', 'tncs', 'today', 'todays', 'together', 'toilet', 'told', 'tomorrow', 'tone', 'tones', 'tonight', 'tooo', 'top', 'topic', 'topped', 'toppoly', 'tot', 'total', 'touch', 'tough', 'town', 'toxic', 'traffic', 'train', 'transfr', 'trav', 'travel', 'treacle', 'treadmill', 'treasure', 'treat', 'treatin', 'trial', 'tried', 'trip', 'trouble', 'true', 'trust', 'truth', 'try', 'trying', 'ts', 'tsandcs', 'tscs087147403231winawk', 'tuition', 'tune', 'turns', 'tv', 'two', 'txt', 'txtauction', 'txting', 'txtno', 'txts', 'txtstop', 'txttowin', 'tyrone', 'ugh', 'uk', 'ultimate', 'un', 'unclaimed', 'uncle', 'uni', 'unique', 'united', 'unless', 'unlimited', 'unredeemed', 'unsub', 'unsubscribe', 'upcharge', 'update', 'update_now', 'upgrade', 'upgrdcentre', 'upload', 'uploaded', 'upto', 'ur', 'urgent', 'urself', 'us', 'use', 'user', 'usher', 'using', 'usual', 'uworld', 'valentines', 'valid', 'valid12hrs', 'valued', 'various', 'vary', 've', 'verify', 'via', 'victoria', 'vid', 'video', 'vikky', 'vip', 'virgin', 'visit', 'voda', 'vodafone', 'voice', 'vomit', 'voucher', 'vouchers', 'w1', 'w1j6hl', 'w1t1jy', 'w45wq', 'waht', 'wait', 'waitin', 'waiting', 'wake', 'wales', 'walk', 'walking', 'wallpaper', 'walmart', 'wan', 'wana', 'wanna', 'want', 'wanted', 'wants', 'wap', 'warranty', 'wasn', 'waste', 'wat', 'watch', 'watching', 'wats', 'way', 'wc1n', 'wc1n3xx', 'weak', 'wear', 'weather', 'web', 'website', 'wed', 'wednesday', 'week', 'weekend', 'weekends', 'weekly', 'weeks', 'welcome', 'welcomes', 'well', 'wen', 'went', 'whats', 'wheat', 'whenever', 'wherever', 'whether', 'white', 'wicket', 'wid', 'widelive', 'wif', 'wihtuot', 'wil', 'will', 'win', 'window', 'wine', 'wings', 'winner', 'winnersclub', 'winning', 'wish', 'wishing', 'wit', 'within', 'without', 'wk', 'wkly', 'wml', 'wocay', 'woke', 'won', 'wonderful', 'wondering', 'wont', 'worc', 'word', 'words', 'work', 'working', 'works', 'world', 'worlds', 'worries', 'worse', 'worth', 'wot', 'wouldn', 'wrk', 'wrkin', 'wrnog', 'wt', 'www', 'wylie', 'xclusive', 'xmas', 'xxuk', 'xxx', 'xxxmobilemovieclub', 'xxxxxx', 'xy', 'ya', 'yahoo', 'yan', 'yay', 'yeah', 'year', 'years', 'yeh', 'yeovil', 'yep', 'yes', 'yest', 'yesterday', 'yet', 'yijue', 'ym', 'youdoing', 'young', 'yourinclusive', 'yoville', 'yr', 'yrs', 'yuo', 'yup', 'zed', 'zouk']\n",
            "\n",
            "Transform: [[0 0 0 ... 0 0 0]\n",
            " [0 0 0 ... 0 0 0]\n",
            " [0 0 0 ... 0 0 0]\n",
            " ...\n",
            " [0 0 0 ... 0 0 0]\n",
            " [0 0 0 ... 0 0 0]\n",
            " [0 0 0 ... 0 0 0]]\n"
          ]
        },
        {
          "name": "stderr",
          "output_type": "stream",
          "text": [
            "/usr/local/lib/python3.7/dist-packages/sklearn/feature_extraction/text.py:401: UserWarning: Your stop_words may be inconsistent with your preprocessing. Tokenizing the stop words generated tokens ['let', 'll', 're', 've'] not in stop_words.\n",
            "  % sorted(inconsistent)\n",
            "/usr/local/lib/python3.7/dist-packages/sklearn/utils/deprecation.py:87: FutureWarning: Function get_feature_names is deprecated; get_feature_names is deprecated in 1.0 and will be removed in 1.2. Please use get_feature_names_out instead.\n",
            "  warnings.warn(msg, category=FutureWarning)\n"
          ]
        }
      ],
      "source": [
        "x=cv.fit_transform(dataset['v2'])\n",
        "print(cv.get_feature_names())\n",
        "print(\"\\nTransform:\",x.toarray())"
      ]
    },
    {
      "cell_type": "code",
      "execution_count": 26,
      "metadata": {
        "colab": {
          "base_uri": "https://localhost:8080/"
        },
        "id": "PLkvxp4NNFZy",
        "outputId": "ce4670fd-c25d-46a8-f9e4-ab701f8de4c4"
      },
      "outputs": [
        {
          "name": "stdout",
          "output_type": "stream",
          "text": [
            "train_data:   (0, 1323)\t2\n",
            "  (0, 495)\t1\n",
            "  (0, 523)\t1\n",
            "  (0, 356)\t1\n",
            "  (0, 875)\t1\n",
            "  (0, 1031)\t1\n",
            "  (0, 1110)\t1\n",
            "  (0, 2074)\t1\n",
            "  (0, 1563)\t1\n",
            "  (0, 952)\t1\n",
            "  (0, 2200)\t2\n",
            "  (0, 806)\t1\n",
            "  (0, 1082)\t1\n",
            "  (0, 785)\t1\n",
            "  (0, 1946)\t2\n",
            "  (0, 798)\t1\n",
            "  (0, 1805)\t1\n",
            "  (0, 2167)\t1\n",
            "  (0, 1744)\t1\n",
            "  (0, 1562)\t1\n",
            "  (0, 2128)\t1\n",
            "  (0, 411)\t1\n",
            "  (0, 1283)\t1\n",
            "  (0, 932)\t1\n",
            "  (1, 1916)\t1\n",
            "  :\t:\n",
            "  (225, 67)\t1\n",
            "  (226, 908)\t1\n",
            "  (226, 606)\t1\n",
            "  (226, 686)\t1\n",
            "  (226, 1301)\t1\n",
            "  (226, 747)\t1\n",
            "  (226, 974)\t1\n",
            "  (226, 1196)\t1\n",
            "  (226, 467)\t1\n",
            "  (227, 985)\t1\n",
            "  (227, 1154)\t1\n",
            "  (227, 461)\t1\n",
            "  (227, 2054)\t1\n",
            "  (227, 1148)\t1\n",
            "  (227, 1860)\t1\n",
            "  (228, 371)\t1\n",
            "  (228, 1300)\t1\n",
            "  (228, 1477)\t1\n",
            "  (229, 985)\t1\n",
            "  (229, 873)\t1\n",
            "  (229, 1390)\t1\n",
            "  (229, 2170)\t1\n",
            "  (229, 1052)\t1\n",
            "  (229, 895)\t1\n",
            "  (229, 1654)\t1\n",
            "\n",
            " test_data   (0, 1172)\t1\n",
            "  (0, 1130)\t1\n",
            "  (0, 1000)\t1\n",
            "  (0, 928)\t2\n",
            "  (0, 1679)\t2\n",
            "  (0, 1843)\t1\n",
            "  (0, 370)\t1\n",
            "  (1, 2008)\t1\n",
            "  (1, 375)\t1\n",
            "  (1, 580)\t1\n",
            "  (1, 594)\t1\n",
            "  (1, 2169)\t1\n",
            "  (1, 1014)\t1\n",
            "  (1, 2017)\t1\n",
            "  (1, 922)\t1\n",
            "  (1, 1832)\t2\n",
            "  (1, 1397)\t1\n",
            "  (1, 653)\t1\n",
            "  (1, 684)\t1\n",
            "  (1, 2068)\t1\n",
            "  (1, 997)\t1\n",
            "  (1, 2112)\t1\n",
            "  (1, 1445)\t1\n",
            "  (1, 1957)\t1\n",
            "  (1, 809)\t1\n",
            "  :\t:\n",
            "  (281, 757)\t1\n",
            "  (281, 1745)\t1\n",
            "  (281, 1814)\t1\n",
            "  (281, 1469)\t1\n",
            "  (281, 1649)\t1\n",
            "  (282, 870)\t2\n",
            "  (282, 1916)\t2\n",
            "  (282, 2008)\t1\n",
            "  (282, 138)\t1\n",
            "  (282, 1633)\t1\n",
            "  (282, 908)\t1\n",
            "  (282, 1832)\t1\n",
            "  (282, 40)\t1\n",
            "  (282, 1968)\t1\n",
            "  (282, 842)\t1\n",
            "  (282, 291)\t2\n",
            "  (282, 1496)\t1\n",
            "  (282, 1995)\t1\n",
            "  (282, 1967)\t1\n",
            "  (282, 981)\t1\n",
            "  (282, 168)\t1\n",
            "  (282, 144)\t1\n",
            "  (282, 205)\t1\n",
            "  (282, 136)\t1\n",
            "  (282, 1349)\t1\n"
          ]
        }
      ],
      "source": [
        "target=dataset['v1']\n",
        "from sklearn.model_selection import train_test_split\n",
        "data_train,data_test,target_train,target_test=train_test_split(x,target,train_size=0.45,random_state=113)\n",
        "print(\"train_data:\",data_train)\n",
        "print(\"\\n test_data\",data_test)"
      ]
    },
    {
      "cell_type": "markdown",
      "metadata": {
        "id": "ojpIcVkbxzDB"
      },
      "source": [
        "**Using** **Multinomial** **NB**"
      ]
    },
    {
      "cell_type": "code",
      "execution_count": 28,
      "metadata": {
        "colab": {
          "base_uri": "https://localhost:8080/"
        },
        "id": "9QPHvNjBxwY0",
        "outputId": "dd795ef1-4cce-49ef-8902-4e44837e87a4"
      },
      "outputs": [
        {
          "name": "stdout",
          "output_type": "stream",
          "text": [
            "prediction: ['ham' 'spam' 'ham' 'ham' 'ham' 'ham' 'ham' 'ham' 'spam' 'ham' 'ham' 'ham'\n",
            " 'ham' 'ham' 'ham' 'ham' 'ham' 'ham' 'ham' 'ham' 'spam' 'ham' 'spam' 'ham'\n",
            " 'ham' 'ham' 'ham' 'ham' 'spam' 'ham' 'spam' 'ham' 'spam' 'ham' 'ham'\n",
            " 'ham' 'spam' 'ham' 'ham' 'ham' 'ham' 'spam' 'ham' 'ham' 'ham' 'ham'\n",
            " 'spam' 'ham' 'spam' 'ham' 'spam' 'ham' 'spam' 'ham' 'spam' 'ham' 'ham'\n",
            " 'ham' 'ham' 'spam' 'spam' 'ham' 'ham' 'spam' 'ham' 'ham' 'ham' 'ham'\n",
            " 'spam' 'ham' 'spam' 'ham' 'ham' 'ham' 'ham' 'ham' 'ham' 'spam' 'ham'\n",
            " 'spam' 'ham' 'ham' 'ham' 'spam' 'spam' 'ham' 'ham' 'ham' 'ham' 'spam'\n",
            " 'ham' 'spam' 'ham' 'ham' 'spam' 'spam' 'ham' 'ham' 'ham' 'ham' 'ham'\n",
            " 'ham' 'spam' 'ham' 'spam' 'spam' 'ham' 'spam' 'ham' 'ham' 'ham' 'ham'\n",
            " 'ham' 'ham' 'spam' 'ham' 'ham' 'spam' 'spam' 'ham' 'spam' 'spam' 'ham'\n",
            " 'ham' 'ham' 'ham' 'spam' 'ham' 'ham' 'ham' 'ham' 'ham' 'ham' 'spam' 'ham'\n",
            " 'spam' 'ham' 'ham' 'spam' 'ham' 'ham' 'spam' 'ham' 'ham' 'ham' 'ham'\n",
            " 'ham' 'ham' 'spam' 'ham' 'ham' 'spam' 'ham' 'spam' 'spam' 'ham' 'ham'\n",
            " 'ham' 'spam' 'ham' 'spam' 'spam' 'spam' 'spam' 'ham' 'ham' 'ham' 'spam'\n",
            " 'ham' 'ham' 'ham' 'ham' 'ham' 'ham' 'ham' 'ham' 'ham' 'ham' 'spam' 'spam'\n",
            " 'spam' 'ham' 'ham' 'spam' 'spam' 'spam' 'spam' 'ham' 'spam' 'ham' 'ham'\n",
            " 'spam' 'ham' 'ham' 'ham' 'ham' 'ham' 'ham' 'ham' 'spam' 'spam' 'ham'\n",
            " 'spam' 'ham' 'spam' 'spam' 'spam' 'ham' 'spam' 'ham' 'spam' 'ham' 'spam'\n",
            " 'spam' 'ham' 'ham' 'ham' 'ham' 'spam' 'ham' 'ham' 'ham' 'spam' 'ham'\n",
            " 'ham' 'ham' 'ham' 'ham' 'ham' 'ham' 'ham' 'spam' 'ham' 'ham' 'ham' 'ham'\n",
            " 'spam' 'spam' 'ham' 'ham' 'spam' 'ham' 'ham' 'ham' 'ham' 'spam' 'spam'\n",
            " 'spam' 'ham' 'ham' 'ham' 'ham' 'spam' 'spam' 'ham' 'ham' 'spam' 'ham'\n",
            " 'spam' 'ham' 'ham' 'ham' 'spam' 'spam' 'ham' 'spam' 'ham' 'ham' 'spam'\n",
            " 'ham' 'ham' 'spam' 'spam' 'ham' 'spam' 'ham' 'spam' 'ham' 'ham' 'spam'\n",
            " 'ham' 'ham' 'spam']\n"
          ]
        }
      ],
      "source": [
        "mnb=MultinomialNB()\n",
        "mnb.fit(data_train,target_train)\n",
        "target_pred=mnb.predict(data_test)\n",
        "print(\"prediction:\",target_pred)"
      ]
    },
    {
      "cell_type": "code",
      "execution_count": 32,
      "metadata": {
        "colab": {
          "base_uri": "https://localhost:8080/"
        },
        "id": "JKGW1KGxy03H",
        "outputId": "55da4db1-d102-4cd8-ea4e-2cd90691cd40"
      },
      "outputs": [
        {
          "name": "stdout",
          "output_type": "stream",
          "text": [
            "Accuracy: 0.9611307420494699\n",
            "\n",
            "Precision: 0.9617054719324244\n",
            "\n",
            "recall: [0.96373057 0.95555556]\n"
          ]
        }
      ],
      "source": [
        "from sklearn.metrics import precision_score,accuracy_score,recall_score\n",
        "accuracy=accuracy_score(target_test,target_pred)\n",
        "precision=precision_score(target_test,target_pred,average='weighted') #here weighted means no. of true instances for each label\n",
        "recall=recall_score(target_test,target_pred,average=None)\n",
        "print(\"Accuracy:\",accuracy)\n",
        "print(\"\\nPrecision:\",precision)\n",
        "print(\"\\nrecall:\",recall)"
      ]
    },
    {
      "cell_type": "markdown",
      "metadata": {
        "id": "B0UtpeCi0iCT"
      },
      "source": [
        "**Using Decision Tree**"
      ]
    },
    {
      "cell_type": "code",
      "execution_count": 56,
      "metadata": {
        "colab": {
          "base_uri": "https://localhost:8080/"
        },
        "id": "tm2yhsKjy04A",
        "outputId": "828d90cf-b164-4315-fca0-74e7bf0bcc7f"
      },
      "outputs": [
        {
          "name": "stdout",
          "output_type": "stream",
          "text": [
            "Prediction by DecisionTree: ['ham' 'spam' 'ham' 'ham' 'ham' 'ham' 'spam' 'ham' 'spam' 'ham' 'ham'\n",
            " 'ham' 'ham' 'spam' 'ham' 'ham' 'ham' 'ham' 'ham' 'ham' 'spam' 'ham'\n",
            " 'spam' 'ham' 'ham' 'ham' 'ham' 'ham' 'ham' 'ham' 'spam' 'ham' 'spam'\n",
            " 'ham' 'ham' 'ham' 'ham' 'ham' 'ham' 'ham' 'ham' 'spam' 'ham' 'ham' 'ham'\n",
            " 'ham' 'spam' 'ham' 'spam' 'ham' 'spam' 'spam' 'spam' 'ham' 'spam' 'ham'\n",
            " 'ham' 'ham' 'ham' 'spam' 'spam' 'ham' 'ham' 'spam' 'ham' 'ham' 'ham'\n",
            " 'ham' 'spam' 'ham' 'spam' 'spam' 'ham' 'ham' 'ham' 'ham' 'ham' 'spam'\n",
            " 'ham' 'spam' 'ham' 'ham' 'ham' 'spam' 'spam' 'ham' 'ham' 'ham' 'ham'\n",
            " 'spam' 'ham' 'spam' 'ham' 'ham' 'spam' 'spam' 'ham' 'ham' 'ham' 'ham'\n",
            " 'ham' 'ham' 'spam' 'ham' 'spam' 'spam' 'ham' 'spam' 'ham' 'ham' 'ham'\n",
            " 'ham' 'ham' 'ham' 'spam' 'ham' 'spam' 'spam' 'spam' 'ham' 'spam' 'ham'\n",
            " 'ham' 'ham' 'ham' 'ham' 'spam' 'ham' 'ham' 'ham' 'ham' 'ham' 'ham' 'ham'\n",
            " 'ham' 'spam' 'ham' 'ham' 'spam' 'ham' 'spam' 'spam' 'ham' 'ham' 'ham'\n",
            " 'ham' 'ham' 'ham' 'spam' 'ham' 'ham' 'spam' 'ham' 'ham' 'spam' 'ham'\n",
            " 'ham' 'ham' 'spam' 'ham' 'spam' 'spam' 'spam' 'ham' 'ham' 'ham' 'ham'\n",
            " 'spam' 'ham' 'ham' 'ham' 'ham' 'ham' 'ham' 'ham' 'ham' 'ham' 'ham' 'spam'\n",
            " 'ham' 'spam' 'ham' 'ham' 'spam' 'spam' 'spam' 'ham' 'ham' 'spam' 'ham'\n",
            " 'ham' 'spam' 'ham' 'spam' 'ham' 'ham' 'ham' 'ham' 'ham' 'spam' 'spam'\n",
            " 'ham' 'spam' 'ham' 'spam' 'spam' 'spam' 'ham' 'spam' 'ham' 'spam' 'ham'\n",
            " 'spam' 'spam' 'ham' 'ham' 'ham' 'ham' 'spam' 'ham' 'ham' 'ham' 'spam'\n",
            " 'ham' 'ham' 'ham' 'ham' 'ham' 'ham' 'ham' 'ham' 'spam' 'ham' 'ham' 'ham'\n",
            " 'ham' 'spam' 'spam' 'ham' 'ham' 'spam' 'spam' 'ham' 'ham' 'ham' 'spam'\n",
            " 'spam' 'spam' 'ham' 'ham' 'ham' 'ham' 'spam' 'spam' 'ham' 'ham' 'spam'\n",
            " 'ham' 'spam' 'ham' 'spam' 'ham' 'spam' 'ham' 'ham' 'spam' 'ham' 'ham'\n",
            " 'spam' 'ham' 'ham' 'spam' 'spam' 'spam' 'spam' 'ham' 'spam' 'ham' 'spam'\n",
            " 'ham' 'ham' 'ham' 'spam']\n"
          ]
        }
      ],
      "source": [
        "from sklearn.tree import DecisionTreeClassifier\n",
        "dtc=DecisionTreeClassifier(criterion='gini')\n",
        "dtc=dtc.fit(data_train,target_train)\n",
        "dtc_target_pred=dtc.predict(data_test)\n",
        "print(\"Prediction by DecisionTree:\",dtc_target_pred)"
      ]
    },
    {
      "cell_type": "code",
      "execution_count": 57,
      "metadata": {
        "colab": {
          "base_uri": "https://localhost:8080/"
        },
        "id": "oCqzNmtH2CrI",
        "outputId": "bbd814ad-f2ea-4e6f-9ed4-942a7eab2d84"
      },
      "outputs": [
        {
          "name": "stdout",
          "output_type": "stream",
          "text": [
            "Accuracy: 0.9611307420494699\n",
            "\n",
            "Precision: [0.94708995 0.85106383]\n",
            "\n",
            "recall: [0.92746114 0.88888889]\n"
          ]
        }
      ],
      "source": [
        "from sklearn.metrics import precision_score,accuracy_score,recall_score\n",
        "accuracy=accuracy_score(target_test,target_pred)\n",
        "precision=precision_score(target_test,dtc_target_pred,average=None) \n",
        "recall=recall_score(target_test,dtc_target_pred,average=None)\n",
        "print(\"Accuracy:\",accuracy)\n",
        "print(\"\\nPrecision:\",precision)\n",
        "print(\"\\nrecall:\",recall)"
      ]
    },
    {
      "cell_type": "markdown",
      "metadata": {
        "id": "oXnJUifH2dnH"
      },
      "source": [
        "**Using Bigram Matching instead of Unigram exercise**"
      ]
    },
    {
      "cell_type": "code",
      "execution_count": 39,
      "metadata": {
        "colab": {
          "base_uri": "https://localhost:8080/"
        },
        "id": "XUHqqEDY2bD_",
        "outputId": "0a9fa0dd-d864-4730-e4fc-ab2cadaceab0"
      },
      "outputs": [
        {
          "name": "stdout",
          "output_type": "stream",
          "text": [
            "bigram cv: CountVectorizer(ngram_range=(2, 2),\n",
            "                stop_words=['a', 'about', 'above', 'after', 'again', 'against',\n",
            "                            'all', 'am', 'an', 'and', 'any', 'are', 'as', 'at',\n",
            "                            'be', 'because', 'been', 'before', 'being', 'below',\n",
            "                            'between', 'both', 'but', 'by', 'could', 'did',\n",
            "                            'do', 'does', 'doing', 'down', ...])\n"
          ]
        }
      ],
      "source": [
        "cv_bg=CountVectorizer(stop_words=stopwords,ngram_range=(2,2))\n",
        "print(\"bigram cv:\",cv_bg)"
      ]
    },
    {
      "cell_type": "code",
      "execution_count": 40,
      "metadata": {
        "colab": {
          "base_uri": "https://localhost:8080/"
        },
        "id": "y5NnYnH73GI4",
        "outputId": "68ee99a1-7a91-4d97-8dbb-4d78f8f29e4b"
      },
      "outputs": [
        {
          "name": "stdout",
          "output_type": "stream",
          "text": [
            "Features: ['00 sub', '000 bonus', '000 cash', '000 homeowners', '000 pounds', '000 prize', '0121 2025050', '02 09', '02 claimcode', '0207 153', '02073162414 now', '021 3680', '03 2nd', '03 final', '050703 csbcm4235wc1n3xx', '0578 now', '06 11', '07 11', '07046744435 now', '07123456789 87077', '0721072 find', '07732584351 rodger', '07742676969 shows', '07753741225 shows', '07781482378 com', '07808 xxxxxx', '07808247860 shows', '07815296484 shows', '07946746291 07880867867', '0800 0721072', '0800 169', '0800 18', '0800 1956669', '0800 542', '08000407165 18', '08000839402 call2optout', '08000930705 delivery', '08000930705 now', '08000930705 reply', '08000938767 update', '08002888812 reply', '08002988890 now', '0808 145', '0825 now', '0844 861', '08448350055 bt', '0845 021', '0845 2814032', '08452810071 16', '0870 chatlines', '08700621170150p per', '08701417012 profit', '087018728737 national', '08702840625 comuk', '08704439680ts cs', '08708800282 hg', '08709222922 national', '0871 872', '08712300220 quoting', '08712402050 lines', '08712404000 immediately', '08712460324 10p', '0871277810910p min', '08714712388 10am', '08714712394 10am', '08715203677 identifier', '08715203694 identifier', '08715705022 1x150p', '08717898035 00', '08718720201 po', '087187262701 50gbp', '087187272008 now1', '08718727868 18', '08718738001 identifier', '08719180248 identifier', '08719899217 identifier', '08719899229 identifier', '09 02', '09 03', '09050000332 claim', '09050001808 land', '09050002311 b4280703', '09058094455 land', '09058094583 book', '09061104283 ts', '09061209465 now', '09061221061 landline', '09061701461 claim', '09061701939 claim', '09061743806 landline', '09061749602 landline', '09063440451 landline', '09064011000 ntt', '09064012160 claim', '09064017295 claim', '09064019014 receive', '09064019788 box42wr29c', '09065171142 stopsms', '09065174042 opt', '09066350750 landline', '09066368327 now', '09066382422 calls', '09071512433 b4', '09111032124 pobox12n146tf150p', '10 000', '10 04', '10 days', '10 ls1', '10 txtauction', '100 000', '100 20', '100 dating', '100 free', '100 percent', '100 travel', '100 weekly', '100 wkly', '1000 cash', '1000 cashto', '1000 claim', '1000 holiday', '1000 prize', '1000 quiz', '1000 txt', '100p sms', '100percent real', '10am 7pm', '10am 9pm', '10k 5k', '10p min', '10p per', '10p reply', '10ppm 16', '11 04', '11 mnths', '11 months', '114 14', '11mths call', '11mths entitled', '11pm won', '12 30', '12 hours', '123 congratulations', '1250 call', '125gift guaranteed', '12hrs 150p', '12hrs 150ppm', '14 tcr', '145 4742', '1450 prize', '14thmarch apply', '15 26', '150 ppm', '150 text', '150 textand', '150 worth', '1500 bonus', '150p day', '150p msg', '150p mtmsg', '150p mtmsgrcvd18', '150p pm', '150p reply', '150p sms', '150p wk', '150pm dont', '150pm unsubscribe', '150ppm 16', '150ppm 18', '150ppm ave', '150ppm mobile', '150ppm mobilesvary', '150ppmsg 18', '150pw nd', '153 9153', '153 9996', '16 1st', '16 99', '16 close', '16 cs', '16 gbp1', '16 norm150p', '16 remove', '16 stop', '16 tsandcs', '16 unsub', '169 6031', '18 11', '18 150ppm', '18 50', '18 legitimat', '18 msg', '18 stop', '18 www', '1956669 text', '1da 150ppmsg', '1million give', '1st free', '1st june', '1st ringtone', '1st week', '1x150p wk', '1yf 150ppm', '20 000', '20 poboxox36504w45wq', '20 tones', '20 years', '200 award', '200 summer', '200 week', '2000 bonus', '2000 pound', '2000 prize', '2003 account', '2004 account', '2004 must', '2005 text', '2025050 visit', '20p min', '21 aberdeen', '21st may', '22 days', '220 cm2', '24 10', '24hrs terms', '25 18', '25 free', '25 year', '250 want', '250 weekly', '250 wkly', '25p alfie', '25p free', '26 11', '26 sorry', '2667 wc1n', '26th july', '28 soiree', '2814032 16', '28days cs', '28thfeb apply', '2kbsubject low', '2lands row', '2morow 28', '2mrw luv', '2nd attempt', '2nd time', '2optout 087187262701', '2p per', '2stop txt', '2u2 id', '2yr warranty', '2yrs just', '30 max', '30 secs', '30 speak', '300603 post', '3030 valid', '30th august', '31 10', '31p msg', '32 inviting', '32000 award', '33 50', '350 award', '3650 video', '36504 w45wq', '3680 offer', '3hrs 16', '3mins vary', '3mobile 0870', '3qxj9 unsubscribe', '3ss 150ppm', '3uz 16', '3x 150pw', '40 years', '4041 standard', '40411 expires', '40533 expires', '40gb ipod', '41685 expires', '41782 expires', '42478 expires', '434 no', '434 see', '434 sk3', '447801259231 secret', '448712404000 please', '449071512431 urgent', '45 per', '45239 expires', '4742 9am', '4882 selected', '49557 expires', '4eva promise', '4get name', '4mths half', '4t ctxt', '4txt 20', '4u rodds1', '50 morefrmmob', '50 per', '50 pounds', '50 rcv', '50 scotsman', '50 sp', '50 ur', '50 week', '500 75', '500 cash', '500 cd', '500 free', '500 guaranteed', '500 new', '500 pounds', '500 prize', '5000 cash', '5000 claim', '5000 prize', '50gbp mtmsg18', '50p msg', '50pm approx', '50pmmorefrommobile2bremoved mobypobox734ls27yf', '528 hp20', '542 0578', '542 0825', '5k 500', '5mls lt', '5p min', '5we 150pm', '6031 10am', '69698 text', '69876 txts', '69888 nt', '69888nyt ec2a', '69988 get', '6days 16', '6months free', '75 000', '750 anytime', '750 mins', '750 pound', '7548 selected', '786 unredeemed', '79 book', '7pm cost', '800 prize', '800 un', '8007 nokias', '80086 now', '8077 get', '80878 www', '81010 www', '81151 get', '81618 per', '820554ad0a1705572711 first', '82277 50', '82324 helpline', '83110 see', '83338 game', '83355 ibhltd', '83600 now', '84 m26', '85 85', '85 no', '85023 now', '85069 verify', '85222 now', '861 85', '86688 150p', '86688 info', '86888 claim', '87066 tncs', '87070 150p', '87077 eg', '87077 try', '87077 yahoo', '87121 18', '87121 receive', '87131 poly', '87131 true', '872 9755', '87575 cost', '88039 skilgme', '88222 php', '88600 1million', '88800 89034', '89034 premium', '89545 collect', '89555 textoperator', '8ball wallpaper', '8p min', '8wp 150', '900 prize', '9153 offer', '9755 box95qu', '9996 offer', '9am 11pm', '9pm won', 'aah bless', 'aberdeen united', 'absolutely love', 'absolutly fine', 'ac blind', 'ac bootydelious', 'ac icmb3cktz8r7', 'ac smsrewards', 'ac sptv', 'ac sun0819', 'access number', 'accidentally brought', 'account identification', 'account statement', 'aco entry41', 'acted like', 'activate 500', 'ad craigslist', 'adam eve', 'address dob', 'admirer looking', 'admirer reveal', 'ads 150p', 'advise following', 'afternoon love', 'ag promo', 'age eg', 'age join', 'age opt', 'age verify', 'age16 2stop', 'age16 50perwksub', 'ah waitin', 'aha da', 'aight can', 'aiyah ok', 'aiyo cos', 'ajith film', 'alaikkum pride', 'album due', 'alertfrom jeri', 'alerts reply', 'alex nichols', 'alex says', 'alfie moon', 'algarve txt', 'almost lt', 'alone week', 'alone without', 'already bought', 'already cover', 'already havent', 'already paid', 'already spend', 'already wait', 'already wat', 'alright hows', 'also fuck', 'also important', 'also simple', 'also smart', 'also upload', 'always ur', 'amount taking', 'amp one', 'amp taylor', 'amp well', 'amused joking', 'amused just', 'angry busy', 'annoncement new', 'announcement call', 'announcement premier', 'another audition', 'another friend', 'another number', 'another problem', 'ansr 82277', 'answer easy', 'answering can', 'anyone calls', 'anyones help', 'anything da', 'anything dad', 'anything friendship', 'anything lar', 'anything lor', 'anytime calling', 'anytime network', 'anytime networks', 'anyway fab', 'anyway home', 'anyway ll', 'apo mokka', 'apparently bffs', 'applausestore com', 'apply 08452810075over18', 'apply ag', 'apply opt', 'apply reply', 'apply stop', 'approx 3mins', 'aquarius now', 'ard like', 'area just', 'aren next', 'areyouunique co', 'armand really', 'armand says', 'around lt', 'around tattoos', 'arrange delivery', 'arrange pick', 'arun can', 'asap can', 'asap ok', 'asap ta', 'asda counts', 'ask anything', 'ask chechi', 'ask especially', 'ask macho', 'ask meeting', 'ask shuhui', 'asked 3mobile', 'askin leaving', 'asleep knackered', 'ass epsilon', 'assessment also', 'attached seeing', 'attempt contact', 'audition next', 'august www', 'available sony', 'ave call', 'await collection', 'awake snow', 'award call', 'award even', 'award match', 'award maybe', 'award number', 'award still', 'awarded 000', 'awarded 1500', 'awarded 2000', 'awarded 500', 'awarded city', 'awarded complimentary', 'awarded either', 'awarded sipix', 'away gal', 'away keep', 'away money', 'away ppt150x3', 'away system', 'awkward den', 'ayn mitsake', 'b4 050703', 'b4280703 cs', 'babe answering', 'babe love', 'babe thanks', 'babe will', 'babes hope', 'babes not', 'babes sport', 'babes think', 'baby soon', 'back box', 'back can', 'back good', 'back help', 'back holby', 'back later', 'back like', 'back name', 'back parents', 'back ring', 'back thursday', 'back time', 'back walk', 'back yan', 'bad cant', 'bad day', 'bad feel', 'bad positive', 'bags eggs', 'bailiff due', 'balance currently', 'bangb tv', 'bangbabes ur', 'barbie comes', 'barely can', 'barring sudden', 'basically times', 'bb bold', 'bcm4284 ldn', 'beautiful day', 'becoz someone', 'bed boatin', 'bed hope', 'bedroom now', 'beendropping red', 'believe attached', 'bell get', 'belt know', 'best can', 'best mobile', 'best msg', 'better evening', 'better night', 'better opportunity', 'better reboot', 'bffs carly', 'bid notifications', 'bid visit', 'big chic', 'big surprise', 'big title', 'bill dont', 'biola fne', 'birds chaps', 'birds meeting', 'birthday feb', 'bit shud', 'bitching acted', 'biz 2optout', 'bless arm', 'blessings always', 'blind date', 'blind dates', 'bluetooth double', 'bluetooth orange', 'boatin docks', 'bold cos', 'boltblue tones', 'bong gt', 'bonus caller', 'bonus points', 'bonus prize', 'bonus special', 'book now', 'book time', 'booked half', 'booked lessons', 'bookmark text', 'bootydelious 32', 'bootydelious stop', 'bored now', 'bother get', 'bottle red', 'bottle wine', 'bought eggs', 'boundaries may', 'box 114', 'box 434', 'box 528', 'box 84', 'box cr01327bt', 'box1146 mk45', 'box177 m221bp', 'box326 cw25wx', 'box334 sk38xh', 'box403 w1t1jy', 'box42wr29c 150ppm', 'boy good', 'boy think', 'boy walking', 'boytoy think', 'brain dear', 'bread hannaford', 'break win', 'breaks 45', 'bright light', 'bring 2mrw', 'bring bottle', 'bring one', 'bring us', 'britney fml', 'brolly left', 'broth want', 'brother spoken', 'brought em', 'bruce amp', 'bt day', 'bt dont', 'bt line', 'bt national', 'bt sitll', 'bt txting', 'bubbletext com', 'bucks dad', 'bud last', 'budget bb', 'bulbs seeds', 'burns msg', 'bus last', 'business now', 'business plan', 'busy dear', 'busy guy', 'buy make', 'buy new', 'buy two', 'buying qbank', 'buying self', 'buying something', 'buying tix', 'bx420 ip4', 'cafe sit', 'calculation lt', 'california weather', 'call 0121', 'call 07046744435', 'call 08000930705', 'call 08002888812', 'call 08002988890', 'call 0845', 'call 087018728737', 'call 08704439680ts', 'call 08709222922', 'call 0871', 'call 08712300220', 'call 08712402050', 'call 08712404000', 'call 08712460324', 'call 08715203677', 'call 08715203694', 'call 08718711108', 'call 087187272008', 'call 08718738001', 'call 08719180248', 'call 08719899217', 'call 08719899229', 'call 09050001808', 'call 09050002311', 'call 09058094455', 'call 09058094565', 'call 09058094583', 'call 09058094597', 'call 09061104283', 'call 09061209465', 'call 09061221061', 'call 09061701461', 'call 09061701939', 'call 09061743806', 'call 09061749602', 'call 09063440451', 'call 09064012160', 'call 09064017295', 'call 09064019014', 'call 09065171142', 'call 09065174042', 'call 09066350750', 'call 09066364589', 'call 09066368327', 'call 09066382422', 'call 09071512433', 'call 123', 'call 3mins', 'call credit', 'call customer', 'call fixed', 'call free', 'call freephone', 'call germany', 'call landline', 'call later', 'call mobile', 'call mobilesdirect', 'call mobileupd8', 'call mumhas', 'call no', 'call now', 'call re', 'call santa', 'call work', 'call09050000327 rstm', 'call2optout f4q', 'call2optout n9dx', 'callback no', 'callcost 150ppm', 'called brother', 'called swan', 'caller prize', 'calling customer', 'calling little', 'calls cost', 'calls treadmill', 'calls us', 'camcorder call', 'camcorder please', 'camcorder reply', 'camera call', 'camera free', 'camera mobile', 'camera phone', 'camera phones', 'can 4get', 'can already', 'can believe', 'can cool', 'can eat', 'can find', 'can get', 'can give', 'can go', 'can help', 'can hold', 'can make', 'can pick', 'can play', 'can pls', 'can put', 'can raed', 'can ruin', 'can run', 'can see', 'can stay', 'can still', 'can take', 'can transfr', 'can try', 'can unsubscribe', 'can will', 'cant eat', 'cant handle', 'cant no', 'cant pick', 'cant remember', 'car keys', 'card loyalty', 'care 07821230901', 'care hello', 'care sleep', 'care swt', 'career off', 'carly quick', 'cars gr8', 'cash 000', 'cash 100', 'cash 2000', 'cash 5000', 'cash 86688', 'cash await', 'cash award', 'cash balance', 'cash claim', 'cash holiday', 'cash now', 'cash spanish', 'cashto claim', 'cbe chennai', 'cc 08708800282', 'cc 08718720201', 'cd gift', 'cd vouchers', 'cds virgin', 'celebration thats', 'cell phone', 'cha cha', 'cha slide', 'champneys can', 'chance claim', 'chance win', 'chances win', 'change plan', 'changed 25', 'channel teletext', 'chaps user', 'character not', 'charge help', 'charged 150pm', 'charged gbp', 'charged month', 'charity 8007', 'charity polys', 'chart mobile', 'chat horny', 'chat now', 'chat see', 'chat svc', 'chat wit', 'chatlines inclu', 'cheap 8p', 'cheap happy', 'cheaper call', 'check http', 'check newest', 'check planettalkinstant', 'checking iq', 'cheers oh', 'chgs send', 'chic common', 'chick huge', 'chicken broth', 'chief can', 'chikku tke', 'childish smile', 'childporn cars', 'children cant', 'children need', 'choose content', 'choose top', 'choosing phone', 'cinema pass', 'citizen also', 'city break', 'claim 0871277810810', 'claim 0871277810910p', 'claim 3030', 'claim call', 'claim call09050000327', 'claim calls', 'claim code', 'claim easy', 'claim free', 'claim just', 'claim m95', 'claim no', 'claim prize', 'claim reward', 'claim rstm', 'claim txt', 'claim ur', 'claim weeks', 'claim yr', 'claimcode m39m51', 'claims hot', 'class midnight', 'clearly fault', 'click http', 'click themob', 'click wap', 'close 300603', 'close cost', 'closingdate04 09', 'club get', 'club nokia', 'club stop', 'club4 po', 'club4mobiles com', 'clubsaisai 2morow', 'cm2 9ae', 'cnupdates com', 'co free', 'co uk', 'code 4041', 'code 40411', 'code 40533', 'code 41685', 'code 41782', 'code 42478', 'code 45239', 'code 49557', 'code k52', 'code kl341', 'code rp176781', 'code s89', 'colleagues screaming', 'collect content', 'collect no', 'collect tenerife', 'collect today', 'collected simply', 'collection ppm150', 'collection sae', 'college life', 'colour camera', 'colour mobiles', 'com choose', 'com custcare', 'com index', 'com info', 'com monthlysubscription', 'com newsletter', 'com qjkgighjjgcbl', 'com renewal', 'com txt', 'come around', 'come ask', 'come can', 'come dinner', 'come late', 'come lowes', 'come now', 'come search', 'come stop', 'come tomorrow', 'come wen', 'comes ken', 'coming back', 'coming even', 'coming funeral', 'common declare', 'community 100p', 'community 150p', 'comp win', 'company just', 'company name', 'company share', 'competition draw', 'competition just', 'complete gist', 'completely stop', 'complimentary ibiza', 'complimentary lux', 'complimentary tenerife', 'complimentary trip', 'compliments away', 'comuk 220', 'comuk net', 'conditions please', 'conditions visit', 'confirm replying', 'congrats 2u2', 'congrats nokia', 'congrats year', 'congratulations ur', 'congratulations week', 'constantly isn', 'contact call', 'contact find', 'contact last', 'contact number', 'contact re', 'contact todays', 'contact won', 'contacted dating', 'content already', 'content games', 'content not', 'content now', 'content service', 'contract mobile', 'cooked rather', 'cool college', 'cool just', 'cool see', 'cool shall', 'cool time', 'cool want', 'cops nothing', 'correct incorrect', 'cos go', 'cos haven', 'cos later', 'cos mayb', 'cos meeting', 'cos saw', 'cos sms', 'cos thats', 'cos will', 'cost 10p', 'cost 10ppm', 'cost 150p', 'cost 150ppm', 'cost 50', 'cost prescripiton', 'costs 20p', 'costume im', 'country algarve', 'country liverpool', 'counts celebration', 'couple different', 'course 2yrs', 'course don', 'course make', 'cover chuck', 'cr01327bt fixedline', 'craigslist selling', 'craziest shit', 'crazy world', 'cream oso', 'credit click', 'credit details', 'credits go', 'credits pls', 'credits topped', 'cs 08717898035', 'cs apply', 'cs box', 'cs box177', 'cs box334', 'cs po', 'cs savamob', 'cs stop', 'cs winnersclub', 'cs www', 'csbcm4235wc1n3xx callcost', 'csc web', 'csh11 send', 'ctxt tc', 'cup final', 'currently 500', 'cust care', 'cust servs', 'custcare 08715705022', 'custcare 08718720201', 'custom officer', 'customer loyalty', 'customer may', 'customer pleased', 'customer selected', 'customer service', 'customer services', 'cut yet', 'cw25wx 150ppm', 'da ge', 'da gossip', 'da lecturer', 'da topic', 'da works', 'dad called', 'daddy shu', 'dai downloaded', 'daily removed', 'darlin kate', 'darling sister', 'darling week', 'darren saying', 'dat girl', 'dat going', 'dat lor', 'dat meeting', 'dat slowly', 'date 4u', 'date brothas', 'date even', 'date latest', 'dates send', 'dating service', 'dave final', 'day 6days', 'day better', 'day full', 'day good', 'day know', 'day miracle', 'day moment', 'day pray', 'day sitting', 'day sleep', 'day special', 'day wen', 'days 250', 'days kick', 'days send', 'days since', 'days will', 'dbuk net', 'deal somewhere', 'dear angry', 'dear call', 'dear dave', 'dear food', 'dear matthew', 'dear sir', 'dear slp', 'dear voucher', 'december mobile', 'decided come', 'decided whether', 'deck club', 'deep great', 'delivery tomorrow', 'delivery waiting', 'delivery wed', 'delivery within', 'den dun', 'den meet', 'den muz', 'derek amp', 'desk ll', 'details great', 'detroit red', 'devils detroit', 'devouring kiss', 'dhoni luck', 'didn set', 'didnt complete', 'didnt get', 'didnt go', 'die want', 'diet just', 'diff guess', 'difference smile', 'different people', 'difficulties phone', 'digital camera', 'dinner cos', 'dinner tonight', 'direct access', 'direct ur', 'dis 87121', 'disappointment texted', 'discount can', 'discount code', 'discount oh', 'discount vouchers', 'discreet text', 'divorce barbie', 'dizzee racal', 'dob asap', 'docks slept', 'doesnt get', 'dogging locations', 'dogging network', 'doin somethin', 'doit mymoby', 'don forget', 'don know', 'don tease', 'don wait', 'don want', 'done handed', 'done just', 'donno genes', 'dont giv', 'dont know', 'dont miss', 'dont ve', 'dont want', 'double mins', 'doubt ask', 'download ur', 'downloaded content', 'downloaded exe', 'draw shows', 'draw txt', 'draw won', 'dreading work', 'dream partner', 'dreams muah', 'dress want', 'drink phone', 'drink sometime', 'drive time', 'driving lor', 'drms take', 'drop either', 'drop later', 'drvgsto listen', 'dude im', 'due days', 'dull easy', 'dump heap', 'dun meet', 'dun say', 'dun work', 'dunno leh', 'dunno lei', 'durban still', 'dvd player', 'dvd plyr', 'earlier wat', 'earn da', 'east coast', 'easy call', 'easy give', 'easy guys', 'easy questions', 'eat already', 'eat meds', 'eaten day', 'ec2a 31p', 'effect irritation', 'efreefone number', 'eg england', 'eg love', 'eg poly3', 'eg sam', 'eggs jam', 'eight let', 'either 10k', 'either 500', 'either yrs', 'elaine today', 'else next', 'em home', 'em using', 'email address', 'email alertfrom', 'email call', 'email id', 'end bid', 'end reply', 'end sptv', 'ending 4882', 'ending 7548', 'endless blessings', 'ends 14thmarch', 'ends 26th', 'ends 28thfeb', 'england 87077', 'england macedonia', 'english wil', 'enjoy community', 'enjoy day', 'enjoy ur', 'enough bud', 'enough find', 'enough gas', 'enough replace', 'entered phone', 'entitled update', 'entry 100', 'entry 250', 'entry question', 'entry wkly', 'entry41 1000', 'er yeah', 'ericsson salesman', 'ese tihs', 'especially girls', 'esplanade fr', 'etc free', 'etc take', 'euro2004 will', 'eurodisinc trav', 'eve 07123456789', 'eve 30', 'eve call', 'eve online', 'even 1000', 'even flirt', 'even things', 'even though', 'evening im', 'ever thought', 'every day', 'every moment', 'every night', 'every week', 'every wk', 'everybody can', 'everything alright', 'everything must', 'evrey splleing', 'ex wat', 'exactly ask', 'exam march', 'exams outta', 'excellent thought', 'except theres', 'exe file', 'exe installing', 'exmpel jsut', 'expires 06', 'expires 07', 'expires 18', 'expires 24', 'expires 26', 'expires 31', 'explicit sex', 'expressoffer ts', 'extra charge', 'fa 87121', 'fa cup', 'fab hols', 'face keeps', 'face test', 'fall love', 'family going', 'fancy find', 'fancy shag', 'fantastic nokia', 'favorite oyster', 'favorite sashimi', 'feb lt', 'feel awkward', 'feel basically', 'feel better', 'feel ill', 'feeling better', 'feels walking', 'fell asleep', 'female know', 'female live', 'fighting constantly', 'fights good', 'figure suppose', 'file can', 'filling forms', 'film ah', 'film yet', 'filthy stories', 'final notice', 'final tkts', 'final try', 'find 30th', 'find call', 'find date', 'find free', 'find reveal', 'find someone', 'fine absolutly', 'fine difficulties', 'fine got', 'fine happy', 'fine not', 'fine started', 'finish film', 'finish tomorrow', 'finish ur', 'finish watching', 'finished yeah', 'first 87131', 'first sound', 'first time', 'first true', 'first woke', 'fit funky', 'five pounds', 'fix teeth', 'fixed line', 'fixedline cost', 'flat cos', 'flew window', 'flights 79', 'flights inc', 'flirt click', 'flirt join', 'flyng start', 'folks waiting', 'followed ur', 'following recent', 'foned already', 'foregate street', 'forget mine', 'forgot tell', 'forgot will', 'forgt previous', 'forms don', 'forwarded 448712404000', 'found ad', 'foward will', 'fr home', 'free 0800', 'free 08000407165', 'free 08000938767', 'free 08002986030', 'free 08002986906', 'free 1st', 'free 8ball', 'free bluetooth', 'free bx420', 'free call', 'free camcorder', 'free camera', 'free charge', 'free credits', 'free delivery', 'free double', 'free entry', 'free hardcore', 'free ice', 'free membership', 'free message', 'free mins', 'free nokia', 'free now', 'free phone', 'free receive', 'free ringtone', 'free roses', 'free selection', 'free terms', 'free text', 'free today', 'free tones', 'free top', 'free txt', 'freemsg haven', 'freemsg hey', 'freephone 0800', 'freephone 0808', 'friend dog', 'friend reply', 'friend request', 'friends colleagues', 'friends fall', 'friends help', 'friendship good', 'friendship im', 'frm heart', 'frm letters', 'frm tmr', 'frm wats', 'frnd 62468', 'frnd knw', 'front house', 'fuck family', 'fuck juswoke', 'fuck leaving', 'full feeling', 'full joy', 'fun night', 'fun still', 'funeral home', 'funky text', 'fyi back', 'g2 1da', 'gage game', 'gal boy', 'gal can', 'gal knew', 'gal no', 'gamb tv', 'game 50', 'game deck', 'game ll', 'games flirt', 'games tones', 'garbage bags', 'garden ready', 'gas one', 'gastroenteritis takes', 'gave number', 'gave us', 'gay chat', 'gaytextbuddy com', 'gbp per', 'gbp1 50', 'gd den', 'gd got', 'gd use', 'ge den', 'ge tmr', 'generally date', 'genes something', 'gent trying', 'gentle baby', 'genuine hmv', 'germany 08448350055', 'germany pence', 'get 50', 'get 87131', 'get anything', 'get ass', 'get babe', 'get books', 'get chicken', 'get dump', 'get exams', 'get garden', 'get info', 'get laid', 'get money', 'get need', 'get nothing', 'get now', 'get one', 'get program', 'get quite', 'get spiritual', 'get step', 'get stressful', 'get together', 'get toppoly', 'get train', 'get txt', 'get txting', 'get uk', 'get ur', 'get usher', 'get watch', 'get yoville', 'get4an18th loves', 'getstop 88222', 'getting touch', 'getzed co', 'gift guaranteed', 'gift vouchers', 'girl margaret', 'girl yes', 'girlfrnd grahmbell', 'girls waiting', 'gist oh', 'giv da', 'giv shit', 'give account', 'give away', 'give bell', 'give feb', 'give malaria', 'give prometazine', 'give ride', 'give stupid', 'give tickets', 'giving much', 'go 69988', 'go 83600', 'go 86688', 'go back', 'go club4mobiles', 'go da', 'go drink', 'go gym', 'go home', 'go http', 'go jogging', 'go no', 'go sat', 'go sch', 'go see', 'go sim', 'go sleep', 'go teach', 'go tip', 'go town', 'go txt', 'go well', 'go www', 'go2 notxt', 'goals team', 'god endless', 'god grace', 'god love', 'god power', 'god reason', 'goes day', 'goin 2nite', 'goin wrk', 'going earn', 'going esplanade', 'going home', 'going join', 'going pub', 'going rhode', 'going sch', 'going tirunelvali', 'going wif', 'going yeovil', 'gone get', 'gonna ok', 'gonna way', 'good afternoon', 'good back', 'good bad', 'good day', 'good journey', 'good life', 'good morning', 'good night', 'good nite', 'good nyt', 'good way', 'goodnight amp', 'gossip babes', 'gossip l8r', 'got da', 'got enough', 'got favorite', 'got free', 'got friend', 'got improve', 'got mega', 'got photo', 'got something', 'got ur', 'got urself', 'got wan', 'goto http', 'goto wap', 'goto www', 'gr8 day', 'gr8 handle', 'gr8 top', 'grace no', 'grahmbell invnted', 'gravel 69888', 'great day', 'great offers', 'great role', 'great week', 'grins keep', 'group mate', 'gsex pobox', 'gt bucks', 'guai shd', 'guaranteed 1000', 'guaranteed 200', 'guaranteed 32000', 'guaranteed award', 'guaranteed call', 'guaranteed free', 'guaranteed latest', 'gud chikku', 'gud gud', 'gud mrng', 'gud ni8', 'gud nyt', 'guess rite', 'guidance doubt', 'guy bitching', 'guy trying', 'guys fun', 'guys planning', 'guys ur', 'gving yuo', 'gym tomorrow', 'haf seen', 'haf walk', 'hahaha use', 'hai bored', 'half eight', 'half price', 'hand boy', 'hand phone', 'handed don', 'handle malaria', 'handle victoria', 'handset 750', 'hannaford wheat', 'happened adventuring', 'happiness soon', 'happy amp', 'happy even', 'happy splash', 'hard person', 'hard true', 'hardcore services', 'hat belt', 'hate bt', 'hate urself', 'hav go', 'haven eaten', 'haven finish', 'haven replied', 'havent decided', 'havent finish', 'havent got', 'head mins', 'heap mom', 'hear anything', 'hear loud', 'hear netcollex', 'hear new', 'hear wont', 'heart sory', 'heart txt', 'heaven prince', 'hello caroline', 'hello girlfrnd', 'hello knw', 'hello name', 'hello need', 'hello seem', 'hello wats', 'hello will', 'helloooo wake', 'help 0845', 'help 08702840625', 'help call', 'help cant', 'help navigate', 'help swoop', 'help us', 'helpline 08706091795', 'helps us', 'hey chief', 'hey congrats', 'hey darling', 'hey don', 'hey iouri', 'hey project', 'hey really', 'hey ve', 'hg suite342', 'hi babe', 'hi customer', 'hi darlin', 'hi durban', 'hi elaine', 'hi hope', 'hi missed', 'hi mom', 'hi sue', 'hi think', 'hill fun', 'hl info', 'hmm shall', 'hmm thinking', 'hmv 86688', 'hmv bonus', 'hmv vouchers', 'hockey correct', 'hold em', 'hold ur', 'holder claim', 'holiday 10', 'holiday 1000', 'holiday 5000', 'holiday call', 'holiday flights', 'holiday no', 'home 12', 'home anyway', 'home box', 'home dinner', 'home got', 'home lt', 'homeowners tenants', 'hope good', 'hope ok', 'hope see', 'hope ur', 'hope well', 'hope work', 'hopefully month', 'horny guys', 'horny want', 'horo aries', 'horo followed', 'horrible gal', 'hot 69698', 'hot gay', 'hot line', 'hours take', 'hours talk', 'house can', 'house just', 'house no', 'hows london', 'hows school', 'hp20 1yf', 'hr oni', 'hr trip', 'http doit', 'http img', 'http tms', 'http wap', 'http www', 'hu think', 'huge boobs', 'huh lei', 'hurts musta', 'hurts smile', 'iam fine', 'ibhltd ldnw15h', 'ibiza holiday', 'ic lotta', 'ice cream', 'ice hockey', 'icmb3cktz8r7 no', 'id 820554ad0a1705572711', 'id luv', 'id soon', 'identification will', 'identifier code', 'ill lst', 'ill mins', 'illness means', 'im aquarius', 'im going', 'im gving', 'im just', 'im no', 'im not', 'img sms', 'immediately urgent', 'important customer', 'important find', 'improve can', 'inc 3hrs', 'inc speak', 'inclu free', 'inclusive text', 'incorrect end', 'index wml', 'india cust', 'indian pls', 'indians nice', 'influx cash', 'info 07946746291', 'info bt', 'info text', 'info www', 'inside every', 'inside office', 'interested buying', 'interested may', 'interested sextextuk', 'internet service', 'inviting friend', 'invnted telphone', 'iouri gave', 'ip4 5we', 'ipod mp3', 'irritation just', 'island traffic', 'island wherever', 'isn helping', 'ive go', 'jacket ah', 'jackpot txt', 'jada kusruthi', 'jam bread', 'jamz toxic', 'jane babes', 'january male', 'jay wants', 'jeri stewartsize', 'jersey devils', 'jesus armand', 'job na', 'join just', 'join mobile', 'join tomorrow', 'join uk', 'joined heart', 'joking ll', 'joking seriously', 'jolly good', 'journey let', 'joy gud', 'jst wana', 'jsut ese', 'juicy booty', 'juicy pizza', 'july apply', 'jumpers hat', 'jus finish', 'jus rite', 'jus take', 'just 10p', 'just 25p', 'just 2p', 'just 50', 'just answer', 'just call', 'just cooked', 'just cool', 'just cos', 'just costume', 'just effect', 'just flew', 'just forgot', 'just ignore', 'just joking', 'just leave', 'just making', 'just messages', 'just pull', 'just sing', 'just sleeping', 'just tell', 'just text', 'just trying', 'just txt', 'just vomit', 'just wanted', 'just wondering', 'juswoke bed', 'juz us', 'k52 valid', 'kane off', 'kate doin', 'keep fantastic', 'keep mind', 'keep mobile', 'keep posted', 'keep smiling', 'keep ten', 'keep ur', 'keep us', 'keeps happy', 'ken stuff', 'kept date', 'keys purse', 'kick off', 'kidz friends', 'kind thing', 'kingdom check', 'kisses xxx', 'kl341 valid', 'knackered dreading', 'knew dat', 'knew dont', 'know country', 'know cribbs', 'know difference', 'know exactly', 'know leave', 'know mega', 'know need', 'know oh', 'know one', 'know place', 'know simply', 'know thinkin', 'know ur', 'know will', 'know wot', 'knw dat', 'knw hate', 'knw siva', 'knw truth', 'knw wt', 'konw waht', 'kothi print', 'kusruthi lovable', 'l8er got', 'l8r xxx', 'lab wat', 'ladies info', 'ladies running', 'laid tonight', 'lamp etc', 'land line', 'landline 09064019788', 'landline 09111032124', 'landline complimentary', 'landline delivery', 'landline tcs', 'lands us', 'lapdancer love', 'lar dun', 'lar not', 'lar tot', 'largest dogging', 'last chance', 'last night', 'last thought', 'last week', 'last weekend', 'last weekends', 'last weeks', 'lastest stereophonics', 'late goodnight', 'late will', 'late wish', 'lately need', 'later leave', 'later lets', 'later lt', 'later sar', 'latest camera', 'latest colour', 'latest motorola', 'latest news', 'latest nokia', 'laugh soon', 'laughing simple', 'lccltd pobox', 'ldew com1win150ppmx3age16', 'ldn wc1n3xx', 'ldnw15h 150p', 'least wednesday', 'leave barely', 'leave lt', 'leave mouse', 'leave xy', 'leaving alone', 'leaving earlier', 'leaving soon', 'lecturer repeating', 'left english', 'leg hurts', 'legitimat efreefone', 'leh cant', 'lei shd', 'lessons sun', 'let know', 'lets go', 'letters know', 'li hai', 'liao ex', 'liao gd', 'liao go', 'libertines strokes', 'life gud', 'life perfect', 'life went', 'lifetime send', 'lift phne', 'light cell', 'lik sending', 'like call', 'like cheap', 'like choosing', 'like dat', 'like fun', 'like interested', 'like pendent', 'like rain', 'like wouldn', 'limit god', 'limiting illness', 'line 09050005321', 'line claim', 'line just', 'line rental', 'line via', 'lines close', 'link next', 'listen email', 'little ones', 'live bedroom', 'live local', 'live operator', 'liverpool played', 'living good', 'living simple', 'll bring', 'll buy', 'll call', 'll going', 'll hand', 'll hate', 'll head', 'll jus', 'll keep', 'll knw', 'll not', 'll point', 'll send', 'll still', 'll text', 'll thousands', 'loan purpose', 'local luv', 'locations sent', 'login 3qxj9', 'logo ur', 'lol mad', 'lol oh', 'london treatin', 'long cos', 'long got', 'longer pisces', 'looked since', 'looking make', 'looking wan', 'lor cos', 'lor go', 'lor juz', 'lor reaching', 'lor sony', 'lor wat', 'loss temp', 'lot already', 'lot ur', 'lotta childporn', 'loud scream', 'lovable silent', 'love adam', 'love amp', 'love go', 'love goes', 'love kiss', 'love kisses', 'love name1', 'love no', 'love one', 'love pete', 'love sex', 'love south', 'love worlds', 'lover names', 'loves much', 'loves see', 'loving also', 'loving smile', 'low cost', 'lowes boring', 'loyalty call', 'loyalty offer', 'ls1 3aj', 'lst nite', 'lt gt', 'lt time', 'ltd 08700621170150p', 'luck win', 'lucky winner', 'lunch lor', 'luv franxx', 'luv hear', 'luv ive', 'luv thing', 'lux tenerife', 'm221bp 2yr', 'm26 3uz', 'm263uz 00', 'm39m51 50pmmorefrommobile2bremoved', 'm8s txt', 'm95 valid12hrs', 'macedonia dont', 'machan go', 'macho much', 'mad first', 'made frm', 'made wait', 'mah askin', 'mah cos', 'maintaining stuff', 'make contact', 'make fall', 'make new', 'make squeezed', 'make stink', 'make sure', 'make time', 'make tonight', 'makes feel', 'makes happy', 'making dinner', 'malaria meds', 'malaria relax', 'malaria worse', 'male sale', 'man game', 'many days', 'margaret hello', 'marley dizzee', 'marvel mobile', 'match please', 'matches call', 'mate cos', 'mates www', 'matrix3 starwars3', 'matthew please', 'matured stylish', 'max 50', 'max easy', 'max6 month', 'maximize ur', 'may 2005', 'may business', 'may god', 'may now', 'mayb haf', 'mayb lor', 'maybe better', 'maybe even', 'maybe mum', 'meaning hello', 'means days', 'means not', 'meant calculation', 'measure god', 'meds now', 'meds ruining', 'meet dinner', 'meet lunch', 'meet someone', 'meet ur', 'meeting confirmed', 'meeting da', 'meeting tmr', 'meeting today', 'meeting want', 'mega bill', 'mega shop', 'mei ex', 'member offers', 'membership 100', 'men left', 'mentor not', 'message activate', 'message click', 'message free', 'message waiting', 'message word', 'messages messenger', 'messages new', 'messages reply', 'messages replying', 'messenger lik', 'met alex', 'mid week', 'middle school', 'might back', 'might drive', 'might need', 'miles away', 'miles smiles', 'min 18', 'min call', 'min cheap', 'min check', 'min gsex', 'min peak', 'mind ve', 'mine can', 'mine facebook', 'mine possession', 'minimum wait', 'mins 1000', 'mins 150', 'mins half', 'mins india', 'mins look', 'mins see', 'mins text', 'mins txts', 'mins unlimited', 'minute bt', 'minute call', 'miracle god', 'miss goals', 'missed call', 'missing much', 'misundrstud frnd', 'mite hav', 'mitsake goodnight', 'mix 85069', 'mk45 2wt', 'mmm childish', 'mnth inc', 'mnths latest', 'moan 69888nyt', 'mob join', 'mob no', 'mob tell', 'mobile 10', 'mobile 11', 'mobile 11mths', 'mobile community', 'mobile content', 'mobile cs', 'mobile customer', 'mobile every', 'mobile fit', 'mobile free', 'mobile internet', 'mobile no', 'mobile number', 'mobile play', 'mobile right', 'mobile update', 'mobile vary', 'mobile week', 'mobile will', 'mobiles 16', 'mobiles 2004', 'mobiles camera', 'mobilesdirect free', 'mobilesvary max', 'mobileupd8 08000839402', 'mobno eg', 'mode men', 'model giving', 'mokka players', 'mom decided', 'mom might', 'moment revealing', 'moment spend', 'money 88600', 'money cheers', 'money lucky', 'money will', 'money worries', 'mono eg', 'month csc', 'month please', 'monthlysubscription 50p', 'months entitled', 'mood suggestions', 'moon children', 'moral one', 'morefrmmob shracomorsglsuplt', 'morning love', 'morning mr', 'morning princess', 'morning repair', 'morning welcomes', 'motor project', 'motorola nokia', 'motorola phones', 'motorola sonyericsson', 'mouse desk', 'moving flat', 'mp3 player', 'mr hows', 'mrt later', 'msg 150p', 'msg cc', 'msg download', 'msg evrey', 'msg hard', 'msg lt', 'msg max6', 'msg rcvd', 'msg recd', 'msg reply', 'msg tat', 'msg tncs', 'msg tone', 'msg tried', 'msg wen', 'msg wrnog', 'msgs chat', 'much budget', 'much easy', 'much no', 'much really', 'much show', 'mum can', 'mumhas beendropping', 'mummy boy', 'mummy made', 'music 87066', 'must age', 'must go', 'must say', 'must see', 'musta overdid', 'muz change', 'mymoby tv', 'mystery gift', 'na tuition', 'naked text', 'name 89693', 'name age', 'name girl', 'name house', 'name person', 'name saibaba', 'name1 name2', 'name2 mobno', 'names joined', 'national rate', 'national team', 'naughty free', 'navigate even', 'nd txt', 'necessarily respectful', 'need address', 'need arrange', 'need deal', 'need drugs', 'need posh', 'need receipts', 'need song', 'need study', 'need talk', 'needs carry', 'needs dat', 'negative mummy', 'neither sterm', 'net 50pm', 'net lccltd', 'net login', 'netcollex ltd', 'network bt', 'network customer', 'network mins', 'network try', 'network txting', 'networks mins', 'neva reply', 'new bong', 'new divorce', 'new friends', 'new jersey', 'new mobiles', 'new nokia6650', 'new one', 'new stuff', 'new textbuddy', 'new video', 'new years', 'newest selection', 'news police', 'news results', 'news txt', 'newsletter unsubscribe', 'next 24hrs', 'next lt', 'next txt', 'next wednesday', 'next week', 'next year', 'ni8 dear', 'ni8 swt', 'nice bad', 'nice juicy', 'nice salmon', 'nice tho', 'nichols middle', 'nichols paris', 'nigeria wish', 'night least', 'night wish', 'nights flights', 'nights nt', 'nights sleep', 'nite foned', 'nite nite', 'nite pocay', 'no 434', 'no 81010', 'no 81151', 'no 83355', 'no 86888', 'no 89545', 'no ads', 'no ah', 'no awarded', 'no blind', 'no boundaries', 'no dont', 'no extra', 'no fights', 'no go', 'no jst', 'no limit', 'no longer', 'no meant', 'no measure', 'no need', 'no not', 'no one', 'no openings', 'no postcode', 'no prepayment', 'no probably', 'no problem', 'no remove', 'no reply', 'no sir', 'no trying', 'no will', 'no word', 'no work', 'no1 nokia', 'nokia 3650', 'nokia 8077', 'nokia etc', 'nokia free', 'nokia gage', 'nokia go', 'nokia mobile', 'nokia motorola', 'nokia no', 'nokia phone', 'nokia tone', 'nokia6650 mobile', 'nokias poly', 'nookii games', 'nope just', 'nope still', 'norm150p tone', 'normal text', 'not 100', 'not asap', 'not back', 'not bother', 'not car', 'not charged', 'not downloaded', 'not finishd', 'not goin', 'not going', 'not goto', 'not keep', 'not matured', 'not much', 'not ok', 'not people', 'not pride', 'not rcv', 'not selected', 'not shrub', 'not singapore', 'not sure', 'nothing go', 'nothing must', 'notice collect', 'notifications reply', 'notxt co', 'now 0207', 'now 0800', 'now 08000930705', 'now 09050000332', 'now 09064011000', 'now 150p', 'now 18', 'now 4t', 'now arrange', 'now buying', 'now cheaper', 'now claim', 'now closingdate04', 'now costs', 'now cs', 'now da', 'now dear', 'now eat', 'now get', 'now ll', 'now next', 'now no', 'now or2stoptxt', 'now pls', 'now reply', 'now savamob', 'now send', 'now stop', 'now subscribe6gbp', 'now suprman', 'now text', 'now wat', 'now will', 'now wish', 'now1 10p', 'nt ec2a', 'nt joking', 'nt staying', 'ntt po', 'number 0844', 'number awarded', 'number matches', 'number qatar', 'number respectful', 'number wat', 'number won', 'number wylie', 'numbers ending', 'o2 get', 'obviously not', 'ofcourse also', 'off bit', 'off euro2004', 'off flyng', 'offer 750', 'offer claim', 'offer ends', 'offer latest', 'offer new', 'offer pc', 'offer video', 'offers mobile', 'offers pls', 'office still', 'officer discount', 'official ultimate', 'oh den', 'oh fuck', 'oh got', 'oh hopefully', 'oh oh', 'oh okie', 'oh thanks', 'oh yeah', 'ok another', 'ok cool', 'ok get', 'ok lar', 'ok lor', 'ok no', 'ok not', 'ok ok', 'ok problem', 'ok shit', 'ok sry', 'ok sweet', 'ok take', 'ok thk', 'ok wat', 'ok whats', 'ok xxx', 'okie lor', 'okmail dear', 'old ladies', 'old spinout', 'old work', 'one anyway', 'one can', 'one drink', 'one interested', 'one law', 'one lt', 'one name', 'one round', 'one step', 'one wicket', 'ones like', 'online spacebucks', 'ooooooh forgot', 'open tonight', 'openings room', 'operator claim', 'opinion jada', 'opportunity last', 'opt availa', 'opt available', 'opt enjoy', 'opt reply', 'opt send', 'or2stoptxt cs', 'orange available', 'orange call', 'orange customer', 'orange line', 'orange tariffs', 'order reference', 'order way', 'org uk', 'oso wan', 'otherwise part', 'outbid simonwatson5120', 'outside front', 'outta way', 'overdid mon', 'oyster got', 'pa not', 'paid goto', 'pain smile', 'painful maintaining', 'paragon havent', 'parents kidz', 'parents one', 'parents place', 'paris free', 'paris nights', 'park gal', 'park recently', 'part checking', 'part time', 'partner just', 'partner soon', 'partner trip', 'pass call', 'password mix', 'pay go', 'paying attention', 'pc go', 'pc please', 'peak stop', 'pence per', 'people cool', 'people wear', 'people week', 'per 10', 'per min', 'per minute', 'per msg', 'per person', 'per pole', 'per week', 'per wk', 'percent sure', 'perfect partner', 'perhaps much', 'period reapply', 'person call', 'person know', 'pg 750', 'phne say', 'phone 11mths', 'phone 40gb', 'phone 750', 'phone bright', 'phone call', 'phone can', 'phone chat', 'phone every', 'phone fancy', 'phone five', 'phone half', 'phone now', 'phone plan', 'phone right', 'phone services', 'phone upgrade', 'phone works', 'phones call', 'phones free', 'photo great', 'php rg21', 'pick lamp', 'pick open', 'pick phone', 'picking various', 'picking wherever', 'pictures today', 'pin tgxxrz', 'pisces im', 'pity mood', 'pizza can', 'place south', 'place well', 'plan liao', 'plan require', 'planettalkinstant com', 'planning coming', 'play 85222', 'play hold', 'play ice', 'play now', 'play official', 'played mid', 'player 500', 'player know', 'please call', 'please confirm', 'please every', 'please go', 'please leave', 'please see', 'please tell', 'pleased advise', 'pleased send', 'pleasure meeting', 'pleasure smile', 'pls ask', 'pls give', 'pls goto', 'pls needs', 'pls reply', 'pls save', 'pls send', 'pls speak', 'pls stop', 'plus album', 'plyr bid', 'po box', 'po box1146', 'pobox 2667', 'pobox 36504', 'pobox 4403ldnw1a7rw18', 'pobox36504w45wq txtno', 'pobox84 m263uz', 'poboxox36504w45wq 16', 'pocay wocay', 'points call', 'points claim', 'points going', 'pole unsub', 'police station', 'poly charity', 'poly mono', 'poly text', 'poly3 cha', 'polyphonic tones', 'polys zed', 'port step', 'posh birds', 'positive negative', 'possession property', 'post bcm4284', 'postcode gaytextbuddy', 'posted prey', 'posts hello', 'pound award', 'pound prize', 'pounds free', 'pounds genuine', 'pounds maximize', 'pounds per', 'pounds txt', 'pours like', 'power no', 'ppm 18', 'ppm150 sae', 'ppt150x3 normal', 'prabha soryda', 'pray remove', 'preferably citizen', 'premier call', 'premium phone', 'prepayment direct', 'prescripiton drvgsto', 'pretty weak', 'previous problem', 'previously refused', 'prey loving', 'price line', 'price orange', 'price rental', 'pride almost', 'pride pleasure', 'prince gn', 'princess great', 'princess want', 'print marandratha', 'priscilla ready', 'private 2003', 'private 2004', 'prize 02', 'prize 03', 'prize call', 'prize claim', 'prize guaranteed', 'prize jackpot', 'prize reward', 'prize text', 'prize txt', 'probably lt', 'problem frm', 'problem helps', 'problem yup', 'problems give', 'prods champneys', 'profit charity', 'program re', 'project centre', 'project hours', 'project started', 'prometazine syrup', 'promise ring', 'property mmm', 'pshew missing', 'pub cafe', 'pub called', 'purpose 500', 'put back', 'put need', 'put skip', 'qatar rakhesh', 'qbank buying', 'quality ringtone', 'question std', 'questions play', 'quick now', 'quite diff', 'quite gd', 'quite long', 'quiz take', 'quiz text', 'quiz wkly', 'quoting claim', 'racal libertines', 'raed wihtuot', 'rael friendship', 'rain smile', 'rakhesh indian', 'ramen unless', 'randy sexy', 'rate 5p', 'rate apply', 'rate box403', 'rate get', 'rates app', 'rather nice', 'rcv msgs', 'rcvd custcare', 're around', 're done', 're gonna', 're met', 're not', 're offer', 're reply', 're slacking', 'reach ur', 'reaching message', 'ready summer', 'real com', 'real dogging', 'real meaning', 'realise busy', 'realize 40', 'really hope', 'really horny', 'really masters', 'really trying', 'really wish', 'realy frm', 'reapply take', 'reason everything', 'reason hour', 'reassuring crazy', 'reboot ym', 'recd cust', 'recd thirtyeight', 'receipts shall', 'receive 1000', 'receive 2000', 'receive 350', 'receive entry', 'receive search', 'receive service', 'receivea 900', 'recent review', 'recently started', 'recieve tone', 'records mystery', 'red white', 'red wine', 'red wings', 'redeemed points', 'reduce give', 'reference t91', 'referin mei', 'refused can', 'regalportfolio co', 'relax children', 'rem correctly', 'remember mayb', 'reminder not', 'reminder o2', 'remove records', 'remove teeth', 'remove txt', 'removed send', 'renewal pin', 'rental call', 'rental camcorder', 'rental latest', 'repair shop', 'repeating last', 'replace loss', 'replied text', 'reply call', 'reply delivery', 'reply end', 'reply free', 'reply hl', 'reply lar', 'reply msg', 'reply name', 'reply no', 'reply offer', 'reply poly', 'reply reveal', 'reply sms', 'reply stop', 'reply text', 'reply wait', 'reply word', 'reply yes', 'replying message', 'replying yes', 'representative 0800', 'representative 08714712394', 'representative freephone', 'require guidance', 'resolved tho', 'respectful regards', 'results daily', 'resuming minimum', 'reveal stop', 'reveal thinks', 'revealing even', 'review keep', 'review mob', 'reward claim', 'reward hours', 'rg21 4jx', 'rhode island', 'rich liao', 'right now', 'right outside', 'ring 02073162414', 'ring 2morrowxxxx', 'ring claims', 'ringtone club', 'ringtone free', 'ringtone message', 'ringtone order', 'ringtone service', 'ringtone text', 'ringtone uk', 'ringtone waiting', 'rodds1 21', 'rodger burns', 'rofl true', 'role model', 'romantic paris', 'room til', 'roses ladies', 'round trip', 'row w1j6hl', 'royal visit', 'rp176781 stop', 'rs shelf', 'rstm sw7', 'ruin ur', 'ruining life', 'rule tamilnadu', 'run away', 'run exe', 'running around', 'ryan friend', 's89 valid', 'sac needs', 'sae box326', 'sae cs', 'safe trip', 'saibaba colany', 'said get', 'salam alaikkum', 'sale hot', 'salesman ask', 'salmon la', 'sam 25', 'sane fighting', 'santa calling', 'santa xmas', 'sar xxx', 'sashimi ok', 'sat eve', 'saturday stop', 'savamob member', 'savamob offers', 'savamob pobox84', 'save number', 'saw new', 'say already', 'say hello', 'say ll', 'say quite', 'say wish', 'saying dat', 'says get', 'says not', 'sch going', 'sch hr', 'sch later', 'sch rem', 'school call', 'school resuming', 'school turns', 'scotland 4txt', 'scotsman saturday', 'scream lt', 'screaming surprise', 'search postcode', 'search tat', 'secret admirer', 'secs ring', 'sed yes', 'see channel', 'see couple', 'see film', 'see get', 'see go', 'see grins', 'see house', 'see maybe', 'see meet', 'see naked', 'see nice', 'see smiling', 'see soon', 'see tomorrow', 'see uncle', 'see www', 'see ya', 'seeds worth', 'seeing every', 'seem cool', 'seen back', 'seen naughty', 'selected receive', 'selected receivea', 'selection content', 'selection summer', 'self assessment', 'self limiting', 'selling lt', 'send 50', 'send 87575', 'send another', 'send cash', 'send company', 'send contact', 'send free', 'send get', 'send go', 'send hide', 'send hmv', 'send logo', 'send message', 'send stop', 'sent direct', 'sent every', 'sent ur', 'seriously told', 'service annoncement', 'service announcement', 'service cal', 'service changed', 'service entered', 'service just', 'service menu', 'service msg', 'service representative', 'service uk', 'services 08717205546', 'services 09057039994', 'services call', 'services inclusive', 'services text', 'servs sed', 'set dates', 'set website', 'sex 30', 'sex text', 'sextextuk com', 'sexy female', 'sexy make', 'sexy today', 'shag interested', 'shall bring', 'shall call', 'shall go', 'shall tell', 'share moments', 'shd driving', 'shd haf', 'shelf buy', 'shinco dvd', 'shirts jumpers', 'shit bailiff', 'shit got', 'shit nights', 'shld rich', 'shop 80878', 'shop 85023', 'shop asda', 'shop com', 'shop pleased', 'shop reason', 'shop till', 'shopping breaks', 'shopping spree', 'shortbreaks org', 'show amp', 'show next', 'shows 786', 'shows 800', 'shows won', 'shracomorsglsuplt 10', 'shrub hill', 'shu looking', 'shu shu', 'shud go', 'shuhui say', 'sign horo', 'silent spl', 'sim card', 'simonwatson5120 shinco', 'simple difficult', 'simple laughing', 'simple loving', 'simple pls', 'simple simple', 'simple winning', 'simply must', 'simply text', 'since young', 'sing hu', 'singapore wat', 'singles chart', 'sipix digital', 'sir hr', 'sir salam', 'sir waiting', 'sister going', 'sister school', 'sit come', 'site buying', 'sitll yuo', 'sitting staring', 'siva tats', 'six chances', 'sk3 8wp', 'skilgme tscs087147403231winawk', 'skip right', 'slave want', 'sleep fell', 'sleep hope', 'sleep now', 'sleep well', 'sleeping surfing', 'slept wid', 'slide enough', 'slide yeah', 'slow jamz', 'slow using', 'slowly will', 'slp well', 'smart help', 'smart win', 'smile becoz', 'smile devouring', 'smile pain', 'smile pleasure', 'smile sum1', 'smile trouble', 'smile ur', 'smiles made', 'smiling enjoy', 'smiling good', 'sms 08718727868', 'sms ac', 'sms free', 'sms neva', 'sms services', 'smsco net', 'smsrewards end', 'smsservices yourinclusive', 'smth now', 'sofa naked', 'soiree speciale', 'somebody set', 'somebody shld', 'someone contacted', 'someone female', 'someone sexy', 'someone still', 'somethin tonight', 'something drop', 'something else', 'something parents', 'something thats', 'sometime soon', 'somewhere else', 'song ur', 'sony dvd', 'sony ericsson', 'sony nokia', 'sonyericsson nokia', 'soon company', 'soon little', 'soon love', 'soon mite', 'soon ur', 'soon will', 'sorry just', 'sorry ll', 'soryda realy', 'sounds better', 'south park', 'south tampa', 'sp tyrone', 'spanish holiday', 'sparkling shopping', 'speak live', 'speak wont', 'special 500', 'special call', 'special cinema', 'special win', 'speciale zouk', 'specially selected', 'spend amount', 'spend together', 'spider 83338', 'spider man', 'spinout giv', 'spiritual deep', 'spl character', 'splash wine', 'splleing tihs', 'spoken not', 'sport keep', 'spree every', 'spree txt', 'sptv new', 'squeezed lt', 'sry knw', 'standard rates', 'star sign', 'staring juicy', 'start find', 'start no', 'start rumbling', 'started aha', 'started last', 'started watching', 'starwars3 etc', 'statement 07742676969', 'statement 07753741225', 'statement 07808', 'statement 07808247860', 'statement 07815296484', 'statement shows', 'station toilet', 'stay sane', 'staying port', 'std chgs', 'std txt', 'step back', 'step foward', 'step liao', 'step outta', 'stereophonics marley', 'sterm voice', 'stewartsize 2kbsubject', 'steyn surely', 'still bring', 'still come', 'still filling', 'still give', 'still great', 'still havent', 'still help', 'still loves', 'still market', 'still number', 'still pretty', 'still tb', 'still unclaimed', 'stolen cops', 'stomach start', 'stop 08452810071', 'stop 50', 'stop 69698', 'stop 80062', 'stop 82324', 'stop 83222', 'stop 87070', 'stop bootydelious', 'stop end', 'stop frnd', 'stop getstop', 'stop go2', 'stop messages', 'stop no', 'stop opt', 'stop send', 'stop sms', 'stop texts', 'stop tones', 'stop txt', 'stop txtstop', 'stop www', 'stopsms 08', 'store 88039', 'stories girls', 'storming msg', 'street not', 'stressful gr8', 'strokes win', 'student discount', 'studies alone', 'studying fine', 'studying sch', 'stuff asap', 'stuff dull', 'stuff waste', 'stupid hear', 'stupid suggestion', 'stylish simple', 'sub 16', 'subpoly 81618', 'subscribe6gbp mnth', 'subscribed best', 'subscription ringtone', 'sudden influx', 'sue 20', 'sue 89555', 'suggestion lands', 'suite342 2lands', 'sum1 hurts', 'summer bulbs', 'summer free', 'summer shopping', 'sun liao', 'sun0819 posts', 'sunday holiday', 'sunday sunday', 'sunny california', 'sunshine quiz', 'supply cds', 'suppose see', 'suprman matrix3', 'sure get', 'sure thing', 'sure time', 'sure working', 'surely get', 'surprise waiting', 'suzy 69876', 'svc free', 'sw7 3ss', 'swan something', 'sweet dreams', 'sweet heart', 'sweet morning', 'swoop picking', 'swt dreams', 'swt drms', 'syrup 5mls', 'system side', 't91 will', 'table booked', 'take care', 'take exam', 'take home', 'take mrt', 'take partner', 'take pictures', 'take ur', 'take us', 'takes away', 'takes enough', 'taking derek', 'taking dress', 'taking lt', 'talk royal', 'talk sexy', 'talk time', 'talks email', 'tamilnadu tough', 'tampa might', 'tampa sarasota', 'tantrum finished', 'tariffs text', 'tat vid', 'tat yijue', 'tats askd', 'taylor walmart', 'tb ok', 'tc 150p', 'tc biz', 'tcr w1', 'tcs sae', 'tea shop', 'teach class', 'team 87077', 'team news', 'tease know', 'teeth not', 'teeth painful', 'teletext pg', 'tell anything', 'tell bad', 'tell can', 'tell everybody', 'tell like', 'tell not', 'tell pub', 'tell quite', 'tell re', 'tell something', 'tell stupid', 'tell ur', 'telphone moral', 'temales wonderful', 'temp will', 'ten rs', 'tenants welcome', 'tenerife holiday', 'terms conditions', 'test lt', 'text back', 'text camcorder', 'text charged', 'text credits', 'text dating', 'text fa', 'text first', 'text get', 'text go', 'text hot', 'text lately', 'text live', 'text meet', 'text messages', 'text money', 'text new', 'text orange', 'text password', 'text play', 'text priscilla', 'text randy', 'text rate', 'text shop', 'text spider', 'text stop', 'text subpoly', 'text sue', 'text valid', 'text vip', 'text wap', 'text whenever', 'text word', 'text yes', 'textand new', 'textbuddy chat', 'texted craziest', 'texted pshew', 'textoperator g2', 'texts call', 'texts txt', 'thank generally', 'thank great', 'thank princess', 'thanks coming', 'thanks ll', 'thanks lot', 'thanks ringtone', 'thanks subscription', 'thanks temales', 'thanksgiving without', 'thanx lot', 'thats cool', 'thats kind', 'thats nice', 'thats okay', 'themob check', 'themob wap', 'theplace adress', 'theres chick', 'thing 4eva', 'thing get4an18th', 'thing will', 'things keep', 'things like', 'think also', 'think can', 'think got', 'think match', 'think mentor', 'think might', 'think rule', 'think run', 'think steyn', 'think tantrum', 'think ur', 'thinkin malaria', 'thinking lor', 'thinks special', 'thinks ur', 'thirtyeight pence', 'thk got', 'tho anyway', 'tho kane', 'thou upto', 'though didnt', 'though miles', 'thought babe', 'thought get', 'thought living', 'thought misundrstud', 'thought put', 'thought slide', 'thousands old', 'thursday yay', 'tickets sat', 'tihs msg', 'til least', 'til thanksgiving', 'till drop', 'time come', 'time enjoy', 'time everything', 'time finish', 'time gt', 'time job', 'time meeting', 'time re', 'time think', 'time tonight', 'time tried', 'time use', 'time wrkin', 'times text', 'tip anyway', 'tirunelvali week', 'title will', 'tix lar', 'tke care', 'tkts 21st', 'tlp co', 'tmr nite', 'tmr onwards', 'tms widelive', 'tncs website', 'tncs www', 'today bad', 'today bright', 'today can', 'today mah', 'today meeting', 'today offer', 'today sunday', 'today tea', 'today text', 'today www', 'todays draw', 'todays plan', 'todays voda', 'todays vodafone', 'together didn', 'toilet stolen', 'told tell', 'tomorrow uni', 'tomorrow wil', 'tomorrow will', 'tone charity', 'tone gr8', 'tone help', 'tone ur', 'tone within', 'tones 150p', 'tones 3x', 'tones call', 'tones gossip', 'tones phone', 'tones txt', 'tonight im', 'tonight maybe', 'tonight not', 'tonight thou', 'tonight want', 'tonight whenever', 'tooo simple', 'top 20', 'top polyphonic', 'top quality', 'top sony', 'topic yet', 'topped http', 'toppoly tune', 'tot group', 'tot havent', 'total disappointment', 'touch folks', 'tough people', 'town now', 'town tonight', 'toxic come', 'traffic plus', 'train worc', 'transfr amt', 'trav aco', 'travel voucher', 'treadmill say', 'treasure every', 'treat somebody', 'treatin ya', 'trial prods', 'tried call', 'tried contact', 'trip barring', 'trip bus', 'trip eurodisinc', 'trip lifetime', 'trip nigeria', 'trouble pours', 'true much', 'true name', 'true ringtone', 'true tone', 'true true', 'trust buy', 'truth ll', 'try cars', 'try contact', 'try wales', 'trying contact', 'trying figure', 'trying not', 'trying smth', 'trying tell', 'trying weekend', 'ts cs', 'tsandcs apply', 'tscs087147403231winawk age16', 'tune sent', 'turns dealing', 'tv collect', 'tv ur', 'two egg', 'txt ansr', 'txt back', 'txt call', 'txt club', 'txt csh11', 'txt dis', 'txt end', 'txt horo', 'txt love', 'txt message', 'txt music', 'txt nokia', 'txt one', 'txt orange', 'txt rate', 'txt shop', 'txt stop', 'txt store', 'txt tone', 'txt ur', 'txt word', 'txt xxuk', 'txtauction txt', 'txting gravel', 'txting moan', 'txting tell', 'txtno no', 'txts 6months', 'txts cost', 'txtstop www', 'txttowin co', 'ugh leg', 'uk customer', 'uk expressoffer', 'uk largest', 'uk mobile', 'uk per', 'uk pobox', 'uk singles', 'ultimate spider', 'un redeemed', 'unclaimed call', 'uncle already', 'unique enough', 'united kingdom', 'unless don', 'unlimited text', 'unredeemed bonus', 'unsub 08718727870', 'unsub reply', 'unsubscribe alerts', 'unsubscribe anytime', 'unsubscribe stop', 'unsubscribe text', 'update co', 'update latest', 'update now', 'update_now xmas', 'upgrade loyalty', 'upgrade pay', 'upgrdcentre orange', 'upload songs', 'uploaded mine', 'upto tonight', 'ur 150', 'ur 1st', 'ur 500', 'ur area', 'ur award', 'ur awarded', 'ur birds', 'ur brolly', 'ur career', 'ur cash', 'ur chance', 'ur coming', 'ur content', 'ur day', 'ur dinner', 'ur dream', 'ur email', 'ur face', 'ur favorite', 'ur friendship', 'ur hand', 'ur help', 'ur home', 'ur lab', 'ur life', 'ur lover', 'ur m8s', 'ur mates', 'ur mob', 'ur mobile', 'ur national', 'ur order', 'ur ringtone', 'ur smart', 'ur special', 'ur star', 'ur stomach', 'ur time', 'ur todays', 'ur words', 'urgent 2nd', 'urgent call', 'urgent last', 'urgent message', 'urgent mobile', 'urgent trying', 'urgent ur', 'urgent won', 'urself gn', 'urself jacket', 'us amused', 'us another', 'us back', 'us bottle', 'us forgt', 'us free', 'us lor', 'us problems', 'use brain', 'use considering', 'use credit', 'use phone', 'user trial', 'usher britney', 'using biola', 'using eve', 'usual iam', 'uworld site', 'valentines day', 'valid 12', 'valid 12hrs', 'valid name', 'valued customer', 'valued network', 'various points', 'vary mobiles', 've booked', 've got', 've looked', 've put', 'verify get', 'verify yr', 'via access', 'victoria island', 'vid not', 'video camera', 'video handset', 'video phone', 'vikky come', 'vip 83110', 'virgin records', 'visit 1st', 'visit sms', 'visit www', 'voda numbers', 'vodafone numbers', 'voice studying', 'vomit self', 'voucher call', 'voucher holder', 'vouchers 125gift', 'vouchers free', 'vouchers text', 'vouchers today', 'vouchers won', 'w45wq 16', 'waht rael', 'wait hmmmm', 'wait period', 'wait reply', 'wait til', 'wait ur', 'wait will', 'waitin treat', 'waiting collected', 'waiting company', 'waiting letter', 'waiting please', 'waiting sofa', 'wake gt', 'wake sweet', 'wales scotland', 'walk far', 'walk table', 'walking heaven', 'walking park', 'walmart not', 'wan come', 'wan tell', 'wana feels', 'wanna gym', 'want 750', 'want 800', 'want chat', 'want custom', 'want explicit', 'want get', 'want hear', 'want inside', 'want leave', 'want money', 'want please', 'want ramen', 'want real', 'want see', 'want stuffs', 'want take', 'want tell', 'want xmas', 'wanted bed', 'wants work', 'wap 82468', 'wap bangb', 'wap bookmark', 'wap link', 'wap xxxmobilemovieclub', 'warranty 150ppm', 'wasn paying', 'waste time', 'wat long', 'wat mah', 'wat no', 'wat now', 'wat think', 'wat time', 'watch just', 'watching ajith', 'watching office', 'watching tv', 'wats matter', 'wats talks', 'way congrats', 'way make', 'way receive', 'way specific', 'way try', 'way ve', 'way will', 'wc1n 3xx', 'weak today', 'wear shirts', 'weather just', 'web age16', 'website can', 'wednesday see', 'wednesday think', 'week another', 'week call', 'week can', 'week choose', 'week competition', 'week free', 'week gave', 'week just', 'week new', 'week no1', 'week now', 'week said', 'week see', 'week stuff', 'week txt', 'week weekly', 'weekend draw', 'weekends draw', 'weekly competition', 'weekly draw', 'weekly quiz', 'weeks offer', 'weeks stuff', 'welcome previously', 'welcomes enjoy', 'well big', 'well boytoy', 'well good', 'well gud', 'well just', 'well keep', 'well obviously', 'well preferably', 'well take', 'well thats', 'wen can', 'wen get', 'wen lift', 'wen ll', 'went home', 'went project', 'whats ur', 'wheat chex', 'whenever can', 'whenever re', 'wherever fuck', 'wherever ur', 'whether cut', 'white see', 'wid 25', 'widelive com', 'wif now', 'wif yest', 'wihtuot ayn', 'wil bring', 'wil come', 'will 15', 'will best', 'will charged', 'will completely', 'will feel', 'will gentle', 'will give', 'will go', 'will going', 'will just', 'will kept', 'will make', 'will meet', 'will motor', 'will moving', 'will msg', 'will need', 'will not', 'will princess', 'will reach', 'will recieve', 'will reduce', 'will resolved', 'will sent', 'will show', 'will taking', 'will tell', 'will tomorrow', 'will treasure', 'will txt', 'will vomit', 'will win', 'win 1000', 'win 200', 'win 250', 'win 80086', 'win big', 'win cash', 'win fa', 'win nookii', 'win top', 'wine keep', 'wine makes', 'wine theplace', 'wings play', 'winner claim', 'winner specially', 'winner valued', 'winnersclub po', 'winning tooo', 'wish command', 'wish day', 'wish great', 'wish happiness', 'wish knew', 'wishing beautiful', 'wishing wonderful', 'within 28days', 'within next', 'without anyones', 'without upcharge', 'wk club4', 'wk opt', 'wk txt', 'wkly comp', 'wkly draw', 'wkly shopping', 'wkly win', 'wml id', 'wocay luv', 'woke gave', 'won 000', 'won 1000', 'won 1250', 'won 1450', 'won 5000', 'won 750', 'won 800', 'won 900', 'won guaranteed', 'won just', 'won week', 'wonderful thank', 'wonderful week', 'wondering right', 'wont ask', 'wont tell', 'worc foregate', 'word back', 'word claim', 'word collect', 'word free', 'word start', 'word win', 'work doesnt', 'work fine', 'work first', 'work frm', 'work lapdancer', 'work now', 'work please', 'work tonight', 'working found', 'works laugh', 'works mine', 'worlds discreet', 'worse gastroenteritis', 'worth 33', 'worth discount', 'wot people', 'wot student', 'wouldn jerk', 'wrk feel', 'wrnog bt', 'wt real', 'www 07781482378', 'www 100percent', 'www applausestore', 'www areyouunique', 'www bubbletext', 'www cnupdates', 'www comuk', 'www dbuk', 'www gamb', 'www getzed', 'www ldew', 'www regalportfolio', 'www shortbreaks', 'www sms', 'www smsco', 'www tc', 'www tlp', 'www txt', 'www txttowin', 'wylie ryan', 'wylie tampa', 'xclusive clubsaisai', 'xmas 100', 'xmas eve', 'xmas offer', 'xxuk suzy', 'xxx std', 'xxxmobilemovieclub com', 'xxxmobilemovieclub use', 'xxxxxx shows', 'xy trying', 'xy will', 'ya referin', 'ya treacle', 'yahoo pobox36504w45wq', 'yan jiu', 'yay gonna', 'yeah can', 'yeah clearly', 'yeah diet', 'yeah everything', 'yeah jus', 'yeah ll', 'yeah probably', 'yeah slow', 'yeah thinking', 'yeah will', 'yeah work', 'year call', 'year old', 'year special', 'years delivery', 'years ll', 'years old', 'yeh indians', 'yeovil will', 'yep get', 'yes 434', 'yes 85023', 'yes callback', 'yes knw', 'yes l8er', 'yes no', 'yes please', 'yes princess', 'yes texted', 'yes trust', 'yest still', 'yesterday true', 'yet hee', 'yet rite', 'yijue tot', 'ym got', 'youdoing later', 'young still', 'yourinclusive text', 'yoville phone', 'yr network', 'yr prize', 'yrs supply', 'yuo can', 'yuo exmpel', 'yup going', 'yup msg', 'yup paragon', 'zed 08701417012', 'zouk nichols']\n",
            "y: [[0 0 0 ... 0 0 0]\n",
            " [0 0 0 ... 0 0 0]\n",
            " [0 0 0 ... 0 0 0]\n",
            " ...\n",
            " [0 0 0 ... 0 0 0]\n",
            " [0 0 0 ... 0 0 0]\n",
            " [0 0 0 ... 0 0 0]]\n"
          ]
        },
        {
          "name": "stderr",
          "output_type": "stream",
          "text": [
            "/usr/local/lib/python3.7/dist-packages/sklearn/feature_extraction/text.py:401: UserWarning: Your stop_words may be inconsistent with your preprocessing. Tokenizing the stop words generated tokens ['let', 'll', 're', 've'] not in stop_words.\n",
            "  % sorted(inconsistent)\n",
            "/usr/local/lib/python3.7/dist-packages/sklearn/utils/deprecation.py:87: FutureWarning: Function get_feature_names is deprecated; get_feature_names is deprecated in 1.0 and will be removed in 1.2. Please use get_feature_names_out instead.\n",
            "  warnings.warn(msg, category=FutureWarning)\n"
          ]
        }
      ],
      "source": [
        "y=cv_bg.fit_transform(dataset['v2'])\n",
        "print(\"Features:\",cv_bg.get_feature_names())\n",
        "print(\"y:\",y.toarray())"
      ]
    },
    {
      "cell_type": "code",
      "execution_count": 42,
      "metadata": {
        "colab": {
          "base_uri": "https://localhost:8080/"
        },
        "id": "AlP98E3J3gyx",
        "outputId": "2bc39d1f-7c51-44dc-f197-6cbca53bb8f7"
      },
      "outputs": [
        {
          "name": "stdout",
          "output_type": "stream",
          "text": [
            "train_data:   (0, 2000)\t1\n",
            "  (0, 3932)\t1\n",
            "  (0, 2927)\t1\n",
            "  (0, 1484)\t1\n",
            "  (0, 1856)\t1\n",
            "  (0, 1700)\t1\n",
            "  (0, 4264)\t1\n",
            "  (0, 1347)\t1\n",
            "  (0, 1918)\t1\n",
            "  (0, 1313)\t1\n",
            "  (0, 3637)\t2\n",
            "  (0, 2380)\t1\n",
            "  (0, 1338)\t1\n",
            "  (0, 3349)\t1\n",
            "  (0, 2392)\t1\n",
            "  (0, 4181)\t1\n",
            "  (0, 688)\t1\n",
            "  (0, 3257)\t1\n",
            "  (0, 4263)\t1\n",
            "  (0, 814)\t1\n",
            "  (0, 2926)\t1\n",
            "  (0, 4065)\t1\n",
            "  (0, 556)\t1\n",
            "  (0, 2306)\t1\n",
            "  (0, 1648)\t1\n",
            "  :\t:\n",
            "  (225, 2578)\t1\n",
            "  (225, 158)\t1\n",
            "  (225, 2384)\t1\n",
            "  (225, 2939)\t1\n",
            "  (225, 1098)\t1\n",
            "  (226, 1543)\t1\n",
            "  (226, 1246)\t1\n",
            "  (226, 1734)\t1\n",
            "  (226, 2345)\t1\n",
            "  (226, 1161)\t1\n",
            "  (226, 984)\t1\n",
            "  (226, 2166)\t1\n",
            "  (227, 1768)\t1\n",
            "  (227, 3902)\t1\n",
            "  (227, 644)\t1\n",
            "  (227, 2063)\t1\n",
            "  (227, 3454)\t1\n",
            "  (228, 492)\t1\n",
            "  (228, 2344)\t1\n",
            "  (229, 1765)\t1\n",
            "  (229, 1887)\t1\n",
            "  (229, 1518)\t1\n",
            "  (229, 2619)\t1\n",
            "  (229, 4202)\t1\n",
            "  (229, 3077)\t1\n",
            "\n",
            " test_data   (0, 1626)\t1\n",
            "  (0, 1630)\t1\n",
            "  (0, 3433)\t1\n",
            "  (0, 3110)\t1\n",
            "  (0, 1798)\t1\n",
            "  (0, 491)\t1\n",
            "  (0, 2108)\t1\n",
            "  (0, 3112)\t1\n",
            "  (1, 946)\t1\n",
            "  (1, 3778)\t1\n",
            "  (1, 1833)\t1\n",
            "  (1, 1080)\t1\n",
            "  (1, 1159)\t1\n",
            "  (1, 3925)\t1\n",
            "  (1, 1790)\t1\n",
            "  (1, 925)\t1\n",
            "  (1, 4033)\t1\n",
            "  (1, 2632)\t1\n",
            "  (1, 2729)\t1\n",
            "  (1, 1600)\t1\n",
            "  (1, 4199)\t1\n",
            "  (1, 3661)\t1\n",
            "  (1, 3795)\t1\n",
            "  (1, 1355)\t1\n",
            "  (1, 3754)\t1\n",
            "  :\t:\n",
            "  (281, 1263)\t1\n",
            "  (281, 2243)\t1\n",
            "  (281, 3072)\t1\n",
            "  (282, 1464)\t1\n",
            "  (282, 3055)\t1\n",
            "  (282, 3548)\t1\n",
            "  (282, 1407)\t1\n",
            "  (282, 379)\t1\n",
            "  (282, 2835)\t1\n",
            "  (282, 3549)\t1\n",
            "  (282, 1537)\t1\n",
            "  (282, 380)\t1\n",
            "  (282, 3741)\t1\n",
            "  (282, 3689)\t1\n",
            "  (282, 1752)\t1\n",
            "  (282, 47)\t1\n",
            "  (282, 238)\t1\n",
            "  (282, 176)\t1\n",
            "  (282, 197)\t1\n",
            "  (282, 1470)\t1\n",
            "  (282, 3693)\t1\n",
            "  (282, 274)\t1\n",
            "  (282, 173)\t1\n",
            "  (282, 2427)\t1\n",
            "  (282, 3778)\t1\n"
          ]
        }
      ],
      "source": [
        "bg_target=dataset['v1']\n",
        "from sklearn.model_selection import train_test_split\n",
        "databg_train,databg_test,targetbg_train,targetbg_test=train_test_split(y,bg_target,train_size=0.45,random_state=113)\n",
        "print(\"train_data:\",databg_train)\n",
        "print(\"\\n test_data\",databg_test)"
      ]
    },
    {
      "cell_type": "markdown",
      "metadata": {
        "id": "cgBSWiCg4vp3"
      },
      "source": [
        "**Using MultinomialNB**"
      ]
    },
    {
      "cell_type": "code",
      "execution_count": 44,
      "metadata": {
        "colab": {
          "base_uri": "https://localhost:8080/"
        },
        "id": "-yw0c1nl4toI",
        "outputId": "24ae982c-e827-464f-eff4-86c8dc88faec"
      },
      "outputs": [
        {
          "name": "stdout",
          "output_type": "stream",
          "text": [
            "Prediction: ['ham' 'spam' 'ham' 'ham' 'ham' 'ham' 'ham' 'ham' 'ham' 'ham' 'ham' 'ham'\n",
            " 'ham' 'ham' 'ham' 'ham' 'ham' 'ham' 'ham' 'ham' 'spam' 'ham' 'ham' 'ham'\n",
            " 'ham' 'ham' 'ham' 'ham' 'ham' 'ham' 'spam' 'ham' 'spam' 'ham' 'ham' 'ham'\n",
            " 'ham' 'ham' 'ham' 'ham' 'ham' 'spam' 'ham' 'ham' 'ham' 'ham' 'ham' 'ham'\n",
            " 'spam' 'ham' 'ham' 'ham' 'ham' 'ham' 'spam' 'ham' 'ham' 'ham' 'ham'\n",
            " 'spam' 'ham' 'ham' 'ham' 'ham' 'ham' 'ham' 'ham' 'ham' 'ham' 'ham' 'spam'\n",
            " 'ham' 'ham' 'ham' 'ham' 'ham' 'ham' 'ham' 'ham' 'spam' 'ham' 'ham' 'ham'\n",
            " 'ham' 'spam' 'ham' 'ham' 'ham' 'ham' 'spam' 'ham' 'ham' 'ham' 'ham'\n",
            " 'spam' 'ham' 'ham' 'ham' 'ham' 'ham' 'ham' 'ham' 'ham' 'ham' 'spam' 'ham'\n",
            " 'ham' 'spam' 'ham' 'ham' 'ham' 'ham' 'ham' 'ham' 'ham' 'ham' 'ham' 'ham'\n",
            " 'ham' 'ham' 'ham' 'spam' 'ham' 'ham' 'ham' 'ham' 'spam' 'ham' 'ham' 'ham'\n",
            " 'ham' 'ham' 'ham' 'ham' 'ham' 'ham' 'ham' 'ham' 'ham' 'ham' 'ham' 'ham'\n",
            " 'ham' 'ham' 'ham' 'ham' 'ham' 'ham' 'spam' 'ham' 'ham' 'ham' 'ham' 'ham'\n",
            " 'spam' 'ham' 'ham' 'ham' 'ham' 'ham' 'spam' 'spam' 'spam' 'ham' 'ham'\n",
            " 'ham' 'ham' 'spam' 'ham' 'ham' 'ham' 'ham' 'ham' 'ham' 'ham' 'ham' 'ham'\n",
            " 'ham' 'spam' 'ham' 'ham' 'ham' 'ham' 'ham' 'spam' 'spam' 'ham' 'ham'\n",
            " 'ham' 'ham' 'ham' 'spam' 'ham' 'ham' 'ham' 'ham' 'ham' 'ham' 'ham' 'spam'\n",
            " 'ham' 'ham' 'ham' 'ham' 'spam' 'ham' 'ham' 'ham' 'ham' 'ham' 'ham' 'ham'\n",
            " 'spam' 'spam' 'ham' 'ham' 'ham' 'ham' 'ham' 'ham' 'ham' 'ham' 'spam'\n",
            " 'ham' 'ham' 'ham' 'ham' 'ham' 'ham' 'ham' 'ham' 'spam' 'ham' 'ham' 'ham'\n",
            " 'ham' 'ham' 'spam' 'ham' 'ham' 'ham' 'ham' 'ham' 'ham' 'ham' 'ham' 'spam'\n",
            " 'spam' 'ham' 'ham' 'ham' 'ham' 'ham' 'ham' 'ham' 'ham' 'ham' 'ham' 'spam'\n",
            " 'ham' 'ham' 'ham' 'ham' 'ham' 'ham' 'ham' 'ham' 'ham' 'ham' 'ham' 'ham'\n",
            " 'spam' 'spam' 'ham' 'spam' 'ham' 'spam' 'ham' 'ham' 'ham' 'ham' 'ham'\n",
            " 'ham']\n"
          ]
        }
      ],
      "source": [
        "mnb_bg=MultinomialNB()\n",
        "mnb_bg.fit(databg_train,targetbg_train)\n",
        "targetbg_pred=mnb_bg.predict(databg_test)\n",
        "print(\"Prediction:\",targetbg_pred)"
      ]
    },
    {
      "cell_type": "code",
      "execution_count": 45,
      "metadata": {
        "colab": {
          "base_uri": "https://localhost:8080/"
        },
        "id": "lY8qsQse5Uei",
        "outputId": "3cf09a5d-5532-4a97-b3c4-9c0fa5a62f1e"
      },
      "outputs": [
        {
          "name": "stdout",
          "output_type": "stream",
          "text": [
            "Accuracy: 0.9611307420494699\n",
            "\n",
            "Precision: [0.79338843 0.97560976]\n",
            "\n",
            "recall: [0.99481865 0.44444444]\n"
          ]
        }
      ],
      "source": [
        "from sklearn.metrics import precision_score,accuracy_score,recall_score\n",
        "accuracy=accuracy_score(target_test,target_pred)\n",
        "precision=precision_score(target_test,targetbg_pred,average=None) \n",
        "recall=recall_score(target_test,targetbg_pred,average=None)\n",
        "print(\"Accuracy:\",accuracy)\n",
        "print(\"\\nPrecision:\",precision)\n",
        "print(\"\\nrecall:\",recall)"
      ]
    },
    {
      "cell_type": "markdown",
      "metadata": {
        "id": "JoTTc9eP5n3-"
      },
      "source": [
        "**Using DecisionTreeClasssifier**"
      ]
    },
    {
      "cell_type": "code",
      "execution_count": 58,
      "metadata": {
        "colab": {
          "base_uri": "https://localhost:8080/"
        },
        "id": "P2LA-0Tq5roJ",
        "outputId": "378b4737-5b85-44ec-e30a-866d3a322d81"
      },
      "outputs": [
        {
          "name": "stdout",
          "output_type": "stream",
          "text": [
            "['ham' 'spam' 'ham' 'ham' 'ham' 'ham' 'ham' 'ham' 'ham' 'ham' 'ham' 'ham'\n",
            " 'ham' 'ham' 'ham' 'ham' 'ham' 'ham' 'ham' 'ham' 'spam' 'ham' 'ham' 'ham'\n",
            " 'ham' 'ham' 'ham' 'ham' 'ham' 'ham' 'ham' 'ham' 'ham' 'ham' 'ham' 'ham'\n",
            " 'ham' 'ham' 'ham' 'ham' 'ham' 'ham' 'ham' 'ham' 'ham' 'ham' 'ham' 'ham'\n",
            " 'ham' 'ham' 'ham' 'ham' 'ham' 'ham' 'ham' 'ham' 'ham' 'ham' 'ham' 'ham'\n",
            " 'ham' 'ham' 'ham' 'ham' 'ham' 'ham' 'ham' 'ham' 'ham' 'ham' 'ham' 'ham'\n",
            " 'ham' 'ham' 'ham' 'ham' 'ham' 'ham' 'ham' 'ham' 'ham' 'ham' 'ham' 'ham'\n",
            " 'ham' 'ham' 'ham' 'ham' 'ham' 'spam' 'ham' 'ham' 'ham' 'ham' 'spam' 'ham'\n",
            " 'ham' 'ham' 'ham' 'ham' 'ham' 'ham' 'ham' 'ham' 'spam' 'spam' 'ham' 'ham'\n",
            " 'ham' 'ham' 'ham' 'ham' 'ham' 'ham' 'ham' 'ham' 'ham' 'ham' 'ham' 'ham'\n",
            " 'ham' 'ham' 'ham' 'ham' 'ham' 'ham' 'spam' 'ham' 'ham' 'ham' 'ham' 'ham'\n",
            " 'ham' 'ham' 'ham' 'ham' 'ham' 'ham' 'ham' 'ham' 'ham' 'ham' 'ham' 'ham'\n",
            " 'ham' 'ham' 'ham' 'ham' 'spam' 'ham' 'ham' 'ham' 'ham' 'ham' 'spam' 'ham'\n",
            " 'ham' 'ham' 'ham' 'ham' 'spam' 'spam' 'ham' 'ham' 'ham' 'ham' 'ham' 'ham'\n",
            " 'ham' 'ham' 'ham' 'ham' 'ham' 'ham' 'ham' 'ham' 'ham' 'ham' 'ham' 'ham'\n",
            " 'ham' 'ham' 'ham' 'ham' 'spam' 'ham' 'ham' 'ham' 'ham' 'ham' 'ham' 'spam'\n",
            " 'ham' 'ham' 'ham' 'ham' 'ham' 'ham' 'ham' 'spam' 'ham' 'ham' 'ham' 'ham'\n",
            " 'spam' 'ham' 'ham' 'ham' 'ham' 'ham' 'ham' 'ham' 'spam' 'ham' 'ham' 'ham'\n",
            " 'ham' 'ham' 'ham' 'ham' 'ham' 'ham' 'ham' 'ham' 'ham' 'ham' 'ham' 'ham'\n",
            " 'ham' 'ham' 'ham' 'spam' 'ham' 'ham' 'ham' 'ham' 'spam' 'ham' 'ham' 'ham'\n",
            " 'ham' 'ham' 'ham' 'ham' 'ham' 'ham' 'ham' 'spam' 'ham' 'ham' 'ham' 'ham'\n",
            " 'ham' 'spam' 'ham' 'ham' 'ham' 'ham' 'spam' 'ham' 'ham' 'ham' 'ham' 'ham'\n",
            " 'ham' 'ham' 'ham' 'ham' 'ham' 'ham' 'ham' 'ham' 'ham' 'ham' 'ham' 'ham'\n",
            " 'ham' 'ham' 'ham' 'ham' 'ham' 'ham' 'spam']\n"
          ]
        }
      ],
      "source": [
        "from sklearn.tree import DecisionTreeClassifier\n",
        "dtc_bg=DecisionTreeClassifier(criterion='gini')\n",
        "dtc_bg=dtc_bg.fit(databg_train,targetbg_train)\n",
        "y_pred=dtc_bg.predict(databg_test)\n",
        "print(y_pred)"
      ]
    },
    {
      "cell_type": "code",
      "execution_count": 59,
      "metadata": {
        "colab": {
          "base_uri": "https://localhost:8080/"
        },
        "id": "3JFqVJ736S-s",
        "outputId": "72b7c15d-abe6-4f45-ae8b-968986cbbd0e"
      },
      "outputs": [
        {
          "name": "stdout",
          "output_type": "stream",
          "text": [
            "Accuracy: 0.9611307420494699\n",
            "\n",
            "Precision: [0.73563218 0.95454545]\n",
            "\n",
            "recall: [0.99481865 0.23333333]\n"
          ]
        }
      ],
      "source": [
        "from sklearn.metrics import precision_score,accuracy_score,recall_score\n",
        "accuracy=accuracy_score(target_test,target_pred)\n",
        "precision=precision_score(target_test,y_pred,average=None) \n",
        "recall=recall_score(target_test,y_pred,average=None)\n",
        "print(\"Accuracy:\",accuracy)\n",
        "print(\"\\nPrecision:\",precision)\n",
        "print(\"\\nrecall:\",recall)"
      ]
    }
  ],
  "metadata": {
    "colab": {
      "collapsed_sections": [],
      "name": "Lab08.ipynb",
      "provenance": []
    },
    "kernelspec": {
      "display_name": "Python 3",
      "name": "python3"
    },
    "language_info": {
      "name": "python"
    }
  },
  "nbformat": 4,
  "nbformat_minor": 0
}
