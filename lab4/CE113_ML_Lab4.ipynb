{
  "cells": [
    {
      "cell_type": "markdown",
      "metadata": {
        "id": "ccisu-ygeO5f"
      },
      "source": [
        "# **Linear regression without using PyTorch built-ins**"
      ]
    },
    {
      "cell_type": "markdown",
      "metadata": {
        "id": "0qqbH7DqWzn7"
      },
      "source": [
        "### Linear regression model from scratch"
      ]
    },
    {
      "cell_type": "code",
      "execution_count": 1,
      "metadata": {
        "id": "tmt_RdMvW02u"
      },
      "outputs": [],
      "source": [
        "import numpy as np\n",
        "import torch"
      ]
    },
    {
      "cell_type": "code",
      "execution_count": 2,
      "metadata": {
        "id": "PQ4HhOclW9tQ"
      },
      "outputs": [],
      "source": [
        "inputs = np.array([[73, 67, 43],\n",
        "[91, 88, 64],\n",
        "[87, 134, 58],\n",
        "[102, 43, 37],\n",
        "[69, 96, 70]], dtype='float32')"
      ]
    },
    {
      "cell_type": "code",
      "execution_count": 3,
      "metadata": {
        "id": "7wWaGS9eXDUk"
      },
      "outputs": [],
      "source": [
        "targets = np.array([[56],\n",
        "[81],\n",
        "[119],\n",
        "[22],\n",
        "[103]], dtype='float32')"
      ]
    },
    {
      "cell_type": "code",
      "execution_count": 4,
      "metadata": {
        "id": "rn8nMuDCXIHV"
      },
      "outputs": [],
      "source": [
        "inputs = torch.from_numpy(inputs)\n",
        "targets = torch.from_numpy(targets)"
      ]
    },
    {
      "cell_type": "code",
      "execution_count": 5,
      "metadata": {
        "id": "IMPV_wNmXLkM"
      },
      "outputs": [],
      "source": [
        "weight = torch.randn(2, 3, requires_grad=True)\n",
        "bias = torch.randn(2, requires_grad=True)"
      ]
    },
    {
      "cell_type": "code",
      "execution_count": 6,
      "metadata": {
        "colab": {
          "base_uri": "https://localhost:8080/"
        },
        "id": "1nhp3TWNXOYR",
        "outputId": "90f9f98d-b696-4247-9aec-b35c867e69f4"
      },
      "outputs": [
        {
          "data": {
            "text/plain": [
              "tensor([[ 36.2536, -29.4826],\n",
              "        [ 42.8841, -47.9727],\n",
              "        [ 23.9670,   7.2395],\n",
              "        [ 70.8914, -55.4939],\n",
              "        [ 20.0058, -40.3066]], grad_fn=<AddBackward0>)"
            ]
          },
          "execution_count": 6,
          "metadata": {},
          "output_type": "execute_result"
        }
      ],
      "source": [
        "inputs @ weight.t() + bias"
      ]
    },
    {
      "cell_type": "code",
      "execution_count": 7,
      "metadata": {
        "id": "rGJ40jueXdLk"
      },
      "outputs": [],
      "source": [
        "def model(inputs):\n",
        "    return inputs @ weight.t() + bias"
      ]
    },
    {
      "cell_type": "code",
      "execution_count": 8,
      "metadata": {
        "colab": {
          "base_uri": "https://localhost:8080/"
        },
        "id": "dENxfjjoXiul",
        "outputId": "cfd72bcd-fed4-42c5-add8-34ea0c3ec694"
      },
      "outputs": [
        {
          "name": "stdout",
          "output_type": "stream",
          "text": [
            "tensor([[ 36.2536, -29.4826],\n",
            "        [ 42.8841, -47.9727],\n",
            "        [ 23.9670,   7.2395],\n",
            "        [ 70.8914, -55.4939],\n",
            "        [ 20.0058, -40.3066]], grad_fn=<AddBackward0>)\n"
          ]
        }
      ],
      "source": [
        "prediction = model(inputs)\n",
        "print(prediction)"
      ]
    },
    {
      "cell_type": "markdown",
      "metadata": {
        "id": "OVWj1Kd8XpZx"
      },
      "source": [
        "### Loss function"
      ]
    },
    {
      "cell_type": "code",
      "execution_count": 9,
      "metadata": {
        "colab": {
          "base_uri": "https://localhost:8080/"
        },
        "id": "1D2vZ1svXuJ8",
        "outputId": "d14c9550-bf0c-43a9-ab29-e37ef4f0c6a5"
      },
      "outputs": [
        {
          "data": {
            "text/plain": [
              "tensor(8312.6162, grad_fn=<DivBackward0>)"
            ]
          },
          "execution_count": 9,
          "metadata": {},
          "output_type": "execute_result"
        }
      ],
      "source": [
        "diff0 = prediction - targets\n",
        "torch.sum(diff0 * diff0) / diff0.numel()"
      ]
    },
    {
      "cell_type": "code",
      "execution_count": 10,
      "metadata": {
        "id": "hiWVShM_XzkZ"
      },
      "outputs": [],
      "source": [
        "def mse(t1, t2):\n",
        "    diff = t1 - t2\n",
        "    return torch.sum(diff * diff) / diff.numel()"
      ]
    },
    {
      "cell_type": "code",
      "execution_count": 11,
      "metadata": {
        "colab": {
          "base_uri": "https://localhost:8080/"
        },
        "id": "1-H1yOMDX2-W",
        "outputId": "202d4d51-d940-430c-8ca4-6e74851d45ef"
      },
      "outputs": [
        {
          "name": "stdout",
          "output_type": "stream",
          "text": [
            "tensor(8312.6162, grad_fn=<DivBackward0>)\n"
          ]
        }
      ],
      "source": [
        "loss = mse(prediction, targets)\n",
        "print(loss)"
      ]
    },
    {
      "cell_type": "markdown",
      "metadata": {
        "id": "xbEqu47lYBok"
      },
      "source": [
        "### Compute gradients"
      ]
    },
    {
      "cell_type": "code",
      "execution_count": 12,
      "metadata": {
        "colab": {
          "base_uri": "https://localhost:8080/"
        },
        "id": "OP-rcG-HYFTs",
        "outputId": "00d43e10-9c0a-4342-8d09-8c68d8f42d11"
      },
      "outputs": [
        {
          "name": "stdout",
          "output_type": "stream",
          "text": [
            "tensor([[-2783.5171, -4655.3501, -2560.2085],\n",
            "        [-9098.4883, -9828.5020, -6262.1704]])\n",
            "tensor([ -37.3996, -109.4033])\n"
          ]
        }
      ],
      "source": [
        "loss.backward()\n",
        "print(weight.grad)\n",
        "print(bias.grad)"
      ]
    },
    {
      "cell_type": "markdown",
      "metadata": {
        "id": "fnBvXd83YNSX"
      },
      "source": [
        "### Train the model using gradient descent"
      ]
    },
    {
      "cell_type": "code",
      "execution_count": 13,
      "metadata": {
        "id": "xQzCA3QZYQ09"
      },
      "outputs": [],
      "source": [
        "with torch.no_grad():\n",
        "    weight -= weight.grad * 1e-5\n",
        "    bias -= bias.grad * 1e-5\n",
        "    weight.grad.zero_()\n",
        "    bias.grad.zero_()"
      ]
    },
    {
      "cell_type": "code",
      "execution_count": 14,
      "metadata": {
        "colab": {
          "base_uri": "https://localhost:8080/"
        },
        "id": "1IgF9ONRYcUg",
        "outputId": "24028b02-c93d-4171-b3da-40c142e7c6f6"
      },
      "outputs": [
        {
          "name": "stdout",
          "output_type": "stream",
          "text": [
            "tensor(5993.5747, grad_fn=<DivBackward0>)\n"
          ]
        }
      ],
      "source": [
        "prediction = model(inputs)\n",
        "loss = mse(prediction, targets)\n",
        "print(loss)"
      ]
    },
    {
      "cell_type": "code",
      "execution_count": 15,
      "metadata": {
        "id": "rQF0Ai2IYfez"
      },
      "outputs": [],
      "source": [
        "for i in range(100):\n",
        "    prediction = model(inputs)\n",
        "    loss = mse(prediction, targets)\n",
        "    loss.backward()\n",
        "    with torch.no_grad():\n",
        "        weight -= weight.grad * 1e-5\n",
        "        bias -= bias.grad * 1e-5\n",
        "        weight.grad.zero_()\n",
        "        bias.grad.zero_()"
      ]
    },
    {
      "cell_type": "code",
      "execution_count": 16,
      "metadata": {
        "colab": {
          "base_uri": "https://localhost:8080/"
        },
        "id": "n8YNYTJbYi21",
        "outputId": "db122fb1-1fa6-4a74-81f3-c99cd9d44a61"
      },
      "outputs": [
        {
          "name": "stdout",
          "output_type": "stream",
          "text": [
            "tensor(459.4715, grad_fn=<DivBackward0>)\n"
          ]
        }
      ],
      "source": [
        "prediction = model(inputs)\n",
        "loss = mse(prediction, targets)\n",
        "print(loss)"
      ]
    },
    {
      "cell_type": "code",
      "execution_count": 17,
      "metadata": {
        "colab": {
          "base_uri": "https://localhost:8080/"
        },
        "id": "FT-h_BmMYpBG",
        "outputId": "926bebd9-7753-4ac5-c5d7-aa90b972e2d9"
      },
      "outputs": [
        {
          "data": {
            "text/plain": [
              "tensor([[ 64.8929,  58.9821],\n",
              "        [ 84.5650,  69.8854],\n",
              "        [100.9033, 143.7943],\n",
              "        [ 66.7419,  30.4835],\n",
              "        [ 79.1673,  74.9564]], grad_fn=<AddBackward0>)"
            ]
          },
          "execution_count": 17,
          "metadata": {},
          "output_type": "execute_result"
        }
      ],
      "source": [
        "prediction"
      ]
    },
    {
      "cell_type": "code",
      "execution_count": 18,
      "metadata": {
        "colab": {
          "base_uri": "https://localhost:8080/"
        },
        "id": "sMBM8btgYtgA",
        "outputId": "ee709870-702a-45bc-bc92-0d9bd1ca8ee9"
      },
      "outputs": [
        {
          "data": {
            "text/plain": [
              "tensor([[ 56.],\n",
              "        [ 81.],\n",
              "        [119.],\n",
              "        [ 22.],\n",
              "        [103.]])"
            ]
          },
          "execution_count": 18,
          "metadata": {},
          "output_type": "execute_result"
        }
      ],
      "source": [
        "targets"
      ]
    },
    {
      "cell_type": "markdown",
      "metadata": {
        "id": "XFuurbN0cg3_"
      },
      "source": [
        "# **Linear regression using PyTorch built-ins**"
      ]
    },
    {
      "cell_type": "markdown",
      "metadata": {
        "id": "qHpTmak8ay2o"
      },
      "source": [
        "### Define DataLoader"
      ]
    },
    {
      "cell_type": "code",
      "execution_count": 19,
      "metadata": {
        "id": "99dQSvh5a1tA"
      },
      "outputs": [],
      "source": [
        "import numpy as np\n",
        "import torch"
      ]
    },
    {
      "cell_type": "code",
      "execution_count": 20,
      "metadata": {
        "id": "iZSAv4F2bFIv"
      },
      "outputs": [],
      "source": [
        "# Targets (apples, oranges)\n",
        "inputs = np.array([[73, 67, 43], \n",
        "                   [91, 88, 64], \n",
        "                   [87, 134, 58], \n",
        "                   [102, 43, 37], \n",
        "                   [69, 96, 70]], dtype='float32')"
      ]
    },
    {
      "cell_type": "code",
      "execution_count": 21,
      "metadata": {
        "id": "DsL-P0r4bIA-"
      },
      "outputs": [],
      "source": [
        "# Targets (apples, oranges)\n",
        "targets = np.array([[56, 70], \n",
        "                    [81, 101], \n",
        "                    [119, 133], \n",
        "                    [22, 37], \n",
        "                    [103, 119]], dtype='float32')"
      ]
    },
    {
      "cell_type": "code",
      "execution_count": 22,
      "metadata": {
        "id": "zWwuPHGabKi9"
      },
      "outputs": [],
      "source": [
        "inputs = torch.from_numpy(inputs)\n",
        "targets = torch.from_numpy(targets)"
      ]
    },
    {
      "cell_type": "code",
      "execution_count": 23,
      "metadata": {
        "id": "ZqEJYvXHbPXR"
      },
      "outputs": [],
      "source": [
        "from torch.utils.data import TensorDataset"
      ]
    },
    {
      "cell_type": "code",
      "execution_count": 24,
      "metadata": {
        "colab": {
          "base_uri": "https://localhost:8080/"
        },
        "id": "jvWs-ICLbR_7",
        "outputId": "244cee57-0c8e-44ac-df59-7ce6d79c6c35"
      },
      "outputs": [
        {
          "data": {
            "text/plain": [
              "(tensor([[ 73.,  67.,  43.],\n",
              "         [ 91.,  88.,  64.],\n",
              "         [ 87., 134.,  58.]]), tensor([[ 56.,  70.],\n",
              "         [ 81., 101.],\n",
              "         [119., 133.]]))"
            ]
          },
          "execution_count": 24,
          "metadata": {},
          "output_type": "execute_result"
        }
      ],
      "source": [
        "train_ds = TensorDataset(inputs, targets)\n",
        "train_ds[0:3]"
      ]
    },
    {
      "cell_type": "code",
      "execution_count": 25,
      "metadata": {
        "id": "efM0Z8dfbVZX"
      },
      "outputs": [],
      "source": [
        "from torch.utils.data import DataLoader"
      ]
    },
    {
      "cell_type": "code",
      "execution_count": 26,
      "metadata": {
        "id": "dV4G7fZvbYIg"
      },
      "outputs": [],
      "source": [
        "batch_size = 5\n",
        "train_dl = DataLoader(train_ds, batch_size, shuffle=True)"
      ]
    },
    {
      "cell_type": "code",
      "execution_count": 27,
      "metadata": {
        "colab": {
          "base_uri": "https://localhost:8080/"
        },
        "id": "6xpYz8O_bbR7",
        "outputId": "d5f76ec2-5156-4777-9c95-1136e847bcbc"
      },
      "outputs": [
        {
          "name": "stdout",
          "output_type": "stream",
          "text": [
            "tensor([[ 87., 134.,  58.],\n",
            "        [ 69.,  96.,  70.],\n",
            "        [ 73.,  67.,  43.],\n",
            "        [ 91.,  88.,  64.],\n",
            "        [102.,  43.,  37.]])\n",
            "tensor([[119., 133.],\n",
            "        [103., 119.],\n",
            "        [ 56.,  70.],\n",
            "        [ 81., 101.],\n",
            "        [ 22.,  37.]])\n"
          ]
        }
      ],
      "source": [
        "for xb, yb in train_dl:\n",
        "    print(xb)\n",
        "    print(yb)\n",
        "    break"
      ]
    },
    {
      "cell_type": "markdown",
      "metadata": {
        "id": "IchrTRLGbi3p"
      },
      "source": [
        "### nn.Linear"
      ]
    },
    {
      "cell_type": "code",
      "execution_count": 28,
      "metadata": {
        "id": "YF3FWUGZblzi"
      },
      "outputs": [],
      "source": [
        "import torch.nn as nn"
      ]
    },
    {
      "cell_type": "code",
      "execution_count": 29,
      "metadata": {
        "colab": {
          "base_uri": "https://localhost:8080/"
        },
        "id": "6SzyZOpjbqNW",
        "outputId": "eb9045a6-881b-4e1b-81e4-e0a57e8cb698"
      },
      "outputs": [
        {
          "name": "stdout",
          "output_type": "stream",
          "text": [
            "Parameter containing:\n",
            "tensor([[-0.1854,  0.1230,  0.3273],\n",
            "        [-0.5317,  0.2306,  0.3448]], requires_grad=True)\n",
            "Parameter containing:\n",
            "tensor([ 0.3782, -0.1723], requires_grad=True)\n"
          ]
        }
      ],
      "source": [
        "model = nn.Linear(3, 2)\n",
        "print(model.weight)\n",
        "print(model.bias)"
      ]
    },
    {
      "cell_type": "code",
      "execution_count": 30,
      "metadata": {
        "colab": {
          "base_uri": "https://localhost:8080/"
        },
        "id": "h2KyYnVJcXVX",
        "outputId": "475bca67-5b10-4851-fc98-99f488155638"
      },
      "outputs": [
        {
          "data": {
            "text/plain": [
              "[Parameter containing:\n",
              " tensor([[-0.1854,  0.1230,  0.3273],\n",
              "         [-0.5317,  0.2306,  0.3448]], requires_grad=True),\n",
              " Parameter containing:\n",
              " tensor([ 0.3782, -0.1723], requires_grad=True)]"
            ]
          },
          "execution_count": 30,
          "metadata": {},
          "output_type": "execute_result"
        }
      ],
      "source": [
        "list(model.parameters())"
      ]
    },
    {
      "cell_type": "code",
      "execution_count": 31,
      "metadata": {
        "colab": {
          "base_uri": "https://localhost:8080/"
        },
        "id": "GfQIeNyDcjs9",
        "outputId": "7fcd2f4c-dd0e-426f-f7c8-c6567c63e78e"
      },
      "outputs": [
        {
          "data": {
            "text/plain": [
              "tensor([[  9.1541,  -8.7107],\n",
              "        [ 15.2720,  -6.1978],\n",
              "        [ 19.7056,   4.4669],\n",
              "        [ -1.1381, -31.7334],\n",
              "        [ 22.2989,   9.4136]], grad_fn=<AddmmBackward0>)"
            ]
          },
          "execution_count": 31,
          "metadata": {},
          "output_type": "execute_result"
        }
      ],
      "source": [
        "preds = model(inputs)\n",
        "preds"
      ]
    },
    {
      "cell_type": "markdown",
      "metadata": {
        "id": "smiU8sKheDEF"
      },
      "source": [
        "### loss functions"
      ]
    },
    {
      "cell_type": "code",
      "execution_count": 32,
      "metadata": {
        "id": "1qafR4z0eFvd"
      },
      "outputs": [],
      "source": [
        "import torch.nn.functional as F"
      ]
    },
    {
      "cell_type": "code",
      "execution_count": 33,
      "metadata": {
        "id": "TxuuWd01ebiN"
      },
      "outputs": [],
      "source": [
        "loss_fn = F.mse_loss"
      ]
    },
    {
      "cell_type": "code",
      "execution_count": 34,
      "metadata": {
        "colab": {
          "base_uri": "https://localhost:8080/"
        },
        "id": "V_cuN2Egeeci",
        "outputId": "58151956-dd25-4cfe-8d2c-85958f79983b"
      },
      "outputs": [
        {
          "name": "stdout",
          "output_type": "stream",
          "text": [
            "tensor(7436.3096, grad_fn=<MseLossBackward0>)\n"
          ]
        }
      ],
      "source": [
        "loss = loss_fn(model(inputs), targets)\n",
        "print(loss)"
      ]
    },
    {
      "cell_type": "markdown",
      "metadata": {
        "id": "V0ziKLk_euxN"
      },
      "source": [
        "### Optimizer"
      ]
    },
    {
      "cell_type": "code",
      "execution_count": 35,
      "metadata": {
        "id": "1zl5lv_wewrA"
      },
      "outputs": [],
      "source": [
        "opt = torch.optim.SGD(model.parameters(), lr=1e-5)"
      ]
    },
    {
      "cell_type": "markdown",
      "metadata": {
        "id": "ioVRiAg0e2CI"
      },
      "source": [
        "### Train for multiple epochs"
      ]
    },
    {
      "cell_type": "code",
      "execution_count": 36,
      "metadata": {
        "id": "GpuAq9Pke4Xo"
      },
      "outputs": [],
      "source": [
        "def fit(num_epochs, model, loss_fn, opt, train_dl):\n",
        "    \n",
        "    # Repeat for given number of epochs\n",
        "    for epoch in range(num_epochs):\n",
        "        \n",
        "        # Train with batches of data\n",
        "        for xb,yb in train_dl:\n",
        "            \n",
        "            # 1. Generate predictions\n",
        "            pred = model(xb)\n",
        "            \n",
        "            # 2. Calculate loss\n",
        "            loss = loss_fn(pred, yb)\n",
        "            \n",
        "            # 3. Compute gradients\n",
        "            loss.backward()\n",
        "            \n",
        "            # 4. Update parameters using gradients\n",
        "            opt.step()\n",
        "            \n",
        "            # 5. Reset the gradients to zero\n",
        "            opt.zero_grad()\n",
        "        \n",
        "        # Print the progress\n",
        "        if (epoch+1) % 10 == 0:\n",
        "            print('Epoch [{}/{}], Loss: {:.4f}'.format(epoch+1, num_epochs, loss.item()))"
      ]
    },
    {
      "cell_type": "code",
      "execution_count": 37,
      "metadata": {
        "colab": {
          "base_uri": "https://localhost:8080/"
        },
        "id": "-hvVAKYCfP8o",
        "outputId": "f00d924f-825a-446a-c0b7-4269ba3322e4"
      },
      "outputs": [
        {
          "name": "stdout",
          "output_type": "stream",
          "text": [
            "Epoch [10/100], Loss: 353.8226\n",
            "Epoch [20/100], Loss: 132.4756\n",
            "Epoch [30/100], Loss: 113.6313\n",
            "Epoch [40/100], Loss: 100.4299\n",
            "Epoch [50/100], Loss: 88.8629\n",
            "Epoch [60/100], Loss: 78.6709\n",
            "Epoch [70/100], Loss: 69.6886\n",
            "Epoch [80/100], Loss: 61.7719\n",
            "Epoch [90/100], Loss: 54.7938\n",
            "Epoch [100/100], Loss: 48.6422\n"
          ]
        }
      ],
      "source": [
        "fit(100, model, loss_fn, opt, train_dl)"
      ]
    },
    {
      "cell_type": "code",
      "execution_count": 38,
      "metadata": {
        "colab": {
          "base_uri": "https://localhost:8080/"
        },
        "id": "_ZeE6V1egA9n",
        "outputId": "5f90f218-3c7a-413d-ecfb-615c070e32e5"
      },
      "outputs": [
        {
          "data": {
            "text/plain": [
              "tensor([[ 60.0885,  71.4699],\n",
              "        [ 83.6137,  99.8239],\n",
              "        [110.7949, 133.0162],\n",
              "        [ 37.6460,  43.7612],\n",
              "        [ 94.7764, 113.6960]], grad_fn=<AddmmBackward0>)"
            ]
          },
          "execution_count": 38,
          "metadata": {},
          "output_type": "execute_result"
        }
      ],
      "source": [
        "prediction = model(inputs)\n",
        "prediction"
      ]
    },
    {
      "cell_type": "code",
      "execution_count": 39,
      "metadata": {
        "colab": {
          "base_uri": "https://localhost:8080/"
        },
        "id": "cOnl_jwjgEC2",
        "outputId": "46d94034-79ec-4d7e-e471-1a7c026b2b90"
      },
      "outputs": [
        {
          "data": {
            "text/plain": [
              "tensor([[ 56.,  70.],\n",
              "        [ 81., 101.],\n",
              "        [119., 133.],\n",
              "        [ 22.,  37.],\n",
              "        [103., 119.]])"
            ]
          },
          "execution_count": 39,
          "metadata": {},
          "output_type": "execute_result"
        }
      ],
      "source": [
        "targets"
      ]
    },
    {
      "cell_type": "code",
      "execution_count": 40,
      "metadata": {
        "colab": {
          "base_uri": "https://localhost:8080/"
        },
        "id": "HGyL1Y7qgG7L",
        "outputId": "719e0671-b7ae-4f06-cde9-175d6307270d"
      },
      "outputs": [
        {
          "data": {
            "text/plain": [
              "tensor([[57.8043, 68.6569]], grad_fn=<AddmmBackward0>)"
            ]
          },
          "execution_count": 40,
          "metadata": {},
          "output_type": "execute_result"
        }
      ],
      "source": [
        "model(torch.tensor([[75, 63, 44.]]))"
      ]
    }
  ],
  "metadata": {
    "colab": {
      "collapsed_sections": [],
      "name": "CE101_ML_Lab4.ipynb",
      "provenance": []
    },
    "kernelspec": {
      "display_name": "Python 3",
      "name": "python3"
    },
    "language_info": {
      "name": "python"
    }
  },
  "nbformat": 4,
  "nbformat_minor": 0
}
